{
 "cells": [
  {
   "cell_type": "markdown",
   "id": "ea18241a-0aef-4033-b24e-8000f7eba689",
   "metadata": {},
   "source": [
    "# Chap 3 回帰分析と最小二乗法\n",
    "\n",
    "\n",
    "![](https://m.media-amazon.com/images/I/51+dt08QnxL._SY346_.jpg)"
   ]
  },
  {
   "cell_type": "code",
   "execution_count": 1,
   "id": "993bd7e0-2329-431b-999d-ae10361a57bb",
   "metadata": {},
   "outputs": [
    {
     "ename": "NameError",
     "evalue": "name 'np' is not defined",
     "output_type": "error",
     "traceback": [
      "\u001b[1;31m---------------------------------------------------------------------------\u001b[0m",
      "\u001b[1;31mNameError\u001b[0m                                 Traceback (most recent call last)",
      "Input \u001b[1;32mIn [1]\u001b[0m, in \u001b[0;36m<cell line: 1>\u001b[1;34m()\u001b[0m\n\u001b[1;32m----> 1\u001b[0m U, Sigma, VT \u001b[38;5;241m=\u001b[39m \u001b[43mnp\u001b[49m\u001b[38;5;241m.\u001b[39mlinalg\u001b[38;5;241m.\u001b[39msvd(X, full_matrices\u001b[38;5;241m=\u001b[39m\u001b[38;5;28;01mFalse\u001b[39;00m)\n\u001b[0;32m      2\u001b[0m U, Sigma, VT\n",
      "\u001b[1;31mNameError\u001b[0m: name 'np' is not defined"
     ]
    }
   ],
   "source": [
    "U, Sigma, VT = np.linalg.svd(X, full_matrices=False)\n",
    "U, Sigma, VT"
   ]
  },
  {
   "cell_type": "code",
   "execution_count": null,
   "id": "c9540c23-4d3b-4272-bd13-cce29ffaa6c0",
   "metadata": {},
   "outputs": [],
   "source": [
    "U.shape, Sigma.shape, VT.shape"
   ]
  },
  {
   "cell_type": "code",
   "execution_count": null,
   "id": "5b9c1447-1b88-4809-a8d8-5c9889860a59",
   "metadata": {},
   "outputs": [],
   "source": [
    "U @ np.diag(Sigma) @ VT"
   ]
  },
  {
   "cell_type": "code",
   "execution_count": null,
   "id": "6ea499b4-ccc8-48ab-8629-78a80729e4ac",
   "metadata": {},
   "outputs": [],
   "source": []
  },
  {
   "cell_type": "markdown",
   "id": "68fe0e9d-6224-49e6-aca6-bae1abc092a3",
   "metadata": {},
   "source": [
    "# 3.2 最小二乗法\n",
    "\n",
    "p53 (3.16)\n",
    "\n",
    "$$\n",
    "\\begin{aligned}\n",
    "X\\beta &= y \\\\\n",
    "X^T X \\hat{\\beta} &= X^T y \\\\\n",
    "\\hat{\\beta} &= (X^T X)^{-1} X^T y\n",
    "\\end{aligned}\n",
    "$$\n",
    "\n",
    "<hr>\n",
    "p56 (3.22)\n",
    "\n",
    "$$\n",
    "\\begin{aligned}\n",
    "\\hat{y} &= X \\hat{\\beta} \\\\\n",
    "\\hat{y} &= X (X^T X)^{-1} X^T y \\\\\n",
    "\\hat{y} &= P y \\ \\ \\ \\ (\\because P= X (X^T X)^{-1} X^T \\ \\ 射影行列 )\\\\\n",
    "\\end{aligned}\n",
    "$$\n",
    "\n",
    "<hr>\n",
    "\n",
    "p56 (3.23)\n",
    "\n",
    "$$\n",
    "\\begin{aligned}\n",
    "P &= X (X^T X)^{-1} X^T \\ \\\\ \\\\\n",
    "P^2 &= PP \\\\\n",
    "&= (X (X^T X)^{-1} X^T) \\ (X (X^T X)^{-1} X^T) \\\\\n",
    "&= X \\ (X^T X)^{-1} (X^T X ) \\ (X^T X)^{-1} \\ X^T \\\\\n",
    "&= X  (X^T X)^{-1}  X^T \\\\\n",
    "&= P \\\\\n",
    "\\end{aligned}\n",
    "$$\n"
   ]
  },
  {
   "cell_type": "markdown",
   "id": "f5b62cf4-ad57-4d60-80cb-aa1d8bf0baf3",
   "metadata": {},
   "source": [
    "### プログラム3.2 最小二乗法の数値例 (p54)"
   ]
  },
  {
   "cell_type": "code",
   "execution_count": 1,
   "id": "06b92a81-c0ff-4c72-8ebe-eff0ac012280",
   "metadata": {},
   "outputs": [
    {
     "name": "stdout",
     "output_type": "stream",
     "text": [
      "[[ 0.3635]\n",
      " [ 0.4162]\n",
      " [-0.3468]]\n",
      "[ 0.7242]\n"
     ]
    }
   ],
   "source": [
    "import numpy as np\n",
    "from linear_regression import least_squares , ls_est\n",
    "\n",
    "np.set_printoptions(formatter={'float':'{: .4f}'.format})\n",
    "\n",
    "# データを定義します\n",
    "X = np.array([[0.01, 0.50, -0.12],\n",
    "\t\t\t[0.97, -0.63, 0.02],\n",
    "\t\t\t[0.41, 1.15, -1.17],\n",
    "\t\t\t[-1.38, -1.02, 1.27]])\n",
    "\n",
    "y = np.array([[0.25], [0.08], [1.03], [-1.37]])\n",
    "x = np.array([1, 0.7, -0.2])\n",
    "\n",
    "\n",
    "# 回帰係数を求めます．\n",
    "beta = least_squares(X, y)\n",
    "print(beta)\n",
    "# [[ 0.36347065]\n",
    "# [ 0.41624871]\n",
    "# [-0.34677593]]\n",
    "# 未知サンプルから出力を予測します\n",
    "y_hat = ls_est(x, beta)\n",
    "print(y_hat)\n",
    "# [0.7241999]"
   ]
  },
  {
   "cell_type": "markdown",
   "id": "f8e4b370-4182-4b77-b3fa-0dac582dc71d",
   "metadata": {},
   "source": [
    "### numpy from scratch (TODO)"
   ]
  },
  {
   "cell_type": "code",
   "execution_count": null,
   "id": "36313603-e0f2-4336-8ba4-afa991d72614",
   "metadata": {},
   "outputs": [],
   "source": []
  },
  {
   "cell_type": "code",
   "execution_count": null,
   "id": "cbd23de7-d307-4f4c-b240-c1e6f8d7738c",
   "metadata": {},
   "outputs": [],
   "source": []
  },
  {
   "cell_type": "markdown",
   "id": "fef4a64b-4441-49fb-a528-54bce24ad199",
   "metadata": {},
   "source": [
    "### sklearn.linear_model.LinearRegression"
   ]
  },
  {
   "cell_type": "code",
   "execution_count": 2,
   "id": "5ab9c627-3212-4fdb-bb8c-9c04e796064b",
   "metadata": {},
   "outputs": [],
   "source": [
    "from sklearn.linear_model import LinearRegression"
   ]
  },
  {
   "cell_type": "code",
   "execution_count": 3,
   "id": "462acb9a-fd03-4bb5-8d75-8e87342de093",
   "metadata": {},
   "outputs": [],
   "source": [
    "lr = LinearRegression(fit_intercept=True)"
   ]
  },
  {
   "cell_type": "code",
   "execution_count": 4,
   "id": "b33c5278-73b1-43f4-8532-4d00ad18b152",
   "metadata": {},
   "outputs": [
    {
     "data": {
      "text/plain": [
       "LinearRegression()"
      ]
     },
     "execution_count": 4,
     "metadata": {},
     "output_type": "execute_result"
    }
   ],
   "source": [
    "lr.fit(X,y)"
   ]
  },
  {
   "cell_type": "code",
   "execution_count": 5,
   "id": "1ed0052c-78e8-41e2-ab01-6e2ad0a811ba",
   "metadata": {},
   "outputs": [
    {
     "data": {
      "text/plain": [
       "(array([[ 0.3636,  0.4164, -0.3466]]), array([-0.0034]))"
      ]
     },
     "execution_count": 5,
     "metadata": {},
     "output_type": "execute_result"
    }
   ],
   "source": [
    "lr.coef_, lr.intercept_"
   ]
  },
  {
   "cell_type": "code",
   "execution_count": null,
   "id": "3bf12054-b71b-452f-9b9e-844f43c57680",
   "metadata": {},
   "outputs": [],
   "source": []
  },
  {
   "cell_type": "markdown",
   "id": "9473b134-3f2c-481c-ae64-ef929c8430b2",
   "metadata": {},
   "source": [
    "# 3.7 多重共線性の問題"
   ]
  },
  {
   "cell_type": "code",
   "execution_count": null,
   "id": "990912da-29fb-4ffe-8fcc-e1d38d0bf0fb",
   "metadata": {},
   "outputs": [],
   "source": []
  },
  {
   "cell_type": "markdown",
   "id": "50613c21-42d3-41f3-9b2f-b396f5cd237d",
   "metadata": {},
   "source": [
    "### プログラム3.3 多重共線性がないデータの場合 (p65)"
   ]
  },
  {
   "cell_type": "code",
   "execution_count": 6,
   "id": "cf5d48c6-444e-4513-94af-e7adb8d19fdd",
   "metadata": {},
   "outputs": [
    {
     "name": "stdout",
     "output_type": "stream",
     "text": [
      "[[ 0.3635]\n",
      " [ 0.4162]\n",
      " [-0.3468]]\n",
      "[[ 0.3727]\n",
      " [ 0.4138]\n",
      " [-0.3425]]\n",
      "[[ 0.0200 -0.0200  0.0000]\n",
      " [ 0.0100  0.0100 -0.0100]\n",
      " [-0.0200  0.0100  0.0000]\n",
      " [ 0.0000 -0.0100  0.0000]]\n"
     ]
    }
   ],
   "source": [
    "import numpy as np\n",
    "from linear_regression import least_squares\n",
    "\n",
    "# データを定義します\n",
    "X1 = np.array( [[0.01, 0.50, -0.12],\n",
    "                [0.97, -0.63, 0.02],\n",
    "                [0.41, 1.15, -1.17],\n",
    "                [-1.38, -1.02, 1.27]])\n",
    "X2 = np.array( [[-0.01, 0.52, -0.12],\n",
    "                [0.96, -0.64, 0.03],\n",
    "                [0.43, 1.14, -1.17],\n",
    "                [-1.38, -1.01, 1.27]])\n",
    "\n",
    "y = np.array ([[0.25], [0.08], [1.03], [-1.37]])\n",
    "\n",
    "\n",
    "# X1，X2それぞれでの回帰係数を計算します\n",
    "beta1 = least_squares(X1, y)\n",
    "print(beta1)\n",
    "# [[ 0.36347065]\n",
    "# [ 0.41624871]\n",
    "# [-0.34677593]]\n",
    "beta2 = least_squares(X2, y)\n",
    "print(beta2)\n",
    "# [[ 0.37270979]\n",
    "# [ 0.41379869]\n",
    "# [-0.34252764]]\n",
    "print(X1 - X2)"
   ]
  },
  {
   "cell_type": "markdown",
   "id": "ecb26ee2-b449-4d9a-b1a8-09eef95ee38f",
   "metadata": {
    "tags": []
   },
   "source": [
    "#### 行列の条件数 $\\kappa(A)$"
   ]
  },
  {
   "cell_type": "code",
   "execution_count": 7,
   "id": "feaa407b-1881-4d05-9c27-a29e4d34ccd9",
   "metadata": {},
   "outputs": [
    {
     "data": {
      "text/plain": [
       "(135.75293858717927, 133.39346575985206)"
      ]
     },
     "execution_count": 7,
     "metadata": {},
     "output_type": "execute_result"
    }
   ],
   "source": [
    "np.linalg.cond(X1.T@X1), np.linalg.cond(X2.T@X2),"
   ]
  },
  {
   "cell_type": "code",
   "execution_count": null,
   "id": "ffad5317-eb62-4db8-8023-55d187707ad3",
   "metadata": {},
   "outputs": [],
   "source": []
  },
  {
   "cell_type": "markdown",
   "id": "6841b9c0-f6e8-462a-926f-4284d610db80",
   "metadata": {},
   "source": [
    "### sklearn.linear_model.LinearRegression"
   ]
  },
  {
   "cell_type": "code",
   "execution_count": 8,
   "id": "06821c26-e52e-484c-b94c-09e5412c5581",
   "metadata": {},
   "outputs": [
    {
     "data": {
      "text/plain": [
       "(array([[ 0.3636,  0.4164, -0.3466]]), array([-0.0034]))"
      ]
     },
     "execution_count": 8,
     "metadata": {},
     "output_type": "execute_result"
    }
   ],
   "source": [
    "lr = LinearRegression()\n",
    "lr.fit(X1, y)\n",
    "lr.coef_, lr.intercept_"
   ]
  },
  {
   "cell_type": "code",
   "execution_count": 9,
   "id": "4ec7d75d-46bf-4ef8-9661-b3662a8076b9",
   "metadata": {},
   "outputs": [
    {
     "data": {
      "text/plain": [
       "(array([[ 0.3729,  0.4142, -0.3420]]), array([-0.0027]))"
      ]
     },
     "execution_count": 9,
     "metadata": {},
     "output_type": "execute_result"
    }
   ],
   "source": [
    "lr = LinearRegression()\n",
    "lr.fit(X2, y)\n",
    "lr.coef_, lr.intercept_"
   ]
  },
  {
   "cell_type": "markdown",
   "id": "c290b818-9218-4503-941f-bb4f3dacb26f",
   "metadata": {},
   "source": [
    "### プログラム3.4 多重共線性があるデータの場合 (p67)"
   ]
  },
  {
   "cell_type": "code",
   "execution_count": 10,
   "id": "ca0b8193-83c3-44b8-8023-b8cb42c01ef1",
   "metadata": {},
   "outputs": [
    {
     "name": "stdout",
     "output_type": "stream",
     "text": [
      "[[ 0.5450]\n",
      " [ 0.2409]\n",
      " [ 1.6404]]\n",
      "[[-0.4279]\n",
      " [-2.8630]\n",
      " [-2.2030]]\n"
     ]
    }
   ],
   "source": [
    "import numpy as np\n",
    "from linear_regression import least_squares\n",
    "\n",
    "# データを定義します\n",
    "X1 = np.array( [[-1.12, -0.51, 0.69],\n",
    "                [-0.43, -1.12, 1.02],\n",
    "                [0.37, 1.10, -0.98],\n",
    "                [1.19, 0.53, -0.73]])\n",
    "\n",
    "X2 = np.array( [[-1.12, -0.51, 0.70],\n",
    "                [-0.43, -1.12, 1.01],\n",
    "                [0.36, 1.10, -0.98],\n",
    "                [1.20, 0.53, -0.73]])\n",
    "\n",
    "y = np.array([0.4, 1.17, -1.14, -0.42])\n",
    "\n",
    "# X1，X2それぞれでの回帰係数を計算します\n",
    "beta1 = least_squares(X1, y)\n",
    "print(beta1)\n",
    "# [[0.54496962]\n",
    "# [0.24094799]\n",
    "# [1.64044474]]\n",
    "\n",
    "beta2 = least_squares(X2, y)\n",
    "print(beta2)\n",
    "# [[-0.42794288]\n",
    "# [-2.86298696]\n",
    "# [-2.2029719 ]]"
   ]
  },
  {
   "cell_type": "code",
   "execution_count": 11,
   "id": "ff2a4e44-edd3-4777-8142-71865743f309",
   "metadata": {},
   "outputs": [
    {
     "data": {
      "text/plain": [
       "array([[ 0.0000,  0.0000, -0.0100],\n",
       "       [ 0.0000,  0.0000,  0.0100],\n",
       "       [ 0.0100,  0.0000,  0.0000],\n",
       "       [-0.0100,  0.0000,  0.0000]])"
      ]
     },
     "execution_count": 11,
     "metadata": {},
     "output_type": "execute_result"
    }
   ],
   "source": [
    "X1 - X2"
   ]
  },
  {
   "cell_type": "markdown",
   "id": "6daffaa5-c217-4af9-aadc-1851015be1b8",
   "metadata": {},
   "source": [
    "#### 行列の条件数 $\\kappa(A)$"
   ]
  },
  {
   "cell_type": "code",
   "execution_count": 12,
   "id": "39cff9c5-09f5-471c-818e-842d7caeb727",
   "metadata": {},
   "outputs": [
    {
     "data": {
      "text/plain": [
       "(235456.75658580603, 470649.97301951883)"
      ]
     },
     "execution_count": 12,
     "metadata": {},
     "output_type": "execute_result"
    }
   ],
   "source": [
    "np.linalg.cond(X1.T@X1), np.linalg.cond(X2.T@X2),"
   ]
  },
  {
   "cell_type": "code",
   "execution_count": null,
   "id": "94980a0e-2c5b-475f-931e-eef221499be1",
   "metadata": {},
   "outputs": [],
   "source": []
  },
  {
   "cell_type": "markdown",
   "id": "b10c3f30-d6c1-49c7-9ee4-6c5e3e28f518",
   "metadata": {},
   "source": [
    "# 3.8 サンプル数が入力変数の数よりも少ない場合\n",
    "\n",
    "- 方程式の数より未知数が多いのだから、普通の方程式では解けるはずがない\n",
    "\n",
    "$$\n",
    "\\begin{bmatrix}\n",
    "x_{11} & x_{12} & x_{13} \\\\\n",
    "x_{21} & x_{22} & x_{23}\n",
    "\\end{bmatrix}\n",
    "\\begin{bmatrix}\n",
    "\\beta_1 \\\\\n",
    "\\beta_2 \\\\\n",
    "\\beta_3 \\\\\n",
    "\\end{bmatrix} =\n",
    "\\begin{bmatrix}\n",
    "y_1 \\\\\n",
    "y_2 \\\\\n",
    "y_3 \\\\\n",
    "\\end{bmatrix}\n",
    "$$\n",
    "\n",
    "- 一方、よく見る最小二乗法の問題では、未知数より方程式の和の方が多い、やはり、普通の方程式の解き方とは違う\n",
    "\n",
    "$$\n",
    "\\begin{bmatrix}\n",
    "x_{11} & x_{12} & x_{13} \\\\\n",
    "x_{23} & x_{22} & x_{23} \\\\\n",
    "x_{31} & x_{32} & x_{33} \\\\\n",
    "x_{41} & x_{42} & x_{43} \\\\\n",
    "x_{51} & x_{52} & x_{53} \\\\\n",
    "x_{61} & x_{67} & x_{63} \\\\\n",
    "x_{71} & x_{72} & x_{73} \\\\\n",
    "x_{81} & x_{82} & x_{83} \\\\\n",
    "x_{91} & x_{92} & x_{93}\n",
    "\\end{bmatrix}\n",
    "\\begin{bmatrix}\n",
    "\\beta_1 \\\\\n",
    "\\beta_2 \\\\\n",
    "\\beta_3 \\\\\n",
    "\\end{bmatrix} =\n",
    "\\begin{bmatrix}\n",
    "y_1 \\\\\n",
    "y_2 \\\\\n",
    "y_3 \\\\\n",
    "\\end{bmatrix}\n",
    "$$"
   ]
  },
  {
   "cell_type": "code",
   "execution_count": null,
   "id": "a5ae633c-20e3-4b58-9482-e57195695dee",
   "metadata": {},
   "outputs": [],
   "source": []
  },
  {
   "cell_type": "markdown",
   "id": "e8c1acd6-ab1c-41f4-ad45-8f72271f07a3",
   "metadata": {},
   "source": [
    "# 3.9 擬似逆行列を用いる方法\n",
    "\n",
    "- $AA^+A = A$\n",
    "- $A^+AA^+ = A$\n",
    "- $(AA^+)^T = AA^+$\n",
    "- $(A^+A)^T = A^+A$\n",
    "\n",
    "\n",
    "$$\n",
    "\\beta^* = (X^T X)^+ X^T y\n",
    "$$"
   ]
  },
  {
   "cell_type": "code",
   "execution_count": 13,
   "id": "e2c9dbbc-e34c-4df5-8643-de081f35566c",
   "metadata": {},
   "outputs": [
    {
     "data": {
      "text/plain": [
       "array([[-0.9444,  0.4444],\n",
       "       [-0.1111,  0.1111],\n",
       "       [ 0.7222, -0.2222]])"
      ]
     },
     "execution_count": 13,
     "metadata": {},
     "output_type": "execute_result"
    }
   ],
   "source": [
    "A = np.array([[1, 2, 3],\n",
    "              [4, 5, 6]])\n",
    "\n",
    "A_ = np.linalg.pinv(A)\n",
    "A_"
   ]
  },
  {
   "cell_type": "code",
   "execution_count": 14,
   "id": "67e3f022-87c1-4bf3-aafb-a6f765252099",
   "metadata": {},
   "outputs": [
    {
     "data": {
      "text/plain": [
       "array([[ 1.0000,  2.0000,  3.0000],\n",
       "       [ 4.0000,  5.0000,  6.0000]])"
      ]
     },
     "execution_count": 14,
     "metadata": {},
     "output_type": "execute_result"
    }
   ],
   "source": [
    "# A A+ A = A\n",
    "A @ A_ @ A"
   ]
  },
  {
   "cell_type": "code",
   "execution_count": 15,
   "id": "33845644-83e6-46d6-ac60-5a09d3471208",
   "metadata": {},
   "outputs": [
    {
     "data": {
      "text/plain": [
       "array([[-0.9444,  0.4444],\n",
       "       [-0.1111,  0.1111],\n",
       "       [ 0.7222, -0.2222]])"
      ]
     },
     "execution_count": 15,
     "metadata": {},
     "output_type": "execute_result"
    }
   ],
   "source": [
    "# A+ A A+ = A+\n",
    "A_ @ A @ A_"
   ]
  },
  {
   "cell_type": "code",
   "execution_count": 16,
   "id": "b8ec636e-71e1-4c04-8951-2ad39847ed91",
   "metadata": {},
   "outputs": [
    {
     "data": {
      "text/plain": [
       "array([[ 1.0000,  0.0000],\n",
       "       [ 0.0000,  1.0000]])"
      ]
     },
     "execution_count": 16,
     "metadata": {},
     "output_type": "execute_result"
    }
   ],
   "source": [
    "# (A A+).T = A A+\n",
    "(A @ A_).T"
   ]
  },
  {
   "cell_type": "code",
   "execution_count": 17,
   "id": "04216af7-bed8-44c5-98ac-e44f1ddeca68",
   "metadata": {},
   "outputs": [
    {
     "data": {
      "text/plain": [
       "array([[ 0.8333,  0.3333, -0.1667],\n",
       "       [ 0.3333,  0.3333,  0.3333],\n",
       "       [-0.1667,  0.3333,  0.8333]])"
      ]
     },
     "execution_count": 17,
     "metadata": {},
     "output_type": "execute_result"
    }
   ],
   "source": [
    "# (A+ A).T = A+ A\n",
    "(A_ @ A).T"
   ]
  },
  {
   "cell_type": "code",
   "execution_count": 18,
   "id": "7e8a2b36-104d-4aa2-a7f5-7027b69caa59",
   "metadata": {},
   "outputs": [
    {
     "data": {
      "text/plain": [
       "array([[ 0.8333,  0.3333, -0.1667],\n",
       "       [ 0.3333,  0.3333,  0.3333],\n",
       "       [-0.1667,  0.3333,  0.8333]])"
      ]
     },
     "execution_count": 18,
     "metadata": {},
     "output_type": "execute_result"
    }
   ],
   "source": [
    "A_ @ A"
   ]
  },
  {
   "cell_type": "code",
   "execution_count": 19,
   "id": "7cda4711-4a55-4826-9fb3-520f6109e66f",
   "metadata": {},
   "outputs": [],
   "source": [
    "b = np.array([[3],\n",
    "             [6]])"
   ]
  },
  {
   "cell_type": "code",
   "execution_count": 20,
   "id": "02abdc22-484b-4380-8ddd-956cdf50c596",
   "metadata": {},
   "outputs": [
    {
     "data": {
      "text/plain": [
       "array([[-0.1667],\n",
       "       [ 0.3333],\n",
       "       [ 0.8333]])"
      ]
     },
     "execution_count": 20,
     "metadata": {},
     "output_type": "execute_result"
    }
   ],
   "source": [
    "beta = np.linalg.pinv(A.T @ A) @ A.T @ b\n",
    "beta"
   ]
  },
  {
   "cell_type": "code",
   "execution_count": null,
   "id": "bfa4b2e1-8807-416d-a05d-5adb656c8c41",
   "metadata": {},
   "outputs": [],
   "source": []
  },
  {
   "cell_type": "code",
   "execution_count": null,
   "id": "7603f24f-1a11-46cd-ad3b-a52c91e45ece",
   "metadata": {},
   "outputs": [],
   "source": []
  },
  {
   "cell_type": "code",
   "execution_count": 21,
   "id": "c325bf07-1a24-47f5-9f50-8891c0c32674",
   "metadata": {},
   "outputs": [
    {
     "data": {
      "text/plain": [
       "array([[ 0.2000],\n",
       "       [ 0.4000]])"
      ]
     },
     "execution_count": 21,
     "metadata": {},
     "output_type": "execute_result"
    }
   ],
   "source": [
    "A = np.array([[1, 2]])\n",
    "\n",
    "b = np.array([[2]])\n",
    "\n",
    "A_ = np.linalg.pinv(A)\n",
    "A_"
   ]
  },
  {
   "cell_type": "code",
   "execution_count": 22,
   "id": "1c1be233-e0e6-4ae8-a757-e6207e7eebad",
   "metadata": {},
   "outputs": [
    {
     "data": {
      "text/plain": [
       "array([[ 0.4000],\n",
       "       [ 0.8000]])"
      ]
     },
     "execution_count": 22,
     "metadata": {},
     "output_type": "execute_result"
    }
   ],
   "source": [
    "beta = np.linalg.pinv(A.T @ A) @ A.T @ b\n",
    "beta"
   ]
  },
  {
   "cell_type": "code",
   "execution_count": null,
   "id": "b19905f3-dba2-40bf-9e60-fc99796d48cf",
   "metadata": {},
   "outputs": [],
   "source": []
  },
  {
   "cell_type": "code",
   "execution_count": null,
   "id": "ad97fbfa-c5c2-4c08-812d-3da9d2a2d6e6",
   "metadata": {},
   "outputs": [],
   "source": []
  },
  {
   "cell_type": "markdown",
   "id": "dcccd923-ab9d-4ae5-baac-86b5c0b27e0c",
   "metadata": {},
   "source": [
    "# 3.10 主成分回帰 (PCR) (p72)\n",
    "\n",
    "- [Principal Component Regression vs Partial Least Squares Regression](https://scikit-learn.org/stable/auto_examples/cross_decomposition/plot_pcr_vs_pls.html)"
   ]
  },
  {
   "cell_type": "markdown",
   "id": "4da58aab-1852-4b1d-abd2-08196c595e25",
   "metadata": {},
   "source": [
    "### プログラム3.5 RCR（linear_regression.py） (p73)"
   ]
  },
  {
   "cell_type": "code",
   "execution_count": 10,
   "id": "39850af1-3622-49e1-814b-3fb1bcaa41a8",
   "metadata": {},
   "outputs": [],
   "source": [
    "import numpy as np\n",
    "from linear_regression import least_squares\n",
    "from pca import pca\n",
    "\n",
    "def pcr(X, y, R):\n",
    "    \"\"\"\n",
    "    PCR を用いて回帰係数を計算します．ラメータ\n",
    "    ----------\n",
    "    X: 入力データ\n",
    "    y: 出力データ\n",
    "    R: 主成分の数\n",
    "    戻り値\n",
    "    -------\n",
    "    beta: 回帰係数\n",
    "    \"\"\"\n",
    "    # yをベクトル化します\n",
    "    y = y.reshape(-1, 1)\n",
    "    # 主成分分析を行います\n",
    "    P, T = pca(X)\n",
    "    # R番目までの主成分得点行列を取り出します\n",
    "    T = T[:,:R]\n",
    "    # 最小二乗法により回帰係数を求めます\n",
    "    beta_R = least_squares(T, y)\n",
    "    beta = P[:,:R] @ beta_R\n",
    "    return beta"
   ]
  },
  {
   "cell_type": "markdown",
   "id": "62c3fdb6-e8e6-4c08-9d97-9e3a3891df9f",
   "metadata": {},
   "source": [
    "### プログラム3.6 主成分数を2 とした場合 (p74)"
   ]
  },
  {
   "cell_type": "code",
   "execution_count": 11,
   "id": "02205df7-07db-4328-98b6-6d66ebfd96f6",
   "metadata": {},
   "outputs": [
    {
     "name": "stdout",
     "output_type": "stream",
     "text": [
      "[[ 0.25849154]\n",
      " [-0.68874152]\n",
      " [ 0.49387146]]\n",
      "[[ 0.25929082]\n",
      " [-0.69212429]\n",
      " [ 0.49149105]]\n"
     ]
    }
   ],
   "source": [
    "# データを定義します\n",
    "X1 = np.array( [[-1.12, -0.51, 0.69],\n",
    "                [-0.43, -1.12, 1.02],\n",
    "                [0.37, 1.10, -0.98],\n",
    "                [1.19, 0.53, -0.73]])\n",
    "\n",
    "X2 = np.array( [[-1.12, -0.51, 0.70],\n",
    "                [-0.43, -1.12, 1.01],\n",
    "                [0.36, 1.10, -0.98],\n",
    "                [1.20, 0.53, -0.73]])\n",
    "\n",
    "y = np.array ([[0.4], [1.17], [-1.14], [-0.42]])\n",
    "\n",
    "#主成分数を2に設定します\n",
    "R = 2\n",
    "beta1 = pcr(X1, y, R)\n",
    "print(beta1)\n",
    "# [[ 0.25849154]\n",
    "# [-0.68874152]\n",
    "# [ 0.49387146]]\n",
    "beta2 = pcr(X2, y, R)\n",
    "print(beta2)\n",
    "# [[ 0.25929082]\n",
    "# [-0.69212429]\n",
    "# [ 0.49149105]]"
   ]
  },
  {
   "cell_type": "markdown",
   "id": "03be0e0e-7452-4367-8896-9d9676dd38b2",
   "metadata": {},
   "source": [
    "### プログラム3.7 主成分数を1 とした場合 (p75)"
   ]
  },
  {
   "cell_type": "code",
   "execution_count": 12,
   "id": "77b55e76-7668-432e-a210-a06c80872075",
   "metadata": {},
   "outputs": [
    {
     "name": "stdout",
     "output_type": "stream",
     "text": [
      "[[-0.30313539]\n",
      " [-0.32858522]\n",
      " [ 0.34217102]]\n",
      "[[-0.30335458]\n",
      " [-0.32755389]\n",
      " [ 0.34127419]]\n"
     ]
    }
   ],
   "source": [
    "# 主成分数を1 に設定します\n",
    "R = 1\n",
    "beta1 = pcr(X1, y, R)\n",
    "print(beta1)\n",
    "# [[-0.30313539]\n",
    "# [-0.32858522]\n",
    "# [ 0.34217102]]\n",
    "beta2 = pcr(X2, y, R)\n",
    "print(beta2)\n",
    "# [[-0.30335458]\n",
    "# [-0.32755389]\n",
    "# [ 0.34127419]]"
   ]
  },
  {
   "cell_type": "code",
   "execution_count": null,
   "id": "a5118a02-3750-43e1-907d-d6a95e49b6d9",
   "metadata": {},
   "outputs": [],
   "source": []
  },
  {
   "cell_type": "markdown",
   "id": "6dcc3ea8-dca9-4d5b-b4bb-a9248fd9fcdf",
   "metadata": {},
   "source": [
    "### MyPCR (from scratch)"
   ]
  },
  {
   "cell_type": "code",
   "execution_count": 16,
   "id": "77de8867-10bf-46f7-ae09-9c211746ec73",
   "metadata": {},
   "outputs": [],
   "source": [
    "from sklearn.base import TransformerMixin, BaseEstimator\n",
    "from sklearn.decomposition import PCA\n",
    "from sklearn.linear_model import LinearRegression\n",
    "\n",
    "class MyPCR(TransformerMixin, BaseEstimator):\n",
    "    def __init__(self, n_components):\n",
    "        self.n_components = n_components\n",
    "        self.pca = PCA(n_components=n_components)\n",
    "        self.regression = LinearRegression()\n",
    "    def fit(self, X, y=None):\n",
    "        self.pca.fit(X)\n",
    "        X_reduced = self.pca.transform(X)\n",
    "        X_returned = self.pca.inverse_transform(X_reduced)\n",
    "        self.regression.fit(X_returned,y)\n",
    "        self.coef_ = self.regression.coef_\n",
    "        self.intercept_ = self.regression.intercept_\n",
    "        return self\n",
    "    def predict(self, X):\n",
    "        X_reduced = self.pca.transform(X)\n",
    "        X_returned = self.pca.inverse_transform(X_reduced)\n",
    "        return self.regression.predict(X_returned)"
   ]
  },
  {
   "cell_type": "code",
   "execution_count": 17,
   "id": "f9562804-2247-41f9-8f60-ef585de4dac4",
   "metadata": {},
   "outputs": [],
   "source": [
    "# データを定義します\n",
    "X1 = np.array([[-1.12, -0.51, 0.69],\n",
    "\t\t\t[-0.43, -1.12, 1.02],\n",
    "\t\t\t[0.37, 1.10, -0.98],\n",
    "\t\t\t[1.19, 0.53, -0.73]])\n",
    "\n",
    "X2 = np.array([[-1.12, -0.51, 0.70],\n",
    "\t\t\t[-0.43, -1.12, 1.01],\n",
    "\t\t\t[0.36, 1.10, -0.98],\n",
    "\t\t\t[1.20, 0.53, -0.73]])\n",
    "\n",
    "y = np.array([0.4, 1.17, -1.14, -0.42])#.reshape(-1.1)\n",
    "y = y.reshape(-1,1)"
   ]
  },
  {
   "cell_type": "code",
   "execution_count": 18,
   "id": "c838f881-bd9e-430f-81f0-5f587eea2b40",
   "metadata": {},
   "outputs": [
    {
     "data": {
      "text/plain": [
       "array([[ 0.25847827, -0.68873417,  0.49386882]])"
      ]
     },
     "execution_count": 18,
     "metadata": {},
     "output_type": "execute_result"
    }
   ],
   "source": [
    "pcr = MyPCR(n_components=2)\n",
    "pcr.fit(X1,y)\n",
    "pcr.coef_"
   ]
  },
  {
   "cell_type": "code",
   "execution_count": 19,
   "id": "d9757d0b-4ba1-4faf-b668-391b99015f57",
   "metadata": {},
   "outputs": [
    {
     "data": {
      "text/plain": [
       "array([[ 0.25927779, -0.69211701,  0.49148851]])"
      ]
     },
     "execution_count": 19,
     "metadata": {},
     "output_type": "execute_result"
    }
   ],
   "source": [
    "pcr = MyPCR(n_components=2)\n",
    "pcr.fit(X2,y)\n",
    "pcr.coef_"
   ]
  },
  {
   "cell_type": "code",
   "execution_count": null,
   "id": "dd41fb9b-3ec2-4df4-9531-548a54406c5a",
   "metadata": {},
   "outputs": [],
   "source": []
  },
  {
   "cell_type": "markdown",
   "id": "33c3781d-063e-4799-86cd-3be531cdd477",
   "metadata": {},
   "source": [
    "## 3.11 リッジ回帰"
   ]
  },
  {
   "cell_type": "markdown",
   "id": "2aae3be3-b0f0-4b1d-824d-d4e846740510",
   "metadata": {},
   "source": [
    "### プログラム3.8 リッジ回帰（linear_regression） (p77)"
   ]
  },
  {
   "cell_type": "code",
   "execution_count": 20,
   "id": "596131a2-bbd0-4900-84b7-b2d93fcabc07",
   "metadata": {},
   "outputs": [],
   "source": [
    "def ridge(X, y, mu=0.1):\n",
    "    \"\"\"\n",
    "    リッジ回帰を用いて回帰係数を計算します. \n",
    "\n",
    "    パラメータ\n",
    "    ----------\n",
    "    X: 入力データ\n",
    "    y: 出力データ\n",
    "    mu: パラメータ(デフォルト: 0.1)\n",
    "\n",
    "    戻り値\n",
    "    -------\n",
    "    beta_ridge: 回帰係数\n",
    "    \"\"\"\n",
    "    # yをベクトル化します\n",
    "    y = y.reshape(-1, 1)\n",
    "\n",
    "    # リッジ回帰の回帰係数を求めます\n",
    "    I = np.eye(X.shape [1])\n",
    "    beta_ridge = np.linalg.inv(X.T @ X + mu * I)@ X.T @ y\n",
    "    return beta_ridge"
   ]
  },
  {
   "cell_type": "markdown",
   "id": "da888698-5e1b-41a6-ad99-eca35d37e9bb",
   "metadata": {},
   "source": [
    "### プログラム3.9 リッジ回帰の数値例 (p79)"
   ]
  },
  {
   "cell_type": "code",
   "execution_count": 21,
   "id": "ede3de69-3d3d-46ed-91d1-c06b7317ed24",
   "metadata": {},
   "outputs": [
    {
     "name": "stdout",
     "output_type": "stream",
     "text": [
      "[[ 0.21088992]\n",
      " [-0.65139114]\n",
      " [ 0.47615414]]\n",
      "[[ 0.21198147]\n",
      " [-0.65545325]\n",
      " [ 0.47322964]]\n"
     ]
    }
   ],
   "source": [
    "# パラメータを0.1に設定します\n",
    "mu = 0.1\n",
    "beta1 = ridge(X1, y, mu)\n",
    "print(beta1)\n",
    "# [[ 0.21088992]\n",
    "# [-0.65139114]\n",
    "# [ 0.47615414]]\n",
    "beta2 = ridge(X2, y, mu)\n",
    "print(beta2)\n",
    "\n",
    "# [[ 0.21198147]\n",
    "# [-0.65545325]\n",
    "# [ 0.47322964]]"
   ]
  },
  {
   "cell_type": "code",
   "execution_count": 22,
   "id": "27b8af2c-91eb-4994-8844-daa4413bb4b3",
   "metadata": {},
   "outputs": [
    {
     "name": "stdout",
     "output_type": "stream",
     "text": [
      "[[ 0.01017256]\n",
      " [-0.47145393]\n",
      " [ 0.3798    ]]\n",
      "[[ 0.01227368]\n",
      " [-0.47396013]\n",
      " [ 0.37864896]]\n"
     ]
    }
   ],
   "source": [
    "# パラメータを1に設定します\n",
    "mu = 1\n",
    "beta1 = ridge(X1, y, mu)\n",
    "print(beta1)\n",
    "\n",
    "# [[ 0.01017256]\n",
    "# [-0.47145393]\n",
    "# [ 0.3798 ]]\n",
    "\n",
    "beta2 = ridge(X2, y, mu)\n",
    "print(beta2)\n",
    "\n",
    "# [[ 0.01227368]\n",
    "# [-0.47396013]\n",
    "# [ 0.37864896]]"
   ]
  },
  {
   "cell_type": "code",
   "execution_count": null,
   "id": "fc0f3936-df44-4f69-8165-9a73cdecec53",
   "metadata": {},
   "outputs": [],
   "source": []
  },
  {
   "cell_type": "markdown",
   "id": "ec03a15f-9453-4e48-9ad1-ff8312014503",
   "metadata": {},
   "source": [
    "### sklearn.linear_model.Ridge"
   ]
  },
  {
   "cell_type": "code",
   "execution_count": 23,
   "id": "e09e9570-0cce-47b9-929b-246f992bed45",
   "metadata": {},
   "outputs": [],
   "source": [
    "from sklearn.linear_model import Ridge"
   ]
  },
  {
   "cell_type": "code",
   "execution_count": 24,
   "id": "d84d26cb-2daf-4005-bbe2-081142b5c89c",
   "metadata": {},
   "outputs": [
    {
     "data": {
      "text/plain": [
       "(array([[ 0.21086988, -0.65140733,  0.476123  ]]), array([0.00197283]))"
      ]
     },
     "execution_count": 24,
     "metadata": {},
     "output_type": "execute_result"
    }
   ],
   "source": [
    "ridge = Ridge(alpha=0.1)\n",
    "ridge.fit(X1, y)\n",
    "ridge.coef_, ridge.intercept_"
   ]
  },
  {
   "cell_type": "code",
   "execution_count": 25,
   "id": "a9cd62d4-e8f6-4a22-aba5-7b2e7d46a327",
   "metadata": {},
   "outputs": [
    {
     "data": {
      "text/plain": [
       "(array([[ 0.21196132, -0.65546988,  0.47319793]]), array([0.0019701]))"
      ]
     },
     "execution_count": 25,
     "metadata": {},
     "output_type": "execute_result"
    }
   ],
   "source": [
    "ridge = Ridge(alpha=0.1)\n",
    "ridge.fit(X2, y)\n",
    "ridge.coef_, ridge.intercept_"
   ]
  },
  {
   "cell_type": "code",
   "execution_count": 26,
   "id": "71f38e96-cfa6-47fb-a596-7352ae382061",
   "metadata": {},
   "outputs": [
    {
     "data": {
      "text/plain": [
       "(array([[ 0.01016249, -0.47145234,  0.37979504]]), array([0.00247459]))"
      ]
     },
     "execution_count": 26,
     "metadata": {},
     "output_type": "execute_result"
    }
   ],
   "source": [
    "ridge = Ridge(alpha=1)\n",
    "ridge.fit(X1, y)\n",
    "ridge.coef_, ridge.intercept_"
   ]
  },
  {
   "cell_type": "code",
   "execution_count": 27,
   "id": "c4cf663a-e8f0-4207-b7ce-edf959c188dc",
   "metadata": {},
   "outputs": [
    {
     "data": {
      "text/plain": [
       "array([[ 0.01226369, -0.4739586 ,  0.37864398]])"
      ]
     },
     "execution_count": 27,
     "metadata": {},
     "output_type": "execute_result"
    }
   ],
   "source": [
    "ridge = Ridge(alpha=1)\n",
    "ridge.fit(X2, y)\n",
    "ridge.coef_"
   ]
  },
  {
   "cell_type": "code",
   "execution_count": null,
   "id": "ac344092-15e5-4508-beb5-f22a836e7ac3",
   "metadata": {},
   "outputs": [],
   "source": []
  },
  {
   "cell_type": "markdown",
   "id": "b7b96fdb-05cf-42b5-820a-c27d56c0fbd3",
   "metadata": {},
   "source": [
    "### MyRidge (from scratch) TODO\n",
    "\n",
    "$$\n",
    "\\beta_{ridge} = (X^T X + \\mu I)^{-1} X^T y \\tag{3.91}\n",
    "$$"
   ]
  },
  {
   "cell_type": "code",
   "execution_count": 44,
   "id": "50bf0071-36f4-462e-be1c-70ef1c8c16f4",
   "metadata": {},
   "outputs": [],
   "source": [
    "import numpy as np\n",
    "from sklearn.base import TransformerMixin, BaseEstimator\n",
    "from sklearn.decomposition import PCA\n",
    "\n",
    "class MyRidge(TransformerMixin, BaseEstimator):\n",
    "    def __init__(self, mu=0.1):\n",
    "        self.mu = mu\n",
    "        self.beta = None\n",
    "        \n",
    "    def fit(self, X, y):\n",
    "        m, n = X.shape\n",
    "        self.beta = np.linalg.inv(X.T @ X + mu*np.eye(n)) @ X.T @ y\n",
    "        return self\n",
    "    def predict(self, X):\n",
    "        return X @self.beta"
   ]
  },
  {
   "cell_type": "code",
   "execution_count": 49,
   "id": "b5e4f9de-386c-42dd-82f8-f4066ac7a5f0",
   "metadata": {},
   "outputs": [],
   "source": [
    "ridge = MyRidge(mu=1)"
   ]
  },
  {
   "cell_type": "code",
   "execution_count": 50,
   "id": "6114e9bb-0a8b-4cb9-8663-971e26895288",
   "metadata": {},
   "outputs": [
    {
     "data": {
      "text/plain": [
       "MyRidge(mu=1)"
      ]
     },
     "execution_count": 50,
     "metadata": {},
     "output_type": "execute_result"
    }
   ],
   "source": [
    "ridge.fit(X1, y)"
   ]
  },
  {
   "cell_type": "code",
   "execution_count": 51,
   "id": "8e825d39-f7f7-44a3-b0fd-67e7505171a5",
   "metadata": {},
   "outputs": [
    {
     "data": {
      "text/plain": [
       "array([[ 0.01017256],\n",
       "       [-0.47145393],\n",
       "       [ 0.3798    ]])"
      ]
     },
     "execution_count": 51,
     "metadata": {},
     "output_type": "execute_result"
    }
   ],
   "source": [
    "ridge.beta"
   ]
  },
  {
   "cell_type": "code",
   "execution_count": null,
   "id": "b0d65e2f-1824-4e5c-b3d9-c5d713efa1c6",
   "metadata": {},
   "outputs": [],
   "source": []
  },
  {
   "cell_type": "code",
   "execution_count": null,
   "id": "b149e72c-d5c2-4bbc-a322-8d74f1b2b467",
   "metadata": {},
   "outputs": [],
   "source": []
  },
  {
   "cell_type": "markdown",
   "id": "dd229961-c4ca-43e9-af1f-8e257f9d1483",
   "metadata": {},
   "source": [
    "## 3.12 部分的最小二乗法 (PLS)"
   ]
  },
  {
   "cell_type": "markdown",
   "id": "bc55f4ec-ae79-4848-9348-b31c9f650232",
   "metadata": {},
   "source": [
    "### プログラム3.10 NIPALS によるPLS1（linear_regression.py）(p86)"
   ]
  },
  {
   "cell_type": "code",
   "execution_count": 40,
   "id": "39c9775c-3fdf-4155-ac95-b636d215189e",
   "metadata": {},
   "outputs": [],
   "source": [
    "def nipals_pls1(X, y, R):\n",
    "    \"\"\"\n",
    "    NIPALS アルゴリズムを用いて回帰係数を計算します (PLS1).\n",
    "\n",
    "    パラメータ\n",
    "    ----------\n",
    "    X: 入力データ\n",
    "    y: 出力データ\n",
    "    R: 潜在変数の数\n",
    "\n",
    "    戻り値\n",
    "    -------\n",
    "    beta: 回帰係数\n",
    "    W, P, D: PLS 1 モデルのパラメータ\n",
    "    T: 潜在変数\n",
    "    \"\"\"\n",
    "\n",
    "    # yをベクトル化します\n",
    "    y = y.reshape(-1, 1)\n",
    "\n",
    "    # パラメータを保存する変数を作成します\n",
    "    W = np.zeros((X.shape [1], R))\n",
    "    P = np.zeros((X.shape [1], R))\n",
    "    D = np.zeros((R, 1))\n",
    "    T = np.zeros((X.shape [0], R))\n",
    "\n",
    "    # NIPALS を計算します\n",
    "    for r in range(R):\n",
    "        # 重みを求めます\n",
    "        w = (X.T @ y)/ np.linalg.norm(X.T @ y)\n",
    "        # 潜在変数を計算します\n",
    "        t = X @ w\n",
    "        # ローディングベクトルを求めます\n",
    "        p =(X.T @ t)/(t.T @ t)\n",
    "        # 回帰係数を求めます\n",
    "        d =(t.T @ y)/(t.T @ t)\n",
    "        # デフレーションを行います\n",
    "        X = X - t.reshape(-1, 1) @ p.T\n",
    "        y = y - t @ d\n",
    "        # パラメータを格納します\n",
    "        W[:,r] = w.T\n",
    "        P[:,r] = p.T\n",
    "        D[r] = d.T\n",
    "        T[:,r] = t.T\n",
    "\n",
    "    # 回帰係数を計算します\n",
    "    beta = W @ np.linalg.inv(P.T @ W)@ D\n",
    "    return beta, W, P, D, T"
   ]
  },
  {
   "cell_type": "markdown",
   "id": "ae437b39-0b46-4068-9612-f716d3544b6c",
   "metadata": {},
   "source": [
    "### プログラム3.11 PLS1 の数値例 (p87)"
   ]
  },
  {
   "cell_type": "code",
   "execution_count": 41,
   "id": "180c7269-14ee-4338-b752-8e4b6c69ae0e",
   "metadata": {},
   "outputs": [
    {
     "name": "stdout",
     "output_type": "stream",
     "text": [
      "[[ 0.2585]\n",
      " [-0.6887]\n",
      " [ 0.4939]]\n",
      "[[ 0.2593]\n",
      " [-0.6922]\n",
      " [ 0.4914]]\n"
     ]
    }
   ],
   "source": [
    "# 潜在変数が2 のとき\n",
    "R = 2\n",
    "# beta1 = nipals_pls1(X1, y, R)\n",
    "beta1, _, _, _, _  = nipals_pls1(X1, y, R)\n",
    "print(beta1)\n",
    "\n",
    "# [[ 0.25850307]\n",
    "# [-0.68870411]\n",
    "# [ 0.4939176 ]]\n",
    "\n",
    "\n",
    "# beta2 = nipals_pls1(X2, y, R)\n",
    "beta2, _, _, _, _ = nipals_pls1(X2, y, R)\n",
    "print(beta2)\n",
    "\n",
    "# [[ 0.25927822]\n",
    "# [-0.69216413]\n",
    "# [ 0.49144161]]"
   ]
  },
  {
   "cell_type": "code",
   "execution_count": 42,
   "id": "65b5fbf7-f8f6-4f65-859b-9de0f73a156a",
   "metadata": {},
   "outputs": [
    {
     "name": "stdout",
     "output_type": "stream",
     "text": [
      "[[-0.2383]\n",
      " [-0.3805]\n",
      " [ 0.3681]]\n",
      "[[-0.2376]\n",
      " [-0.3809]\n",
      " [ 0.3675]]\n"
     ]
    }
   ],
   "source": [
    "# 潜在変数が1 のとき\n",
    "R = 1\n",
    "# beta1 = nipals_pls1(X1, y, R)\n",
    "beta1, _, _, _, _  = nipals_pls1(X1, y, R)\n",
    "print(beta1)\n",
    "\n",
    "# [[-0.23825147]\n",
    "# [-0.38052552]\n",
    "# [ 0.36808306]]\n",
    "\n",
    "# beta2 = nipals_pls1(X2, y, R)\n",
    "beta2, _, _, _, _  = nipals_pls1(X2, y, R)\n",
    "print(beta2)\n",
    "\n",
    "# [[-0.23758087]\n",
    "# [-0.38091899]\n",
    "# [ 0.36748303]]"
   ]
  },
  {
   "cell_type": "code",
   "execution_count": null,
   "id": "00b5c1a5-a885-4986-be32-ee2515e7d1e2",
   "metadata": {},
   "outputs": [],
   "source": []
  },
  {
   "cell_type": "markdown",
   "id": "17957d7a-d481-4b01-81b4-7fc4654cbe64",
   "metadata": {},
   "source": [
    "### sklearn.cross_decomposition.PLSRegression (SHOWME)"
   ]
  },
  {
   "cell_type": "code",
   "execution_count": 43,
   "id": "0d79c396-26ff-4356-afd1-ae5648f0dc32",
   "metadata": {},
   "outputs": [],
   "source": [
    "from sklearn.cross_decomposition import PLSRegression"
   ]
  },
  {
   "cell_type": "code",
   "execution_count": 44,
   "id": "2baa2784-7875-4072-a26d-b7b6681e7e96",
   "metadata": {},
   "outputs": [
    {
     "data": {
      "text/plain": [
       "array([[-0.2388],\n",
       "       [-0.3806],\n",
       "       [ 0.3679]])"
      ]
     },
     "execution_count": 44,
     "metadata": {},
     "output_type": "execute_result"
    }
   ],
   "source": [
    "pls = PLSRegression(n_components=1)\n",
    "pls.fit(X1, y)\n",
    "pls.coef_"
   ]
  },
  {
   "cell_type": "code",
   "execution_count": 45,
   "id": "8f870ab9-1f2f-4e75-b412-063ea59a226f",
   "metadata": {},
   "outputs": [
    {
     "data": {
      "text/plain": [
       "array([[-0.2377],\n",
       "       [-0.3813],\n",
       "       [ 0.3680]])"
      ]
     },
     "execution_count": 45,
     "metadata": {},
     "output_type": "execute_result"
    }
   ],
   "source": [
    "pls = PLSRegression(n_components=1)\n",
    "pls.fit(X2, y)\n",
    "pls.coef_"
   ]
  },
  {
   "cell_type": "code",
   "execution_count": null,
   "id": "e9495cf2-f57a-4ac8-8adb-ca2651b0e482",
   "metadata": {},
   "outputs": [],
   "source": []
  },
  {
   "cell_type": "code",
   "execution_count": 46,
   "id": "d8a61485-0d89-4570-a6fd-2136035179e6",
   "metadata": {},
   "outputs": [
    {
     "data": {
      "text/plain": [
       "array([[-0.2388],\n",
       "       [-0.3806],\n",
       "       [ 0.3679]])"
      ]
     },
     "execution_count": 46,
     "metadata": {},
     "output_type": "execute_result"
    }
   ],
   "source": [
    "pls = PLSRegression(n_components=1)\n",
    "pls.fit(X1, y)\n",
    "pls.coef_"
   ]
  },
  {
   "cell_type": "code",
   "execution_count": 47,
   "id": "db14ee23-0665-466e-8439-69e7b7027fba",
   "metadata": {},
   "outputs": [
    {
     "data": {
      "text/plain": [
       "array([[-0.2377],\n",
       "       [-0.3813],\n",
       "       [ 0.3680]])"
      ]
     },
     "execution_count": 47,
     "metadata": {},
     "output_type": "execute_result"
    }
   ],
   "source": [
    "pls = PLSRegression(n_components=1)\n",
    "pls.fit(X2, y)\n",
    "pls.coef_"
   ]
  },
  {
   "cell_type": "code",
   "execution_count": null,
   "id": "10539ade-583c-463c-9ddc-d56a1d763561",
   "metadata": {},
   "outputs": [],
   "source": []
  },
  {
   "cell_type": "markdown",
   "id": "0b2c09cc-5cfb-4d89-9c03-33928de5b9ac",
   "metadata": {},
   "source": [
    "# 3.16 出力変数が複数ある場合 (PLS2) (p89)"
   ]
  },
  {
   "cell_type": "markdown",
   "id": "8d87a1b2-1208-4a49-99ad-cd28571855d9",
   "metadata": {},
   "source": [
    "### プログラム3.12 NIPALS によるPLS2（linear_regression.py） (p93)"
   ]
  },
  {
   "cell_type": "code",
   "execution_count": 48,
   "id": "4b268ba5-3709-4671-98fd-136e8a2be112",
   "metadata": {},
   "outputs": [],
   "source": [
    "# PLS 2 本体の関数\n",
    "def nipals_pls2(X, Y, R, epsilon=0.01):\n",
    "    \"\"\"\n",
    "    NIPALS アルゴリズムを用いて回帰係数を計算します（PLS2）．\n",
    "\n",
    "    パラメータ\n",
    "    ----------\n",
    "    X: 入力データ\n",
    "    Y: 出力データ\n",
    "    R: 潜在変数の数\n",
    "    epsilon: （デフォルト: 0.01）\n",
    "\n",
    "    戻り値\n",
    "    -------\n",
    "    beta: 回帰係数\n",
    "    W, P, Q: PLS 2 モデルのパラメータ\n",
    "    T: 潜在変数\n",
    "    \"\"\"\n",
    "\n",
    "    # パラメータを保存する変数を作成します\n",
    "    W = np.zeros((X.shape [1], R))\n",
    "    P = np.zeros((X.shape [1], R))\n",
    "    Q = np.zeros((Y.shape [1], R))\n",
    "    T = np.zeros((X.shape [0], R))\n",
    "\n",
    "    for r in range(R):\n",
    "        # アルゴリズム2 よりw, c, t を求めます\n",
    "        w, c, t = calc_parameter(X, Y, epsilon)\n",
    "        # ローディングベクトルを求めます\n",
    "        p =(X.T @ t)/(t.T @ t)\n",
    "        # 回帰係数を求めます\n",
    "        q =(Y.T @ t)/(t.T @ t)\n",
    "        # デフレーションを行います\n",
    "        X = X - np.outer(t, p)\n",
    "        Y = Y - np.outer(t, q)\n",
    "        # パラメータを保存します\n",
    "        W[:,r] = w\n",
    "        P[:,r] = p\n",
    "        Q[:,r] = q\n",
    "        T[:,r] = t\n",
    "\n",
    "    # 回帰係数を計算します\n",
    "    beta = W @ np.linalg.inv(P.T @ W)@ Q.T\n",
    "\n",
    "    return beta, W, P, Q, T\n",
    "\n",
    "\n",
    "# アルゴリズム2 を計算する関数\n",
    "def calc_parameter(X, Y, epsilon):\n",
    "    u = Y[:,0]\n",
    "    while True :\n",
    "        # 重みベクトルw を更新します\n",
    "        w = X.T @ u / np.linalg.norm(X.T @ u)\n",
    "        # 潜在変数t を更新します\n",
    "        t = X @ w\n",
    "        # 重みベクトルc を更新します\n",
    "        c = Y.T @ t /np.linalg.norm(Y.T @ t)\n",
    "        # 潜在変数u を更新します\n",
    "        u_new = Y @ c\n",
    "        # 収束判定を行います\n",
    "        if np.linalg.norm(u_new - u) < epsilon: break\n",
    "        u = u_new\n",
    "    return w, c, t"
   ]
  },
  {
   "cell_type": "code",
   "execution_count": null,
   "id": "3ee9072f-4c4c-4f8e-bc73-5efcd0e7c989",
   "metadata": {},
   "outputs": [],
   "source": []
  },
  {
   "cell_type": "code",
   "execution_count": null,
   "id": "e158a9ee-a788-4477-ab51-63956cb2abf8",
   "metadata": {},
   "outputs": [],
   "source": []
  },
  {
   "cell_type": "markdown",
   "id": "97ab0e29-b365-4250-bfbc-553766e79db7",
   "metadata": {},
   "source": [
    "### プログラム3.13 SIMPLS によるPLS（linear_regression.py） (p96)"
   ]
  },
  {
   "cell_type": "code",
   "execution_count": 49,
   "id": "2aac72b5-c4e2-4fdc-9ce9-cea3654fccb5",
   "metadata": {},
   "outputs": [],
   "source": [
    "def simpls(X, Y, R):\n",
    "    \"\"\"\n",
    "    SIMPLS アルゴリズムを用いて回帰係数を計算します. \n",
    "\n",
    "    パラメータ\n",
    "    ----------\n",
    "    X: 入力データ\n",
    "    Y: 出力データ\n",
    "    R: 潜在変数の数\n",
    "\n",
    "    戻り値\n",
    "    -------\n",
    "    beta: 回帰係数\n",
    "    W, P, Q: PLS 1 モデルのパラメータ\n",
    "    T, U: 潜在変数\n",
    "    cont: 寄与率\n",
    "    \"\"\"\n",
    "    # yをベクトル化します\n",
    "    Y = Y.reshape(-1, 1)\n",
    "\n",
    "    # パラメータを保存する変数を作成します\n",
    "    W = np.zeros((X.shape [1], R))\n",
    "    P = np.zeros((X.shape [1], R))\n",
    "    Q = np.zeros((Y.shape [1], R))\n",
    "    T = np.zeros((X.shape [0], R))\n",
    "    U = np.zeros((Y.shape [0], R))\n",
    "    ssq = np.zeros([R,2])\n",
    "    ssqX = np.sum(X**2)\n",
    "    ssqY = np.sum(Y**2)\n",
    "\n",
    "    for r in range(R):\n",
    "        # 特異値分をします\n",
    "        u, s, v = np.linalg.svd(Y.T @ X)\n",
    "        # 最大特異値に対応する右特異値ベクトルを求めます\n",
    "        w = v[0,:].T\n",
    "        # 潜在変数t を求めます\n",
    "        t = X @ w\n",
    "        # ローディングベクトルを求めます\n",
    "        p =(X.T @ t)/(t.T @ t)\n",
    "        # 回帰係数　q　を求めます\n",
    "        q =(Y.T @ t)/(t.T @ t)\n",
    "        # 潜在変数u を求めます\n",
    "        u = Y @ q\n",
    "        # デフレーションを行います\n",
    "        X = X - np.outer(t, p)\n",
    "        Y = Y - np.outer(t, q)\n",
    "        ssq [r,0] = np.sum(X**2)/ ssqX\n",
    "        ssq [r,1] = np.sum(Y**2)/ ssqY\n",
    "        # パラメータを保存します\n",
    "        W[:,r] = w.T\n",
    "        P[:,r] = p.T\n",
    "        Q[:,r] = q.T\n",
    "        T[:,r] = t.T\n",
    "        U[:,r] = u.T\n",
    "\n",
    "    # 回帰係数を計算します\n",
    "    beta = W @ np.linalg.inv(P.T @ W)@ Q.T\n",
    "\n",
    "    # 寄与率を計算します\n",
    "    cont = np.zeros([R,2])\n",
    "    cont [0,:] = 1 - ssq [0,:]\n",
    "    for r in range(1,R):\n",
    "        cont [r,:] = ssq [r-1,:] - ssq[r,:]\n",
    "\n",
    "    return beta, W, P, Q, T, U, cont"
   ]
  },
  {
   "cell_type": "markdown",
   "id": "9dbc9beb-33e0-40a3-94ae-4c2937a5ae3c",
   "metadata": {},
   "source": [
    "### プログラム3.14 SIMPLS の数値例 (p97)"
   ]
  },
  {
   "cell_type": "code",
   "execution_count": 50,
   "id": "befa5fbf-a5be-483a-86fb-c64b76a13996",
   "metadata": {},
   "outputs": [
    {
     "name": "stdout",
     "output_type": "stream",
     "text": [
      "[[ 0.2585]\n",
      " [-0.6887]\n",
      " [ 0.4939]]\n",
      "[[ 0.2593]\n",
      " [-0.6922]\n",
      " [ 0.4914]]\n"
     ]
    }
   ],
   "source": [
    "# 潜在変数が2のとき\n",
    "R = 2\n",
    "\n",
    "# beta1 = simpls(X1, y, R)\n",
    "beta1, _, _, _, _, _, _ = simpls(X1, y, R)\n",
    "print(beta1)\n",
    "# [[ 0.25850307]\n",
    "# [-0.68870411]\n",
    "# [ 0.4939176 ]]\n",
    "\n",
    "beta2, _, _, _, _, _, _ = simpls(X2, y, R)\n",
    "print(beta2)\n",
    "# [[ 0.25927822]\n",
    "# [-0.69216413]\n",
    "# [ 0.49144161]]"
   ]
  },
  {
   "cell_type": "code",
   "execution_count": 51,
   "id": "b584afb1-5803-4825-acb2-4272bdf581bb",
   "metadata": {},
   "outputs": [
    {
     "name": "stdout",
     "output_type": "stream",
     "text": [
      "[[-0.2383]\n",
      " [-0.3805]\n",
      " [ 0.3681]]\n",
      "[[-0.2376]\n",
      " [-0.3809]\n",
      " [ 0.3675]]\n"
     ]
    }
   ],
   "source": [
    "# 潜在変数が1のとき\n",
    "R = 1\n",
    "# beta1 = simpls(X1, y, R)\n",
    "beta1, _, _, _, _, _, _ = simpls(X1, y, R)\n",
    "print(beta1)\n",
    "# [[-0.23825147]\n",
    "# [-0.38052552]\n",
    "# [ 0.36808306]]\n",
    "\n",
    "# beta2 = simpls(X2, y, R)\n",
    "beta2, _, _, _, _, _, _ = simpls(X2, y, R)\n",
    "print(beta2)\n",
    "# [[-0.23758087]\n",
    "# [-0.38091899]\n",
    "# [ 0.36748303]]"
   ]
  },
  {
   "cell_type": "code",
   "execution_count": null,
   "id": "d0367060-0f74-4a0a-b039-80d37ddbe457",
   "metadata": {},
   "outputs": [],
   "source": []
  },
  {
   "cell_type": "markdown",
   "id": "5318d5ab-1915-454a-95b3-1eed3b2827fd",
   "metadata": {},
   "source": [
    "# 3.18 ハイパーパラメータの調整"
   ]
  },
  {
   "cell_type": "code",
   "execution_count": null,
   "id": "eb9bb609-be5a-41aa-b28e-ae4a34c1dd0a",
   "metadata": {},
   "outputs": [],
   "source": []
  },
  {
   "cell_type": "code",
   "execution_count": null,
   "id": "28789d46-3780-4b13-a78d-8f019e6a2b51",
   "metadata": {},
   "outputs": [],
   "source": []
  },
  {
   "cell_type": "markdown",
   "id": "7c66a11e-baf5-47c0-8fe8-eecf156ceeec",
   "metadata": {},
   "source": [
    "## SImpls"
   ]
  },
  {
   "cell_type": "code",
   "execution_count": null,
   "id": "de16b0e2-b429-4069-9bb1-5ca07cfe7ad5",
   "metadata": {},
   "outputs": [],
   "source": []
  },
  {
   "cell_type": "code",
   "execution_count": 52,
   "id": "4b997f5d-bfbe-413e-b27e-37624aa051ba",
   "metadata": {},
   "outputs": [
    {
     "data": {
      "text/plain": [
       "array([[ 0.2581],\n",
       "       [-0.6895],\n",
       "       [ 0.4945]])"
      ]
     },
     "execution_count": 52,
     "metadata": {},
     "output_type": "execute_result"
    }
   ],
   "source": [
    "pls = PLSRegression(n_components=2)\n",
    "pls.fit(X1, y)\n",
    "pls.coef_"
   ]
  },
  {
   "cell_type": "code",
   "execution_count": null,
   "id": "69b2887d-edee-428a-b432-c33a6e234f19",
   "metadata": {},
   "outputs": [],
   "source": []
  },
  {
   "cell_type": "code",
   "execution_count": null,
   "id": "fee5c96c-b8e6-4e27-ba3f-cf2a829ada9b",
   "metadata": {},
   "outputs": [],
   "source": []
  },
  {
   "cell_type": "markdown",
   "id": "c3105dea-bc11-4439-90c0-cbd8098d383f",
   "metadata": {},
   "source": [
    "# Last"
   ]
  },
  {
   "cell_type": "code",
   "execution_count": 53,
   "id": "19faea9e-434e-4013-8472-e2642fb909d4",
   "metadata": {},
   "outputs": [],
   "source": [
    "import numpy as np"
   ]
  },
  {
   "cell_type": "code",
   "execution_count": 54,
   "id": "30354879-c7b8-43f3-9ad3-dd7d01e9aa16",
   "metadata": {},
   "outputs": [
    {
     "data": {
      "text/plain": [
       "3.14159169865946"
      ]
     },
     "execution_count": 54,
     "metadata": {},
     "output_type": "execute_result"
    }
   ],
   "source": [
    "N = 1_000_000\n",
    "total = 0\n",
    "for i in range(1,N):\n",
    "    total += 6/i**2\n",
    "    \n",
    "np.sqrt(total)"
   ]
  },
  {
   "cell_type": "code",
   "execution_count": 55,
   "id": "88b3a823-7e78-490c-b093-9f3254417417",
   "metadata": {},
   "outputs": [
    {
     "data": {
      "text/plain": [
       "3.141592653589793"
      ]
     },
     "execution_count": 55,
     "metadata": {},
     "output_type": "execute_result"
    }
   ],
   "source": [
    "np.pi"
   ]
  },
  {
   "cell_type": "code",
   "execution_count": null,
   "id": "556fb2c2-02ae-4e7c-b84c-ac28083c88fd",
   "metadata": {},
   "outputs": [],
   "source": []
  }
 ],
 "metadata": {
  "kernelspec": {
   "display_name": "py38",
   "language": "python",
   "name": "py38"
  },
  "language_info": {
   "codemirror_mode": {
    "name": "ipython",
    "version": 3
   },
   "file_extension": ".py",
   "mimetype": "text/x-python",
   "name": "python",
   "nbconvert_exporter": "python",
   "pygments_lexer": "ipython3",
   "version": "3.8.12"
  },
  "toc-showmarkdowntxt": false
 },
 "nbformat": 4,
 "nbformat_minor": 5
}
