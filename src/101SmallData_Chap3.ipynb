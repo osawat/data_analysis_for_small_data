{
 "cells": [
  {
   "cell_type": "markdown",
   "id": "ea18241a-0aef-4033-b24e-8000f7eba689",
   "metadata": {},
   "source": [
    "# Chap 3 回帰分析と最小二乗法\n",
    "\n",
    "\n",
    "![](https://m.media-amazon.com/images/I/51+dt08QnxL._SY346_.jpg)"
   ]
  },
  {
   "cell_type": "markdown",
   "id": "5ed0bf45-7bd4-42c0-af75-01f4ba1e7d4d",
   "metadata": {},
   "source": [
    "# 3.1 回帰分析 (p49)\n",
    "\n",
    "- 重回帰モデル\n",
    "\n",
    "$$\n",
    "\\begin{aligned}\n",
    "\\mathbf{x} &= \\begin{bmatrix} x_1 \\\\ \\vdots \\\\ x_{M} \\end{bmatrix} \\in \\mathbb{R}^M \\ (入力変数)  , \\ \\\n",
    "\\mathbf{\\beta} = \\begin{bmatrix} \\beta_1 \\\\ \\vdots \\\\ \\beta_{M} \\end{bmatrix} \\in \\mathbb{R}^M \\ \\ (係数)\\\\\n",
    "y &= \\beta_1 x_1 + \\dots + \\beta_M x_M + \\beta_0 +  \\epsilon \\ \\ & (3.2) \\\\\n",
    "&= \\mathbf{\\beta}^T \\mathbf{x} + \\beta_0 + \\epsilon \\ \\  & (3.3) \\\\\n",
    "\\end{aligned}\n",
    "$$"
   ]
  },
  {
   "cell_type": "code",
   "execution_count": null,
   "id": "a0732f25-743a-4db6-ba70-34becfd9dba6",
   "metadata": {},
   "outputs": [],
   "source": []
  },
  {
   "cell_type": "markdown",
   "id": "e0572409-df92-4815-a188-82a00e0508bd",
   "metadata": {},
   "source": [
    "# 3.2 最小二乗法\n",
    "\n",
    "p53 (3.16)\n",
    "\n",
    "\n",
    "- 積和行列$X^TX$が正則であれば、逆行列が存在するので、回帰係数ベクトル$\\beta$は、解析的に求めることができる\n",
    "- この解を最小二乗解と呼びます\n",
    "\n",
    "$$\n",
    "\\begin{aligned}\n",
    "X &= \\begin{bmatrix} x_{1,1} & \\dots & x_{1,M} \\\\\n",
    "\\vdots & \\ddots & \\vdots \\\\\n",
    "x_{N,1} & \\dots & x_{N,M}\n",
    "\\end{bmatrix} \n",
    "= \\begin{bmatrix} - \\mathbf{x}_1 - \\\\ \\vdots \\\\ - \\mathbf{x}_N - \\end{bmatrix} & (3.4) \\\\\n",
    "\\mathbf{\\beta} &= \\begin{bmatrix} \\beta_1 \\\\ \\vdots \\\\ \\beta_M \\end{bmatrix}  \\\\\n",
    "\\mathbf{y} &= \\begin{bmatrix} y_1 \\\\ \\vdots \\\\ y_N \\end{bmatrix} & (3.5) \\\\\n",
    "X\\beta &\\simeq y \\ \\  (なるべく等しくなるような\\betaを決めたい)\\\\\n",
    "X^T X \\hat{\\beta} &= X^T y \\\\\n",
    "\\hat{\\beta} &= (X^T X)^{-1} X^T y & (3.16)\n",
    "\\end{aligned}\n",
    "$$"
   ]
  },
  {
   "cell_type": "markdown",
   "id": "66bf783e-d411-40cb-830f-325551d17dbd",
   "metadata": {},
   "source": [
    "# 3.4 最小二乗法の幾何学的意味\n",
    "    - $Im X$は行列$X$の列ベクトルの線形結合\n",
    "\n",
    "$$\n",
    "\\begin{aligned}\n",
    "\\hat{y} &= X \\hat{\\beta} \\\\\n",
    "\\hat{y} &= X (X^T X)^{-1} X^T y & (3.22) \\\\\n",
    "\\hat{y} &= P y \\ \\ \\ \\ (\\because P= X (X^T X)^{-1} X^T \\ \\ 射影行列 )\\\\\n",
    "\\end{aligned}\n",
    "$$\n",
    "\n",
    "<div style=\"text-align:center\">\n",
    "<img src=\"img/fig3.3.PNG\" width=\"40%\" >\n",
    "</div>\n",
    "\n",
    "<hr>\n",
    "\n",
    "p56 (3.23)\n",
    "\n",
    "- 行列 $P$が射影行列の証明\n",
    "\n",
    "$$\n",
    "\\begin{aligned}\n",
    "P &= X (X^T X)^{-1} X^T \\ \\\\ \\\\\n",
    "P^2 &= PP & (3.23) \\\\\n",
    "&= (X (X^T X)^{-1} X^T) \\ (X (X^T X)^{-1} X^T) & (3.24)\\\\\n",
    "&= X \\ (X^T X)^{-1} (X^T X ) \\ (X^T X)^{-1} \\ X^T & (3.25) \\\\\n",
    "&= X  (X^T X)^{-1}  X^T \\\\\n",
    "&= P & (3.26)\\\\\n",
    "\\end{aligned}\n",
    "$$"
   ]
  },
  {
   "cell_type": "markdown",
   "id": "f5b62cf4-ad57-4d60-80cb-aa1d8bf0baf3",
   "metadata": {},
   "source": [
    "## プログラム3.2 最小二乗法の数値例 (p54)"
   ]
  },
  {
   "cell_type": "code",
   "execution_count": 1,
   "id": "06b92a81-c0ff-4c72-8ebe-eff0ac012280",
   "metadata": {},
   "outputs": [
    {
     "name": "stdout",
     "output_type": "stream",
     "text": [
      "[[ 0.3635]\n",
      " [ 0.4162]\n",
      " [-0.3468]]\n",
      "[ 0.7242]\n"
     ]
    }
   ],
   "source": [
    "import numpy as np\n",
    "from linear_regression import least_squares , ls_est\n",
    "\n",
    "np.set_printoptions(formatter={'float':'{: .4f}'.format})\n",
    "\n",
    "# データを定義します\n",
    "X = np.array([[0.01, 0.50, -0.12],\n",
    "\t\t\t[0.97, -0.63, 0.02],\n",
    "\t\t\t[0.41, 1.15, -1.17],\n",
    "\t\t\t[-1.38, -1.02, 1.27]])\n",
    "\n",
    "y = np.array([[0.25], [0.08], [1.03], [-1.37]])\n",
    "x = np.array([1, 0.7, -0.2])\n",
    "\n",
    "\n",
    "# 回帰係数を求めます．\n",
    "beta = least_squares(X, y)\n",
    "print(beta)\n",
    "# [[ 0.36347065]\n",
    "# [ 0.41624871]\n",
    "# [-0.34677593]]\n",
    "# 未知サンプルから出力を予測します\n",
    "y_hat = ls_est(x, beta)\n",
    "print(y_hat)\n",
    "# [0.7241999]"
   ]
  },
  {
   "cell_type": "markdown",
   "id": "f8e4b370-4182-4b77-b3fa-0dac582dc71d",
   "metadata": {},
   "source": [
    "## *numpy from scratch (TODO)"
   ]
  },
  {
   "cell_type": "code",
   "execution_count": null,
   "id": "cbd23de7-d307-4f4c-b240-c1e6f8d7738c",
   "metadata": {},
   "outputs": [],
   "source": []
  },
  {
   "cell_type": "markdown",
   "id": "fef4a64b-4441-49fb-a528-54bce24ad199",
   "metadata": {},
   "source": [
    "## *sklearn.linear_model.LinearRegression"
   ]
  },
  {
   "cell_type": "code",
   "execution_count": 2,
   "id": "5ab9c627-3212-4fdb-bb8c-9c04e796064b",
   "metadata": {},
   "outputs": [],
   "source": [
    "from sklearn.linear_model import LinearRegression"
   ]
  },
  {
   "cell_type": "code",
   "execution_count": 3,
   "id": "462acb9a-fd03-4bb5-8d75-8e87342de093",
   "metadata": {},
   "outputs": [],
   "source": [
    "lr = LinearRegression(fit_intercept=True)"
   ]
  },
  {
   "cell_type": "code",
   "execution_count": 4,
   "id": "b33c5278-73b1-43f4-8532-4d00ad18b152",
   "metadata": {},
   "outputs": [
    {
     "data": {
      "text/plain": [
       "LinearRegression()"
      ]
     },
     "execution_count": 4,
     "metadata": {},
     "output_type": "execute_result"
    }
   ],
   "source": [
    "lr.fit(X,y)"
   ]
  },
  {
   "cell_type": "code",
   "execution_count": 5,
   "id": "1ed0052c-78e8-41e2-ab01-6e2ad0a811ba",
   "metadata": {},
   "outputs": [
    {
     "data": {
      "text/plain": [
       "(array([[ 0.3636,  0.4164, -0.3466]]), array([-0.0034]))"
      ]
     },
     "execution_count": 5,
     "metadata": {},
     "output_type": "execute_result"
    }
   ],
   "source": [
    "lr.coef_, lr.intercept_"
   ]
  },
  {
   "cell_type": "code",
   "execution_count": null,
   "id": "3bf12054-b71b-452f-9b9e-844f43c57680",
   "metadata": {},
   "outputs": [],
   "source": []
  },
  {
   "cell_type": "markdown",
   "id": "9473b134-3f2c-481c-ae64-ef929c8430b2",
   "metadata": {},
   "source": [
    "# 3.7 多重共線性の問題 (p62)\n",
    "\n",
    "- 悪条件 (ill-conditioned)\n",
    "    - 本来はランクが落ちているはずの行列が、測定ノイズなどによってフルランクとなり、逆行列が大きくばらつく状況\n",
    "- 行列が悪条件であるかは、__条件数__ という尺度で判定できる\n",
    "\n",
    "\n",
    "$A$の条件数$\\kappa(A)$ \n",
    "- $A$の最大特異値，最小特異値を$\\sigma_{max}, \\sigma_{min}$ として\n",
    "\n",
    "$$\n",
    "\\kappa(A) = \\frac{\\sigma_{max}}{\\sigma_{min}}\n",
    "$$\n",
    "\n",
    "\n",
    "<hr>\n",
    "\n",
    "条件数は、`numpy.linalg.cond`で確認できる"
   ]
  },
  {
   "cell_type": "code",
   "execution_count": null,
   "id": "990912da-29fb-4ffe-8fcc-e1d38d0bf0fb",
   "metadata": {},
   "outputs": [],
   "source": []
  },
  {
   "cell_type": "markdown",
   "id": "50613c21-42d3-41f3-9b2f-b396f5cd237d",
   "metadata": {},
   "source": [
    "## プログラム3.3 多重共線性がないデータの場合 (p65)"
   ]
  },
  {
   "cell_type": "code",
   "execution_count": 6,
   "id": "cf5d48c6-444e-4513-94af-e7adb8d19fdd",
   "metadata": {},
   "outputs": [
    {
     "name": "stdout",
     "output_type": "stream",
     "text": [
      "[[ 0.3635]\n",
      " [ 0.4162]\n",
      " [-0.3468]]\n",
      "[[ 0.3727]\n",
      " [ 0.4138]\n",
      " [-0.3425]]\n"
     ]
    }
   ],
   "source": [
    "import numpy as np\n",
    "from linear_regression import least_squares\n",
    "\n",
    "# データを定義します\n",
    "X1 = np.array( [[0.01, 0.50, -0.12],\n",
    "                [0.97, -0.63, 0.02],\n",
    "                [0.41, 1.15, -1.17],\n",
    "                [-1.38, -1.02, 1.27]])\n",
    "X2 = np.array( [[-0.01, 0.52, -0.12],\n",
    "                [0.96, -0.64, 0.03],\n",
    "                [0.43, 1.14, -1.17],\n",
    "                [-1.38, -1.01, 1.27]])\n",
    "\n",
    "y = np.array ([[0.25], [0.08], [1.03], [-1.37]])\n",
    "\n",
    "\n",
    "# X1，X2それぞれでの回帰係数を計算します\n",
    "beta1 = least_squares(X1, y)\n",
    "print(beta1)\n",
    "# [[ 0.36347065]\n",
    "# [ 0.41624871]\n",
    "# [-0.34677593]]\n",
    "beta2 = least_squares(X2, y)\n",
    "print(beta2)\n",
    "# [[ 0.37270979]\n",
    "# [ 0.41379869]\n",
    "# [-0.34252764]]"
   ]
  },
  {
   "cell_type": "code",
   "execution_count": 7,
   "id": "aa135440-748a-49e9-8fd4-fd9e4f10cbd3",
   "metadata": {},
   "outputs": [
    {
     "data": {
      "text/plain": [
       "array([[ 0.0200, -0.0200,  0.0000],\n",
       "       [ 0.0100,  0.0100, -0.0100],\n",
       "       [-0.0200,  0.0100,  0.0000],\n",
       "       [ 0.0000, -0.0100,  0.0000]])"
      ]
     },
     "execution_count": 7,
     "metadata": {},
     "output_type": "execute_result"
    }
   ],
   "source": [
    "X1 - X2"
   ]
  },
  {
   "cell_type": "markdown",
   "id": "ecb26ee2-b449-4d9a-b1a8-09eef95ee38f",
   "metadata": {
    "tags": []
   },
   "source": [
    "### 行列の条件数 $\\kappa(A)$"
   ]
  },
  {
   "cell_type": "code",
   "execution_count": 8,
   "id": "feaa407b-1881-4d05-9c27-a29e4d34ccd9",
   "metadata": {},
   "outputs": [
    {
     "data": {
      "text/plain": [
       "(135.75293858717927, 133.39346575985206)"
      ]
     },
     "execution_count": 8,
     "metadata": {},
     "output_type": "execute_result"
    }
   ],
   "source": [
    "np.linalg.cond(X1.T@X1), np.linalg.cond(X2.T@X2)"
   ]
  },
  {
   "cell_type": "code",
   "execution_count": null,
   "id": "ba67e36b-37b8-4d7a-842a-660bb435c515",
   "metadata": {},
   "outputs": [],
   "source": []
  },
  {
   "cell_type": "markdown",
   "id": "98f73e70-ac7b-4010-af2a-448c130a084d",
   "metadata": {},
   "source": [
    "## プログラム3.4 多重共線性があるデータの場合 (p67)"
   ]
  },
  {
   "cell_type": "code",
   "execution_count": 9,
   "id": "8a912f60-be37-428a-9316-0283f2d5d222",
   "metadata": {},
   "outputs": [
    {
     "name": "stdout",
     "output_type": "stream",
     "text": [
      "[[ 0.5450]\n",
      " [ 0.2409]\n",
      " [ 1.6404]]\n",
      "[[-0.4279]\n",
      " [-2.8630]\n",
      " [-2.2030]]\n"
     ]
    }
   ],
   "source": [
    "import numpy as np\n",
    "from linear_regression import least_squares\n",
    "\n",
    "# データを定義します\n",
    "X1 = np.array( [[-1.12, -0.51, 0.69],\n",
    "                [-0.43, -1.12, 1.02],\n",
    "                [0.37, 1.10, -0.98],\n",
    "                [1.19, 0.53, -0.73]])\n",
    "\n",
    "X2 = np.array( [[-1.12, -0.51, 0.70],\n",
    "                [-0.43, -1.12, 1.01],\n",
    "                [0.36, 1.10, -0.98],\n",
    "                [1.20, 0.53, -0.73]])\n",
    "\n",
    "y = np.array([0.4, 1.17, -1.14, -0.42])\n",
    "\n",
    "# X1，X2それぞれでの回帰係数を計算します\n",
    "beta1 = least_squares(X1, y)\n",
    "print(beta1)\n",
    "# [[0.54496962]\n",
    "# [0.24094799]\n",
    "# [1.64044474]]\n",
    "\n",
    "beta2 = least_squares(X2, y)\n",
    "print(beta2)\n",
    "# [[-0.42794288]\n",
    "# [-2.86298696]\n",
    "# [-2.2029719 ]]"
   ]
  },
  {
   "cell_type": "code",
   "execution_count": 10,
   "id": "3785952a-d0f9-4526-8b54-79661048a42a",
   "metadata": {},
   "outputs": [
    {
     "data": {
      "text/plain": [
       "array([[ 0.0000,  0.0000, -0.0100],\n",
       "       [ 0.0000,  0.0000,  0.0100],\n",
       "       [ 0.0100,  0.0000,  0.0000],\n",
       "       [-0.0100,  0.0000,  0.0000]])"
      ]
     },
     "execution_count": 10,
     "metadata": {},
     "output_type": "execute_result"
    }
   ],
   "source": [
    "X1 - X2"
   ]
  },
  {
   "cell_type": "markdown",
   "id": "2e6d2598-a528-4ffb-8686-3ea1772b5772",
   "metadata": {},
   "source": [
    "### 行列の条件数 $\\kappa(A)$"
   ]
  },
  {
   "cell_type": "code",
   "execution_count": 11,
   "id": "e5945de5-daad-4ceb-bf27-b64a21ec0593",
   "metadata": {},
   "outputs": [
    {
     "data": {
      "text/plain": [
       "(235456.75658580603, 470649.97301951883)"
      ]
     },
     "execution_count": 11,
     "metadata": {},
     "output_type": "execute_result"
    }
   ],
   "source": [
    "np.linalg.cond(X1.T@X1), np.linalg.cond(X2.T@X2),"
   ]
  },
  {
   "cell_type": "markdown",
   "id": "547d8709-60e0-4e07-94dc-1570f9aaff71",
   "metadata": {},
   "source": [
    "## *条件数 myCond (numpy from scratch)"
   ]
  },
  {
   "cell_type": "code",
   "execution_count": 12,
   "id": "431fb577-4d42-4216-b83f-d5b7e6f9f516",
   "metadata": {},
   "outputs": [
    {
     "data": {
      "text/plain": [
       "(array([[-0.1371, -0.2290,  0.8271,  0.4946],\n",
       "        [-0.0466,  0.8634, -0.0664,  0.4979],\n",
       "        [-0.6028, -0.3618, -0.5016,  0.5041],\n",
       "        [ 0.7846, -0.2667, -0.2448,  0.5033]]),\n",
       " array([ 2.6820,  1.3318,  0.2302]),\n",
       " array([[-0.5132, -0.5715,  0.6403],\n",
       "        [ 0.7921, -0.6026,  0.0971],\n",
       "        [ 0.3303,  0.5570,  0.7620]]))"
      ]
     },
     "execution_count": 12,
     "metadata": {},
     "output_type": "execute_result"
    }
   ],
   "source": [
    "U, s, VT = np.linalg.svd(X)\n",
    "U, s, VT"
   ]
  },
  {
   "cell_type": "code",
   "execution_count": 13,
   "id": "431dd5be-506d-47e0-bae2-c2573ddc1d0b",
   "metadata": {},
   "outputs": [],
   "source": [
    "def myCond(X):\n",
    "    U, s, VT = np.linalg.svd(X)\n",
    "    return s.max()/s.min()"
   ]
  },
  {
   "cell_type": "code",
   "execution_count": 14,
   "id": "59c84db6-ba93-4945-a7f0-204de943a91f",
   "metadata": {},
   "outputs": [
    {
     "data": {
      "text/plain": [
       "235456.7565858061"
      ]
     },
     "execution_count": 14,
     "metadata": {},
     "output_type": "execute_result"
    }
   ],
   "source": [
    "myCond(X1.T@X1)"
   ]
  },
  {
   "cell_type": "code",
   "execution_count": null,
   "id": "fd042cd6-b295-4e21-a376-2ad5e04f2814",
   "metadata": {},
   "outputs": [],
   "source": []
  },
  {
   "cell_type": "markdown",
   "id": "6841b9c0-f6e8-462a-926f-4284d610db80",
   "metadata": {},
   "source": [
    "## *sklearn.linear_model.LinearRegression"
   ]
  },
  {
   "cell_type": "code",
   "execution_count": 15,
   "id": "06821c26-e52e-484c-b94c-09e5412c5581",
   "metadata": {},
   "outputs": [
    {
     "data": {
      "text/plain": [
       "(array([ 0.5325,  0.2005,  1.5906]), 0.00116875115519689)"
      ]
     },
     "execution_count": 15,
     "metadata": {},
     "output_type": "execute_result"
    }
   ],
   "source": [
    "lr = LinearRegression()\n",
    "lr.fit(X1, y)\n",
    "lr.coef_, lr.intercept_"
   ]
  },
  {
   "cell_type": "code",
   "execution_count": 16,
   "id": "4ec7d75d-46bf-4ef8-9661-b3662a8076b9",
   "metadata": {},
   "outputs": [
    {
     "data": {
      "text/plain": [
       "(array([-0.5122, -3.1292, -2.5334]), 0.0037806003603919093)"
      ]
     },
     "execution_count": 16,
     "metadata": {},
     "output_type": "execute_result"
    }
   ],
   "source": [
    "lr = LinearRegression()\n",
    "lr.fit(X2, y)\n",
    "lr.coef_, lr.intercept_"
   ]
  },
  {
   "cell_type": "code",
   "execution_count": null,
   "id": "94980a0e-2c5b-475f-931e-eef221499be1",
   "metadata": {},
   "outputs": [],
   "source": []
  },
  {
   "cell_type": "markdown",
   "id": "b10c3f30-d6c1-49c7-9ee4-6c5e3e28f518",
   "metadata": {},
   "source": [
    "# 3.8 サンプル数が入力変数の数よりも少ない場合\n",
    "\n",
    "- 方程式の数より未知数が多いのだから、普通の方程式では解けるはずがない \n",
    "    - 無数の解が存在する\n",
    "\n",
    "$$\n",
    "\\begin{bmatrix}\n",
    "x_{11} & x_{12} & x_{13} \\\\\n",
    "x_{21} & x_{22} & x_{23}\n",
    "\\end{bmatrix}\n",
    "\\begin{bmatrix}\n",
    "\\beta_1 \\\\\n",
    "\\beta_2 \\\\\n",
    "\\beta_3 \\\\\n",
    "\\end{bmatrix} =\n",
    "\\begin{bmatrix}\n",
    "y_1 \\\\\n",
    "y_2 \\\\\n",
    "y_3 \\\\\n",
    "\\end{bmatrix}\n",
    "$$\n",
    "\n",
    "- 一方、よく見る最小二乗法の問題では、未知数より方程式の和の方が多い、やはり、普通の方程式の解き方とは違う\n",
    "\n",
    "$$\n",
    "\\begin{bmatrix}\n",
    "x_{11} & x_{12} & x_{13} \\\\\n",
    "x_{23} & x_{22} & x_{23} \\\\\n",
    "x_{31} & x_{32} & x_{33} \\\\\n",
    "x_{41} & x_{42} & x_{43} \\\\\n",
    "x_{51} & x_{52} & x_{53} \\\\\n",
    "x_{61} & x_{67} & x_{63} \\\\\n",
    "x_{71} & x_{72} & x_{73} \\\\\n",
    "x_{81} & x_{82} & x_{83} \\\\\n",
    "x_{91} & x_{92} & x_{93}\n",
    "\\end{bmatrix}\n",
    "\\begin{bmatrix}\n",
    "\\beta_1 \\\\\n",
    "\\beta_2 \\\\\n",
    "\\beta_3 \\\\\n",
    "\\end{bmatrix} =\n",
    "\\begin{bmatrix}\n",
    "y_1 \\\\\n",
    "y_2 \\\\\n",
    "y_3 \\\\\n",
    "\\end{bmatrix}\n",
    "$$"
   ]
  },
  {
   "cell_type": "code",
   "execution_count": null,
   "id": "a5ae633c-20e3-4b58-9482-e57195695dee",
   "metadata": {},
   "outputs": [],
   "source": []
  },
  {
   "cell_type": "markdown",
   "id": "e8c1acd6-ab1c-41f4-ad45-8f72271f07a3",
   "metadata": {
    "tags": []
   },
   "source": [
    "# 3.9 擬似逆行列を用いる方法 (TODO)\n",
    "\n",
    "\n",
    "サンプル数が入力変数の数よりも少ない場合でも、多重共線性が問題となる場合でも、\n",
    "\n",
    "積和行列$X^TX$の逆行列$(X^T X)^{−1}$と似た働きをする都合のよい行列があれば便利\n",
    "\n",
    "\n",
    "\n",
    "- 行列$A$に対して、以下のような$A^{+}$ ()\n",
    "    - $AA^+A = A$\n",
    "    - $A^+AA^+ = A$\n",
    "    - $(AA^+)^T = AA^+$\n",
    "    - $(A^+A)^T = A^+A$\n",
    "\n",
    "\n",
    "$$\n",
    "\\beta^* = (X^T X)^+ X^T y\n",
    "$$"
   ]
  },
  {
   "cell_type": "markdown",
   "id": "d28386cb-7854-49e3-814a-e5063d4f4041",
   "metadata": {},
   "source": [
    "## *numpy.linalg.pinv (疑似逆行列)\n",
    "\n",
    "- 上記の条件を満たすか？"
   ]
  },
  {
   "cell_type": "code",
   "execution_count": 17,
   "id": "e2c9dbbc-e34c-4df5-8643-de081f35566c",
   "metadata": {},
   "outputs": [
    {
     "data": {
      "text/plain": [
       "(array([[ 0.0400,  0.0800],\n",
       "        [ 0.0800,  0.1600]]),\n",
       " 1)"
      ]
     },
     "execution_count": 17,
     "metadata": {},
     "output_type": "execute_result"
    }
   ],
   "source": [
    "A = np.array([[1, 2],\n",
    "              [2, 4]])\n",
    "\n",
    "A_ = np.linalg.pinv(A)\n",
    "A_, np.linalg.matrix_rank(A)"
   ]
  },
  {
   "cell_type": "code",
   "execution_count": 18,
   "id": "35bb9ff9-bc34-4ccb-a5ab-97694d24f7e7",
   "metadata": {},
   "outputs": [
    {
     "data": {
      "text/plain": [
       "(array([[ 0.2000,  0.4000],\n",
       "        [ 0.4000,  0.8000]]),\n",
       " array([[1, 2],\n",
       "        [2, 4]]))"
      ]
     },
     "execution_count": 18,
     "metadata": {},
     "output_type": "execute_result"
    }
   ],
   "source": [
    "# AA^+A = A\n",
    "A @ A_, A"
   ]
  },
  {
   "cell_type": "code",
   "execution_count": 19,
   "id": "2c07689e-bf8c-43f1-99f0-503147080e44",
   "metadata": {},
   "outputs": [
    {
     "data": {
      "text/plain": [
       "(array([[ 0.0400,  0.0800],\n",
       "        [ 0.0800,  0.1600]]),\n",
       " array([[1, 2],\n",
       "        [2, 4]]))"
      ]
     },
     "execution_count": 19,
     "metadata": {},
     "output_type": "execute_result"
    }
   ],
   "source": [
    "# A^+AA^+ = A\n",
    "A_ @ A @ A_, A"
   ]
  },
  {
   "cell_type": "code",
   "execution_count": 20,
   "id": "afb463ff-d56a-424e-8e88-6a588cd5f3a8",
   "metadata": {},
   "outputs": [
    {
     "data": {
      "text/plain": [
       "(array([[ 0.2000,  0.4000],\n",
       "        [ 0.4000,  0.8000]]),\n",
       " array([[ 0.2000,  0.4000],\n",
       "        [ 0.4000,  0.8000]]))"
      ]
     },
     "execution_count": 20,
     "metadata": {},
     "output_type": "execute_result"
    }
   ],
   "source": [
    "# (AA^+)^T = AA^+\n",
    "\n",
    "(A @ A_).T, A @ A_"
   ]
  },
  {
   "cell_type": "code",
   "execution_count": 21,
   "id": "ad9da510-350e-4320-93c0-cb19d8060f4c",
   "metadata": {},
   "outputs": [
    {
     "data": {
      "text/plain": [
       "(array([[ 0.2000,  0.4000],\n",
       "        [ 0.4000,  0.8000]]),\n",
       " array([[ 0.2000,  0.4000],\n",
       "        [ 0.4000,  0.8000]]))"
      ]
     },
     "execution_count": 21,
     "metadata": {},
     "output_type": "execute_result"
    }
   ],
   "source": [
    "# (A^+A)^T = A^+A\n",
    "(A_ @ A).T, A_ @ A"
   ]
  },
  {
   "cell_type": "code",
   "execution_count": null,
   "id": "ad97fbfa-c5c2-4c08-812d-3da9d2a2d6e6",
   "metadata": {},
   "outputs": [],
   "source": []
  },
  {
   "cell_type": "markdown",
   "id": "dcccd923-ab9d-4ae5-baac-86b5c0b27e0c",
   "metadata": {},
   "source": [
    "# 3.10 主成分回帰 (PCR) (p72)\n",
    "\n",
    "- 多重共線性の問題は、入力データの変数間の相関に起因する\n",
    "- 変数間が無相関になるような前処理をすればよい\n",
    "    - PCAで次元削減して回帰問題を解けばよい\n",
    "\n",
    "<div style=\"text-align:center\">\n",
    "<img src=\"img/fig3.6.PNG\" width=\"40%\" >\n",
    "</div>\n",
    "\n",
    "- [Principal Component Regression vs Partial Least Squares Regression](https://scikit-learn.org/stable/auto_examples/cross_decomposition/plot_pcr_vs_pls.html)"
   ]
  },
  {
   "cell_type": "markdown",
   "id": "4da58aab-1852-4b1d-abd2-08196c595e25",
   "metadata": {},
   "source": [
    "## プログラム3.5 PCR（linear_regression.py） (p73)"
   ]
  },
  {
   "cell_type": "code",
   "execution_count": 22,
   "id": "39850af1-3622-49e1-814b-3fb1bcaa41a8",
   "metadata": {},
   "outputs": [],
   "source": [
    "import numpy as np\n",
    "from linear_regression import least_squares\n",
    "from pca import pca\n",
    "\n",
    "def pcr(X, y, R):\n",
    "    \"\"\"\n",
    "    PCR を用いて回帰係数を計算します．ラメータ\n",
    "    ----------\n",
    "    X: 入力データ\n",
    "    y: 出力データ\n",
    "    R: 主成分の数\n",
    "    戻り値\n",
    "    -------\n",
    "    beta: 回帰係数\n",
    "    \"\"\"\n",
    "    # yをベクトル化します\n",
    "    y = y.reshape(-1, 1)\n",
    "    # 主成分分析を行います\n",
    "    P, T = pca(X)\n",
    "    # R番目までの主成分得点行列を取り出します\n",
    "    T = T[:,:R]\n",
    "    # 最小二乗法により回帰係数を求めます\n",
    "    beta_R = least_squares(T, y)\n",
    "    beta = P[:,:R] @ beta_R\n",
    "    return beta"
   ]
  },
  {
   "cell_type": "markdown",
   "id": "5e08f63c-05f0-4997-8c05-22d470e0a697",
   "metadata": {},
   "source": [
    "## *MyPCR (sklearn from scratch)\n",
    "\n",
    "- PCRはPCAで入力データの次元削減と次元復元(?)によって、多重共線性問題を回避している \n",
    "- 次元削減/復元により、情報量の一部を失うが、多重共線性問題は回避している"
   ]
  },
  {
   "cell_type": "code",
   "execution_count": 23,
   "id": "9d6d095d-01cd-4c52-a0ff-df0b8c263097",
   "metadata": {},
   "outputs": [],
   "source": [
    "from sklearn.base import TransformerMixin, BaseEstimator\n",
    "from sklearn.decomposition import PCA\n",
    "from sklearn.linear_model import LinearRegression\n",
    "\n",
    "class MyPCR(TransformerMixin, BaseEstimator):\n",
    "    def __init__(self, n_components):\n",
    "        self.n_components = n_components\n",
    "        self.pca = PCA(n_components=n_components)\n",
    "        self.regression = LinearRegression()\n",
    "    def fit(self, X, y=None):\n",
    "        self.pca.fit(X)\n",
    "        X_reduced = self.pca.transform(X)                  # <= 次元削減\n",
    "        X_returned = self.pca.inverse_transform(X_reduced) # <= 次元復元\n",
    "        self.regression.fit(X_returned,y)\n",
    "        self.coef_ = self.regression.coef_\n",
    "        self.intercept_ = self.regression.intercept_\n",
    "        return self\n",
    "    def predict(self, X):\n",
    "        X_reduced = self.pca.transform(X)\n",
    "        X_returned = self.pca.inverse_transform(X_reduced)\n",
    "        return self.regression.predict(X_returned)"
   ]
  },
  {
   "cell_type": "markdown",
   "id": "62c3fdb6-e8e6-4c08-9d97-9e3a3891df9f",
   "metadata": {},
   "source": [
    "## プログラム3.6 主成分数を2 とした場合 (p74)"
   ]
  },
  {
   "cell_type": "code",
   "execution_count": 24,
   "id": "02205df7-07db-4328-98b6-6d66ebfd96f6",
   "metadata": {},
   "outputs": [
    {
     "name": "stdout",
     "output_type": "stream",
     "text": [
      "[[ 0.2585]\n",
      " [-0.6887]\n",
      " [ 0.4939]]\n",
      "[[ 0.2593]\n",
      " [-0.6921]\n",
      " [ 0.4915]]\n"
     ]
    }
   ],
   "source": [
    "# データを定義します\n",
    "X1 = np.array( [[-1.12, -0.51, 0.69],\n",
    "                [-0.43, -1.12, 1.02],\n",
    "                [0.37, 1.10, -0.98],\n",
    "                [1.19, 0.53, -0.73]])\n",
    "\n",
    "X2 = np.array( [[-1.12, -0.51, 0.70],\n",
    "                [-0.43, -1.12, 1.01],\n",
    "                [0.36, 1.10, -0.98],\n",
    "                [1.20, 0.53, -0.73]])\n",
    "\n",
    "y = np.array ([[0.4], [1.17], [-1.14], [-0.42]])\n",
    "\n",
    "#主成分数を2に設定します\n",
    "R = 2\n",
    "beta1 = pcr(X1, y, R)\n",
    "print(beta1)\n",
    "# [[ 0.25849154]\n",
    "# [-0.68874152]\n",
    "# [ 0.49387146]]\n",
    "beta2 = pcr(X2, y, R)\n",
    "print(beta2)\n",
    "# [[ 0.25929082]\n",
    "# [-0.69212429]\n",
    "# [ 0.49149105]]"
   ]
  },
  {
   "cell_type": "code",
   "execution_count": 25,
   "id": "07817bc2-89ec-4f96-9f16-b39c5468588d",
   "metadata": {},
   "outputs": [
    {
     "data": {
      "text/plain": [
       "(array([[ 0.2585, -0.6887,  0.4939]]), array([ 0.0019]))"
      ]
     },
     "execution_count": 25,
     "metadata": {},
     "output_type": "execute_result"
    }
   ],
   "source": [
    "myPCR = MyPCR(n_components=2)\n",
    "myPCR.fit(X1, y)\n",
    "myPCR.coef_, myPCR.intercept_"
   ]
  },
  {
   "cell_type": "code",
   "execution_count": 26,
   "id": "a53af3ac-e49e-4519-a10d-b0a7995075a7",
   "metadata": {},
   "outputs": [
    {
     "data": {
      "text/plain": [
       "(array([[ 0.2593, -0.6921,  0.4915]]), array([ 0.0019]))"
      ]
     },
     "execution_count": 26,
     "metadata": {},
     "output_type": "execute_result"
    }
   ],
   "source": [
    "myPCR = MyPCR(n_components=2)\n",
    "myPCR.fit(X2, y)\n",
    "myPCR.coef_, myPCR.intercept_"
   ]
  },
  {
   "cell_type": "code",
   "execution_count": null,
   "id": "a1297154-5678-4a52-b586-6ac02bda0574",
   "metadata": {},
   "outputs": [],
   "source": []
  },
  {
   "cell_type": "markdown",
   "id": "03be0e0e-7452-4367-8896-9d9676dd38b2",
   "metadata": {},
   "source": [
    "## プログラム3.7 主成分数を1 とした場合 (p75)"
   ]
  },
  {
   "cell_type": "code",
   "execution_count": 27,
   "id": "77b55e76-7668-432e-a210-a06c80872075",
   "metadata": {},
   "outputs": [
    {
     "name": "stdout",
     "output_type": "stream",
     "text": [
      "[[-0.3031]\n",
      " [-0.3286]\n",
      " [ 0.3422]]\n",
      "[[-0.3034]\n",
      " [-0.3276]\n",
      " [ 0.3413]]\n"
     ]
    }
   ],
   "source": [
    "# 主成分数を1 に設定します\n",
    "R = 1\n",
    "beta1 = pcr(X1, y, R)\n",
    "print(beta1)\n",
    "# [[-0.30313539]\n",
    "# [-0.32858522]\n",
    "# [ 0.34217102]]\n",
    "beta2 = pcr(X2, y, R)\n",
    "print(beta2)\n",
    "# [[-0.30335458]\n",
    "# [-0.32755389]\n",
    "# [ 0.34127419]]"
   ]
  },
  {
   "cell_type": "code",
   "execution_count": 28,
   "id": "653f5438-e741-4a6a-814d-8c86513019b5",
   "metadata": {},
   "outputs": [
    {
     "data": {
      "text/plain": [
       "(array([[-0.3031, -0.3286,  0.3422]]), array([ 0.0033]))"
      ]
     },
     "execution_count": 28,
     "metadata": {},
     "output_type": "execute_result"
    }
   ],
   "source": [
    "myPCR = MyPCR(n_components=1)\n",
    "myPCR.fit(X1, y)\n",
    "myPCR.coef_, myPCR.intercept_"
   ]
  },
  {
   "cell_type": "code",
   "execution_count": 29,
   "id": "58a4ccb0-5028-41ac-b173-c8e7f6bd77b8",
   "metadata": {},
   "outputs": [
    {
     "data": {
      "text/plain": [
       "(array([[-0.3034, -0.3276,  0.3413]]), array([ 0.0033]))"
      ]
     },
     "execution_count": 29,
     "metadata": {},
     "output_type": "execute_result"
    }
   ],
   "source": [
    "myPCR = MyPCR(n_components=1)\n",
    "myPCR.fit(X2, y)\n",
    "myPCR.coef_, myPCR.intercept_"
   ]
  },
  {
   "cell_type": "code",
   "execution_count": null,
   "id": "5c1218d7-0496-4f27-8d75-bd6d6ee96647",
   "metadata": {},
   "outputs": [],
   "source": []
  },
  {
   "cell_type": "markdown",
   "id": "33c3781d-063e-4799-86cd-3be531cdd477",
   "metadata": {},
   "source": [
    "# 3.11 リッジ回帰"
   ]
  },
  {
   "cell_type": "markdown",
   "id": "2aae3be3-b0f0-4b1d-824d-d4e846740510",
   "metadata": {},
   "source": [
    "## プログラム3.8 リッジ回帰（linear_regression） (p77)"
   ]
  },
  {
   "cell_type": "code",
   "execution_count": 30,
   "id": "596131a2-bbd0-4900-84b7-b2d93fcabc07",
   "metadata": {},
   "outputs": [],
   "source": [
    "def ridge(X, y, mu=0.1):\n",
    "    \"\"\"\n",
    "    リッジ回帰を用いて回帰係数を計算します. \n",
    "\n",
    "    パラメータ\n",
    "    ----------\n",
    "    X: 入力データ\n",
    "    y: 出力データ\n",
    "    mu: パラメータ(デフォルト: 0.1)\n",
    "\n",
    "    戻り値\n",
    "    -------\n",
    "    beta_ridge: 回帰係数\n",
    "    \"\"\"\n",
    "    # yをベクトル化します\n",
    "    y = y.reshape(-1, 1)\n",
    "\n",
    "    # リッジ回帰の回帰係数を求めます\n",
    "    I = np.eye(X.shape [1])\n",
    "    beta_ridge = np.linalg.inv(X.T @ X + mu * I)@ X.T @ y\n",
    "    return beta_ridge"
   ]
  },
  {
   "cell_type": "markdown",
   "id": "48d4c113-51a6-45cd-9904-e68b637b70a5",
   "metadata": {},
   "source": [
    "## *sklearn.linear_model.Ridge"
   ]
  },
  {
   "cell_type": "code",
   "execution_count": 31,
   "id": "b2fc8c2b-42c2-46d6-8124-0958d0852238",
   "metadata": {},
   "outputs": [],
   "source": [
    "from sklearn.linear_model import Ridge"
   ]
  },
  {
   "cell_type": "markdown",
   "id": "8060d7f0-3efb-4803-9e20-72695922af27",
   "metadata": {
    "tags": []
   },
   "source": [
    "## *MyRidge (numpy from scratch) \n",
    "\n",
    "- 式 (3.91)を愚直に行列で計算する\n",
    "\n",
    "$$\n",
    "\\beta_{ridge} = (X^T X + \\mu I)^{-1} X^T y \\tag{3.91}\n",
    "$$"
   ]
  },
  {
   "cell_type": "code",
   "execution_count": 32,
   "id": "4b75c992-5c77-454d-8253-597823cdc4d2",
   "metadata": {},
   "outputs": [],
   "source": [
    "import numpy as np\n",
    "from sklearn.base import TransformerMixin, BaseEstimator\n",
    "from sklearn.decomposition import PCA\n",
    "\n",
    "class MyRidge(TransformerMixin, BaseEstimator):\n",
    "    def __init__(self, mu=0.1):\n",
    "        self.mu = mu\n",
    "        self.beta = None\n",
    "        \n",
    "    def fit(self, X, y):\n",
    "        m, n = X.shape\n",
    "        self.beta = np.linalg.inv(X.T @ X + mu*np.eye(n)) @ X.T @ y\n",
    "        return self\n",
    "    def predict(self, X):\n",
    "        return X @self.beta"
   ]
  },
  {
   "cell_type": "code",
   "execution_count": null,
   "id": "cad51807-e711-4d7d-9c91-83cfd03e956a",
   "metadata": {},
   "outputs": [],
   "source": []
  },
  {
   "cell_type": "markdown",
   "id": "da888698-5e1b-41a6-ad99-eca35d37e9bb",
   "metadata": {
    "tags": []
   },
   "source": [
    "## プログラム3.9 リッジ回帰($\\mu = 0.1$)の数値例 (p79)"
   ]
  },
  {
   "cell_type": "code",
   "execution_count": 33,
   "id": "ede3de69-3d3d-46ed-91d1-c06b7317ed24",
   "metadata": {},
   "outputs": [
    {
     "name": "stdout",
     "output_type": "stream",
     "text": [
      "[[ 0.2109]\n",
      " [-0.6514]\n",
      " [ 0.4762]]\n",
      "[[ 0.2120]\n",
      " [-0.6555]\n",
      " [ 0.4732]]\n"
     ]
    }
   ],
   "source": [
    "# パラメータを0.1に設定します\n",
    "mu = 0.1\n",
    "beta1 = ridge(X1, y, mu)\n",
    "print(beta1)\n",
    "# [[ 0.21088992]\n",
    "# [-0.65139114]\n",
    "# [ 0.47615414]]\n",
    "beta2 = ridge(X2, y, mu)\n",
    "print(beta2)\n",
    "\n",
    "# [[ 0.21198147]\n",
    "# [-0.65545325]\n",
    "# [ 0.47322964]]"
   ]
  },
  {
   "cell_type": "code",
   "execution_count": 34,
   "id": "15c0d915-1bc8-45a3-ab0a-1de6275a8a79",
   "metadata": {},
   "outputs": [
    {
     "data": {
      "text/plain": [
       "(array([[ 0.2109, -0.6514,  0.4761]]), array([ 0.0020]))"
      ]
     },
     "execution_count": 34,
     "metadata": {},
     "output_type": "execute_result"
    }
   ],
   "source": [
    "skridge = Ridge(alpha=0.1)\n",
    "skridge.fit(X1, y)\n",
    "skridge.coef_, skridge.intercept_"
   ]
  },
  {
   "cell_type": "code",
   "execution_count": 35,
   "id": "86ec423a-ae17-4d0e-8269-b14f634e4a17",
   "metadata": {},
   "outputs": [
    {
     "data": {
      "text/plain": [
       "(array([[ 0.2120, -0.6555,  0.4732]]), array([ 0.0020]))"
      ]
     },
     "execution_count": 35,
     "metadata": {},
     "output_type": "execute_result"
    }
   ],
   "source": [
    "skridge = Ridge(alpha=0.1)\n",
    "skridge.fit(X2, y)\n",
    "skridge.coef_, skridge.intercept_"
   ]
  },
  {
   "cell_type": "code",
   "execution_count": 36,
   "id": "9a98755f-d094-4194-8918-3d89d5c6759d",
   "metadata": {},
   "outputs": [
    {
     "data": {
      "text/plain": [
       "array([[ 0.2109],\n",
       "       [-0.6514],\n",
       "       [ 0.4762]])"
      ]
     },
     "execution_count": 36,
     "metadata": {},
     "output_type": "execute_result"
    }
   ],
   "source": [
    "myRidge = MyRidge(mu=0.1)\n",
    "myRidge.fit(X1, y)\n",
    "myRidge.beta"
   ]
  },
  {
   "cell_type": "code",
   "execution_count": 37,
   "id": "4e10ec4e-5bde-469e-beac-48710807d481",
   "metadata": {},
   "outputs": [
    {
     "data": {
      "text/plain": [
       "array([[ 0.2120],\n",
       "       [-0.6555],\n",
       "       [ 0.4732]])"
      ]
     },
     "execution_count": 37,
     "metadata": {},
     "output_type": "execute_result"
    }
   ],
   "source": [
    "myRidge = MyRidge(mu=0.1)\n",
    "myRidge.fit(X2, y)\n",
    "myRidge.beta"
   ]
  },
  {
   "cell_type": "code",
   "execution_count": null,
   "id": "0fc38b03-09d8-4ee3-bf12-f13c2511be5a",
   "metadata": {},
   "outputs": [],
   "source": []
  },
  {
   "cell_type": "markdown",
   "id": "27253664-d533-4af9-8a75-634401a09e8a",
   "metadata": {
    "tags": []
   },
   "source": [
    "## プログラム3.9 リッジ回帰($\\mu = 1$)の数値例 (p79)"
   ]
  },
  {
   "cell_type": "code",
   "execution_count": 38,
   "id": "27b8af2c-91eb-4994-8844-daa4413bb4b3",
   "metadata": {},
   "outputs": [
    {
     "name": "stdout",
     "output_type": "stream",
     "text": [
      "[[ 0.0102]\n",
      " [-0.4715]\n",
      " [ 0.3798]]\n",
      "[[ 0.0123]\n",
      " [-0.4740]\n",
      " [ 0.3786]]\n"
     ]
    }
   ],
   "source": [
    "# パラメータを1に設定します\n",
    "mu = 1\n",
    "beta1 = ridge(X1, y, mu)\n",
    "print(beta1)\n",
    "\n",
    "# [[ 0.01017256]\n",
    "# [-0.47145393]\n",
    "# [ 0.3798 ]]\n",
    "\n",
    "beta2 = ridge(X2, y, mu)\n",
    "print(beta2)\n",
    "\n",
    "# [[ 0.01227368]\n",
    "# [-0.47396013]\n",
    "# [ 0.37864896]]"
   ]
  },
  {
   "cell_type": "code",
   "execution_count": 39,
   "id": "1f3f7723-bad7-430a-a241-3a83447a450b",
   "metadata": {},
   "outputs": [
    {
     "data": {
      "text/plain": [
       "(array([[ 0.0102, -0.4715,  0.3798]]), array([ 0.0025]))"
      ]
     },
     "execution_count": 39,
     "metadata": {},
     "output_type": "execute_result"
    }
   ],
   "source": [
    "skridge = Ridge(alpha=1)\n",
    "skridge.fit(X1, y)\n",
    "skridge.coef_, skridge.intercept_"
   ]
  },
  {
   "cell_type": "code",
   "execution_count": 40,
   "id": "6d9bd477-285c-4fc9-9248-1f668439b02d",
   "metadata": {},
   "outputs": [
    {
     "data": {
      "text/plain": [
       "(array([[ 0.0123, -0.4740,  0.3786]]), array([ 0.0025]))"
      ]
     },
     "execution_count": 40,
     "metadata": {},
     "output_type": "execute_result"
    }
   ],
   "source": [
    "skridge = Ridge(alpha=1)\n",
    "skridge.fit(X2, y)\n",
    "skridge.coef_, skridge.intercept_"
   ]
  },
  {
   "cell_type": "code",
   "execution_count": 41,
   "id": "c7993918-ddf6-4826-90a7-a5d9a8aa48ef",
   "metadata": {},
   "outputs": [
    {
     "data": {
      "text/plain": [
       "array([[ 0.0102],\n",
       "       [-0.4715],\n",
       "       [ 0.3798]])"
      ]
     },
     "execution_count": 41,
     "metadata": {},
     "output_type": "execute_result"
    }
   ],
   "source": [
    "myRidge = MyRidge(mu=1)\n",
    "myRidge.fit(X1, y)\n",
    "myRidge.beta"
   ]
  },
  {
   "cell_type": "code",
   "execution_count": 42,
   "id": "17c87f2c-effe-4b55-beca-960ff6160b9c",
   "metadata": {},
   "outputs": [
    {
     "data": {
      "text/plain": [
       "array([[ 0.0123],\n",
       "       [-0.4740],\n",
       "       [ 0.3786]])"
      ]
     },
     "execution_count": 42,
     "metadata": {},
     "output_type": "execute_result"
    }
   ],
   "source": [
    "myRidge = MyRidge(mu=1)\n",
    "myRidge.fit(X2, y)\n",
    "myRidge.beta"
   ]
  },
  {
   "cell_type": "code",
   "execution_count": null,
   "id": "fc0f3936-df44-4f69-8165-9a73cdecec53",
   "metadata": {},
   "outputs": [],
   "source": []
  },
  {
   "cell_type": "markdown",
   "id": "dd229961-c4ca-43e9-af1f-8e257f9d1483",
   "metadata": {},
   "source": [
    "# 3.12 部分的最小二乗法 (PLS) (p80)\n",
    "\n",
    "- 多重共線性問題の回避のための次元削減では、相当量の情報量を無駄にしている\n",
    "- リッジ回帰では、サンプル数が入力変数より少ない場合、回帰計算ができない\n",
    "\n",
    "<hr>\n",
    "\n",
    "- 線形回帰では入力変数と出力変数との間での相関関係が重要です\n",
    "- 入力データの次元を削減する際も、以下が考えられます\n",
    "    - 入力変数間の相関関係のみならず\n",
    "    - 入出力間の相関関係も考慮すべき\n",
    "    \n",
    "    \n",
    "    \n",
    "<div style=\"text-align:center\">\n",
    "<img src=\"img/fig3.8.PNG\" width=\"40%\" >\n",
    "</div>"
   ]
  },
  {
   "cell_type": "markdown",
   "id": "bc55f4ec-ae79-4848-9348-b31c9f650232",
   "metadata": {},
   "source": [
    "## プログラム3.10 NIPALS によるPLS1（linear_regression.py）(p86)"
   ]
  },
  {
   "cell_type": "code",
   "execution_count": 43,
   "id": "39c9775c-3fdf-4155-ac95-b636d215189e",
   "metadata": {},
   "outputs": [],
   "source": [
    "def nipals_pls1(X, y, R):\n",
    "    \"\"\"\n",
    "    NIPALS アルゴリズムを用いて回帰係数を計算します (PLS1).\n",
    "\n",
    "    パラメータ\n",
    "    ----------\n",
    "    X: 入力データ\n",
    "    y: 出力データ\n",
    "    R: 潜在変数の数\n",
    "\n",
    "    戻り値\n",
    "    -------\n",
    "    beta: 回帰係数\n",
    "    W, P, D: PLS 1 モデルのパラメータ\n",
    "    T: 潜在変数\n",
    "    \"\"\"\n",
    "\n",
    "    # yをベクトル化します\n",
    "    y = y.reshape(-1, 1)\n",
    "\n",
    "    # パラメータを保存する変数を作成します\n",
    "    W = np.zeros((X.shape [1], R))\n",
    "    P = np.zeros((X.shape [1], R))\n",
    "    D = np.zeros((R, 1))\n",
    "    T = np.zeros((X.shape [0], R))\n",
    "\n",
    "    # NIPALS を計算します\n",
    "    for r in range(R):\n",
    "        # 重みを求めます\n",
    "        w = (X.T @ y)/ np.linalg.norm(X.T @ y)\n",
    "        # 潜在変数を計算します\n",
    "        t = X @ w\n",
    "        # ローディングベクトルを求めます\n",
    "        p =(X.T @ t)/(t.T @ t)\n",
    "        # 回帰係数を求めます\n",
    "        d =(t.T @ y)/(t.T @ t)\n",
    "        # デフレーションを行います\n",
    "        X = X - t.reshape(-1, 1) @ p.T\n",
    "        y = y - t @ d\n",
    "        # パラメータを格納します\n",
    "        W[:,r] = w.T\n",
    "        P[:,r] = p.T\n",
    "        D[r] = d.T\n",
    "        T[:,r] = t.T\n",
    "\n",
    "    # 回帰係数を計算します\n",
    "    beta = W @ np.linalg.inv(P.T @ W)@ D\n",
    "    return beta, W, P, D, T"
   ]
  },
  {
   "cell_type": "markdown",
   "id": "b51da10b-dc94-4dc8-8e6c-64ae7c97d630",
   "metadata": {},
   "source": [
    "## *sklearn.cross_decomposition.PLSRegression (SHOWME)"
   ]
  },
  {
   "cell_type": "code",
   "execution_count": 44,
   "id": "182f449e-a32a-4e9b-a84c-bf208888a14c",
   "metadata": {},
   "outputs": [],
   "source": [
    "from sklearn.cross_decomposition import PLSRegression"
   ]
  },
  {
   "cell_type": "markdown",
   "id": "5a2bb3f8-0a23-4b45-9e3e-72d22ac18744",
   "metadata": {},
   "source": [
    "## *MyPLS (numpy from scratch) (TODO)"
   ]
  },
  {
   "cell_type": "code",
   "execution_count": null,
   "id": "8cf74fa9-2aa3-44ae-afec-4dbe9314c49b",
   "metadata": {},
   "outputs": [],
   "source": []
  },
  {
   "cell_type": "markdown",
   "id": "ae437b39-0b46-4068-9612-f716d3544b6c",
   "metadata": {},
   "source": [
    "## プログラム3.11 PLS1 (潜在変数 R = 2) の数値例 (p87)"
   ]
  },
  {
   "cell_type": "code",
   "execution_count": 45,
   "id": "180c7269-14ee-4338-b752-8e4b6c69ae0e",
   "metadata": {},
   "outputs": [
    {
     "name": "stdout",
     "output_type": "stream",
     "text": [
      "[[ 0.2585]\n",
      " [-0.6887]\n",
      " [ 0.4939]]\n",
      "[[ 0.2593]\n",
      " [-0.6922]\n",
      " [ 0.4914]]\n"
     ]
    }
   ],
   "source": [
    "# 潜在変数が2 のとき\n",
    "R = 2\n",
    "# beta1 = nipals_pls1(X1, y, R)\n",
    "beta1, _, _, _, _  = nipals_pls1(X1, y, R)\n",
    "print(beta1)\n",
    "\n",
    "# [[ 0.25850307]\n",
    "# [-0.68870411]\n",
    "# [ 0.4939176 ]]\n",
    "\n",
    "\n",
    "# beta2 = nipals_pls1(X2, y, R)\n",
    "beta2, _, _, _, _ = nipals_pls1(X2, y, R)\n",
    "print(beta2)\n",
    "\n",
    "# [[ 0.25927822]\n",
    "# [-0.69216413]\n",
    "# [ 0.49144161]]"
   ]
  },
  {
   "cell_type": "code",
   "execution_count": 46,
   "id": "d98d7caf-69ee-4dfa-9125-3ecaedeb9ede",
   "metadata": {},
   "outputs": [
    {
     "data": {
      "text/plain": [
       "array([[ 0.2581],\n",
       "       [-0.6895],\n",
       "       [ 0.4945]])"
      ]
     },
     "execution_count": 46,
     "metadata": {},
     "output_type": "execute_result"
    }
   ],
   "source": [
    "plsReg = PLSRegression(n_components=2)\n",
    "plsReg.fit(X1, y)\n",
    "plsReg.coef_"
   ]
  },
  {
   "cell_type": "code",
   "execution_count": 47,
   "id": "1ef4e1a5-bd52-40ae-9b08-8fac1c9ec944",
   "metadata": {},
   "outputs": [
    {
     "data": {
      "text/plain": [
       "array([[ 0.2597],\n",
       "       [-0.6927],\n",
       "       [ 0.4919]])"
      ]
     },
     "execution_count": 47,
     "metadata": {},
     "output_type": "execute_result"
    }
   ],
   "source": [
    "plsReg = PLSRegression(n_components=2)\n",
    "plsReg.fit(X2, y)\n",
    "plsReg.coef_"
   ]
  },
  {
   "cell_type": "code",
   "execution_count": null,
   "id": "34d10022-854e-46c4-bb8b-92ea5ca11cbd",
   "metadata": {},
   "outputs": [],
   "source": []
  },
  {
   "cell_type": "markdown",
   "id": "31379d8e-ee9a-4de7-b4dc-a454e257c455",
   "metadata": {},
   "source": [
    "## プログラム3.11 PLS1 (潜在変数 R = 1) の数値例 (p87)"
   ]
  },
  {
   "cell_type": "code",
   "execution_count": 48,
   "id": "65b5fbf7-f8f6-4f65-859b-9de0f73a156a",
   "metadata": {},
   "outputs": [
    {
     "name": "stdout",
     "output_type": "stream",
     "text": [
      "[[-0.2383]\n",
      " [-0.3805]\n",
      " [ 0.3681]]\n",
      "[[-0.2376]\n",
      " [-0.3809]\n",
      " [ 0.3675]]\n"
     ]
    }
   ],
   "source": [
    "# 潜在変数が1 のとき\n",
    "R = 1\n",
    "# beta1 = nipals_pls1(X1, y, R)\n",
    "beta1, _, _, _, _  = nipals_pls1(X1, y, R)\n",
    "print(beta1)\n",
    "\n",
    "# [[-0.23825147]\n",
    "# [-0.38052552]\n",
    "# [ 0.36808306]]\n",
    "\n",
    "# beta2 = nipals_pls1(X2, y, R)\n",
    "beta2, _, _, _, _  = nipals_pls1(X2, y, R)\n",
    "print(beta2)\n",
    "\n",
    "# [[-0.23758087]\n",
    "# [-0.38091899]\n",
    "# [ 0.36748303]]"
   ]
  },
  {
   "cell_type": "code",
   "execution_count": 49,
   "id": "c7ca2795-377a-4647-a910-62ed3f1feee3",
   "metadata": {},
   "outputs": [
    {
     "data": {
      "text/plain": [
       "array([[-0.2388],\n",
       "       [-0.3806],\n",
       "       [ 0.3679]])"
      ]
     },
     "execution_count": 49,
     "metadata": {},
     "output_type": "execute_result"
    }
   ],
   "source": [
    "plsReg = PLSRegression(n_components=1)\n",
    "plsReg.fit(X1, y)\n",
    "plsReg.coef_"
   ]
  },
  {
   "cell_type": "code",
   "execution_count": 50,
   "id": "0350085b-3df1-4168-a872-eae84814e4c2",
   "metadata": {},
   "outputs": [
    {
     "data": {
      "text/plain": [
       "array([[-0.2377],\n",
       "       [-0.3813],\n",
       "       [ 0.3680]])"
      ]
     },
     "execution_count": 50,
     "metadata": {},
     "output_type": "execute_result"
    }
   ],
   "source": [
    "plsReg = PLSRegression(n_components=1)\n",
    "plsReg.fit(X2, y)\n",
    "plsReg.coef_"
   ]
  },
  {
   "cell_type": "code",
   "execution_count": null,
   "id": "00b5c1a5-a885-4986-be32-ee2515e7d1e2",
   "metadata": {},
   "outputs": [],
   "source": []
  },
  {
   "cell_type": "markdown",
   "id": "bddc7144-35b5-4581-bc5a-875962c62ed6",
   "metadata": {},
   "source": [
    "# 3.13 PLS1モデルの導出　(p82) (TODO)"
   ]
  },
  {
   "cell_type": "code",
   "execution_count": null,
   "id": "15f70de8-5037-4dfa-9e21-85a64b02d805",
   "metadata": {},
   "outputs": [],
   "source": []
  },
  {
   "cell_type": "markdown",
   "id": "2daaf627-7374-4433-a803-77ded5ba82b0",
   "metadata": {},
   "source": [
    "# 3.15 重回帰モデルへの変換　(p86) (TODO)"
   ]
  },
  {
   "cell_type": "code",
   "execution_count": null,
   "id": "f1bcacea-f880-4fa7-be56-a2fd23d5bba9",
   "metadata": {},
   "outputs": [],
   "source": []
  },
  {
   "cell_type": "markdown",
   "id": "0b2c09cc-5cfb-4d89-9c03-33928de5b9ac",
   "metadata": {},
   "source": [
    "# 3.16 出力変数が複数ある場合 (PLS2) (p89)"
   ]
  },
  {
   "cell_type": "markdown",
   "id": "8d87a1b2-1208-4a49-99ad-cd28571855d9",
   "metadata": {},
   "source": [
    "## プログラム3.12 NIPALS によるPLS2（linear_regression.py） (p93)"
   ]
  },
  {
   "cell_type": "code",
   "execution_count": 51,
   "id": "4b268ba5-3709-4671-98fd-136e8a2be112",
   "metadata": {},
   "outputs": [],
   "source": [
    "# PLS 2 本体の関数\n",
    "def nipals_pls2(X, Y, R, epsilon=0.01):\n",
    "    \"\"\"\n",
    "    NIPALS アルゴリズムを用いて回帰係数を計算します（PLS2）．\n",
    "\n",
    "    パラメータ\n",
    "    ----------\n",
    "    X: 入力データ\n",
    "    Y: 出力データ\n",
    "    R: 潜在変数の数\n",
    "    epsilon: （デフォルト: 0.01）\n",
    "\n",
    "    戻り値\n",
    "    -------\n",
    "    beta: 回帰係数\n",
    "    W, P, Q: PLS 2 モデルのパラメータ\n",
    "    T: 潜在変数\n",
    "    \"\"\"\n",
    "\n",
    "    # パラメータを保存する変数を作成します\n",
    "    W = np.zeros((X.shape [1], R))\n",
    "    P = np.zeros((X.shape [1], R))\n",
    "    Q = np.zeros((Y.shape [1], R))\n",
    "    T = np.zeros((X.shape [0], R))\n",
    "\n",
    "    for r in range(R):\n",
    "        # アルゴリズム2 よりw, c, t を求めます\n",
    "        w, c, t = calc_parameter(X, Y, epsilon)\n",
    "        # ローディングベクトルを求めます\n",
    "        p =(X.T @ t)/(t.T @ t)\n",
    "        # 回帰係数を求めます\n",
    "        q =(Y.T @ t)/(t.T @ t)\n",
    "        # デフレーションを行います\n",
    "        X = X - np.outer(t, p)\n",
    "        Y = Y - np.outer(t, q)\n",
    "        # パラメータを保存します\n",
    "        W[:,r] = w\n",
    "        P[:,r] = p\n",
    "        Q[:,r] = q\n",
    "        T[:,r] = t\n",
    "\n",
    "    # 回帰係数を計算します\n",
    "    beta = W @ np.linalg.inv(P.T @ W)@ Q.T\n",
    "\n",
    "    return beta, W, P, Q, T\n",
    "\n",
    "\n",
    "# アルゴリズム2 を計算する関数\n",
    "def calc_parameter(X, Y, epsilon):\n",
    "    u = Y[:,0]\n",
    "    while True :\n",
    "        # 重みベクトルw を更新します\n",
    "        w = X.T @ u / np.linalg.norm(X.T @ u)\n",
    "        # 潜在変数t を更新します\n",
    "        t = X @ w\n",
    "        # 重みベクトルc を更新します\n",
    "        c = Y.T @ t /np.linalg.norm(Y.T @ t)\n",
    "        # 潜在変数u を更新します\n",
    "        u_new = Y @ c\n",
    "        # 収束判定を行います\n",
    "        if np.linalg.norm(u_new - u) < epsilon: break\n",
    "        u = u_new\n",
    "    return w, c, t"
   ]
  },
  {
   "cell_type": "markdown",
   "id": "aad6b3f3-f674-49e4-92a5-01eb5d300b97",
   "metadata": {},
   "source": [
    "## *MyNipals (TODO)"
   ]
  },
  {
   "cell_type": "code",
   "execution_count": null,
   "id": "ca70d502-11d2-457b-89cb-0decc7c5771b",
   "metadata": {},
   "outputs": [],
   "source": []
  },
  {
   "cell_type": "markdown",
   "id": "2a63aec6-e92b-4251-9838-46898c9f7760",
   "metadata": {
    "tags": []
   },
   "source": [
    "# 3.17 PLSと固有値問題・特異値分解 (p94)(TODO)"
   ]
  },
  {
   "cell_type": "markdown",
   "id": "97ab0e29-b365-4250-bfbc-553766e79db7",
   "metadata": {},
   "source": [
    "## プログラム3.13 SIMPLS によるPLS（linear_regression.py） (p96)"
   ]
  },
  {
   "cell_type": "code",
   "execution_count": 52,
   "id": "2aac72b5-c4e2-4fdc-9ce9-cea3654fccb5",
   "metadata": {
    "tags": []
   },
   "outputs": [],
   "source": [
    "def simpls(X, Y, R):\n",
    "    \"\"\"\n",
    "    SIMPLS アルゴリズムを用いて回帰係数を計算します. \n",
    "\n",
    "    パラメータ\n",
    "    ----------\n",
    "    X: 入力データ\n",
    "    Y: 出力データ\n",
    "    R: 潜在変数の数\n",
    "\n",
    "    戻り値\n",
    "    -------\n",
    "    beta: 回帰係数\n",
    "    W, P, Q: PLS 1 モデルのパラメータ\n",
    "    T, U: 潜在変数\n",
    "    cont: 寄与率\n",
    "    \"\"\"\n",
    "    # yをベクトル化します\n",
    "    Y = Y.reshape(-1, 1)\n",
    "\n",
    "    # パラメータを保存する変数を作成します\n",
    "    W = np.zeros((X.shape [1], R))\n",
    "    P = np.zeros((X.shape [1], R))\n",
    "    Q = np.zeros((Y.shape [1], R))\n",
    "    T = np.zeros((X.shape [0], R))\n",
    "    U = np.zeros((Y.shape [0], R))\n",
    "    ssq = np.zeros([R,2])\n",
    "    ssqX = np.sum(X**2)\n",
    "    ssqY = np.sum(Y**2)\n",
    "\n",
    "    for r in range(R):\n",
    "        # 特異値分をします\n",
    "        u, s, v = np.linalg.svd(Y.T @ X)\n",
    "        # 最大特異値に対応する右特異値ベクトルを求めます\n",
    "        w = v[0,:].T\n",
    "        # 潜在変数t を求めます\n",
    "        t = X @ w\n",
    "        # ローディングベクトルを求めます\n",
    "        p =(X.T @ t)/(t.T @ t)\n",
    "        # 回帰係数　q　を求めます\n",
    "        q =(Y.T @ t)/(t.T @ t)\n",
    "        # 潜在変数u を求めます\n",
    "        u = Y @ q\n",
    "        # デフレーションを行います\n",
    "        X = X - np.outer(t, p)\n",
    "        Y = Y - np.outer(t, q)\n",
    "        ssq [r,0] = np.sum(X**2)/ ssqX\n",
    "        ssq [r,1] = np.sum(Y**2)/ ssqY\n",
    "        # パラメータを保存します\n",
    "        W[:,r] = w.T\n",
    "        P[:,r] = p.T\n",
    "        Q[:,r] = q.T\n",
    "        T[:,r] = t.T\n",
    "        U[:,r] = u.T\n",
    "\n",
    "    # 回帰係数を計算します\n",
    "    beta = W @ np.linalg.inv(P.T @ W)@ Q.T\n",
    "\n",
    "    # 寄与率を計算します\n",
    "    cont = np.zeros([R,2])\n",
    "    cont [0,:] = 1 - ssq [0,:]\n",
    "    for r in range(1,R):\n",
    "        cont [r,:] = ssq [r-1,:] - ssq[r,:]\n",
    "\n",
    "    return beta, W, P, Q, T, U, cont"
   ]
  },
  {
   "cell_type": "markdown",
   "id": "f1588a11-cf01-4de6-8e67-229257578714",
   "metadata": {},
   "source": [
    "## *MySimpls (TODO)"
   ]
  },
  {
   "cell_type": "markdown",
   "id": "9dbc9beb-33e0-40a3-94ae-4c2937a5ae3c",
   "metadata": {},
   "source": [
    "## プログラム3.14 SIMPLS の数値例 (p97)"
   ]
  },
  {
   "cell_type": "code",
   "execution_count": 53,
   "id": "befa5fbf-a5be-483a-86fb-c64b76a13996",
   "metadata": {},
   "outputs": [
    {
     "name": "stdout",
     "output_type": "stream",
     "text": [
      "[[ 0.2585]\n",
      " [-0.6887]\n",
      " [ 0.4939]]\n",
      "[[ 0.2593]\n",
      " [-0.6922]\n",
      " [ 0.4914]]\n"
     ]
    }
   ],
   "source": [
    "# 潜在変数が2のとき\n",
    "R = 2\n",
    "\n",
    "# beta1 = simpls(X1, y, R)\n",
    "beta1, _, _, _, _, _, _ = simpls(X1, y, R)\n",
    "print(beta1)\n",
    "# [[ 0.25850307]\n",
    "# [-0.68870411]\n",
    "# [ 0.4939176 ]]\n",
    "\n",
    "beta2, _, _, _, _, _, _ = simpls(X2, y, R)\n",
    "print(beta2)\n",
    "# [[ 0.25927822]\n",
    "# [-0.69216413]\n",
    "# [ 0.49144161]]"
   ]
  },
  {
   "cell_type": "code",
   "execution_count": 54,
   "id": "b584afb1-5803-4825-acb2-4272bdf581bb",
   "metadata": {},
   "outputs": [
    {
     "name": "stdout",
     "output_type": "stream",
     "text": [
      "[[-0.2383]\n",
      " [-0.3805]\n",
      " [ 0.3681]]\n",
      "[[-0.2376]\n",
      " [-0.3809]\n",
      " [ 0.3675]]\n"
     ]
    }
   ],
   "source": [
    "# 潜在変数が1のとき\n",
    "R = 1\n",
    "# beta1 = simpls(X1, y, R)\n",
    "beta1, _, _, _, _, _, _ = simpls(X1, y, R)\n",
    "print(beta1)\n",
    "# [[-0.23825147]\n",
    "# [-0.38052552]\n",
    "# [ 0.36808306]]\n",
    "\n",
    "# beta2 = simpls(X2, y, R)\n",
    "beta2, _, _, _, _, _, _ = simpls(X2, y, R)\n",
    "print(beta2)\n",
    "# [[-0.23758087]\n",
    "# [-0.38091899]\n",
    "# [ 0.36748303]]"
   ]
  },
  {
   "cell_type": "markdown",
   "id": "5318d5ab-1915-454a-95b3-1eed3b2827fd",
   "metadata": {},
   "source": [
    "# 3.18 ハイパーパラメータの調整 (p98) (TODO)"
   ]
  },
  {
   "cell_type": "code",
   "execution_count": null,
   "id": "fee5c96c-b8e6-4e27-ba3f-cf2a829ada9b",
   "metadata": {},
   "outputs": [],
   "source": []
  },
  {
   "cell_type": "markdown",
   "id": "c3105dea-bc11-4439-90c0-cbd8098d383f",
   "metadata": {},
   "source": [
    "# Last"
   ]
  },
  {
   "cell_type": "code",
   "execution_count": null,
   "id": "556fb2c2-02ae-4e7c-b84c-ac28083c88fd",
   "metadata": {},
   "outputs": [],
   "source": []
  }
 ],
 "metadata": {
  "kernelspec": {
   "display_name": "py38",
   "language": "python",
   "name": "py38"
  },
  "language_info": {
   "codemirror_mode": {
    "name": "ipython",
    "version": 3
   },
   "file_extension": ".py",
   "mimetype": "text/x-python",
   "name": "python",
   "nbconvert_exporter": "python",
   "pygments_lexer": "ipython3",
   "version": "3.8.12"
  },
  "toc-showmarkdowntxt": false
 },
 "nbformat": 4,
 "nbformat_minor": 5
}
