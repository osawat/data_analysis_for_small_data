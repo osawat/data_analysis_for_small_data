{
 "cells": [
  {
   "cell_type": "markdown",
   "id": "ea18241a-0aef-4033-b24e-8000f7eba689",
   "metadata": {},
   "source": [
    "# Chap2 相関関係と主成分分析\n",
    "\n",
    "\n",
    "![](https://m.media-amazon.com/images/I/51+dt08QnxL._SY346_.jpg)"
   ]
  },
  {
   "cell_type": "markdown",
   "id": "bcfcdb2d-8b28-4048-9e4f-32fa9c8e1fd8",
   "metadata": {
    "tags": []
   },
   "source": [
    "# 2.1 データの前処理 (p9)\n",
    "\n",
    "標準化\n",
    "\n",
    "$$\n",
    "\\tilde{x} = \\frac{x- \\bar{x}}{s}  \\ \\ \\ \\tag{2.5}\n",
    "$$"
   ]
  },
  {
   "cell_type": "markdown",
   "id": "4e7de2a0-8b43-4d7c-80f0-4dff203d2d0b",
   "metadata": {},
   "source": [
    "### プログラム 2.2 データを標準化する (p14)"
   ]
  },
  {
   "cell_type": "code",
   "execution_count": 66,
   "id": "bf7d1cfc-794b-4cbf-b05b-4ee4c12ba69f",
   "metadata": {},
   "outputs": [
    {
     "name": "stdout",
     "output_type": "stream",
     "text": [
      "[[-1. -1. -1.]\n",
      " [ 0.  0.  0.]\n",
      " [ 1.  1.  1.]]\n",
      "[4. 5. 6.]\n",
      "[3. 3. 3.]\n"
     ]
    }
   ],
   "source": [
    "import numpy as np\n",
    "import scale\n",
    "\n",
    "# 既存データと未知サンプルをndarray 型で定義します\n",
    "X = np.array([[1, 2, 3],\n",
    "\t\t\t[4, 5, 6],\n",
    "\t\t\t[7, 8, 9]])\n",
    "\n",
    "x = np.array([[10, 11, 12]])\n",
    "\n",
    "# X を標準化します\n",
    "Xscale, meanX, stdX = scale.autoscale(X)\n",
    "print(Xscale)\n",
    "print(meanX)\n",
    "print(stdX)"
   ]
  },
  {
   "cell_type": "code",
   "execution_count": 68,
   "id": "803ce8b4-c2bf-426a-b60d-6a76c3fb8a58",
   "metadata": {},
   "outputs": [
    {
     "name": "stdout",
     "output_type": "stream",
     "text": [
      "[[2. 2. 2.]]\n",
      "[[10. 11. 12.]]\n"
     ]
    }
   ],
   "source": [
    "# 未知サンプルを標準化します\n",
    "xscale = scale.scaling(x, meanX , stdX)\n",
    "print(xscale)\n",
    "# 標準化したサンプルを元のスケールに戻します．\n",
    "xrescale = scale.rescaling(xscale , meanX , stdX)\n",
    "print(xrescale)"
   ]
  },
  {
   "cell_type": "code",
   "execution_count": null,
   "id": "f8bcb25b-bf8d-4be7-9ba2-e5037b86c872",
   "metadata": {},
   "outputs": [],
   "source": []
  },
  {
   "cell_type": "markdown",
   "id": "880208c7-699f-4d86-b015-47074fe94ad3",
   "metadata": {},
   "source": [
    "### UnbiasedStandardScaler 不偏分散版 (from scratch)\n",
    "- (ddof=1)"
   ]
  },
  {
   "cell_type": "code",
   "execution_count": 69,
   "id": "16a1b05c-61d2-4b3b-81fb-25bf808806e7",
   "metadata": {},
   "outputs": [],
   "source": [
    "import numpy as np\n",
    "import matplotlib.pyplot as plt\n",
    "from sklearn.base import BaseEstimator, TransformerMixin \n",
    "from sklearn.preprocessing import StandardScaler"
   ]
  },
  {
   "cell_type": "code",
   "execution_count": 70,
   "id": "d698390f-2dce-4786-b42c-92ca9c6abfac",
   "metadata": {},
   "outputs": [],
   "source": [
    "# 既存データと未知サンプルをndarray 型で定義します\n",
    "X = np.array([[1, 2, 3],\n",
    "\t\t\t[4, 5, 6],\n",
    "\t\t\t[7, 8, 9]])\n",
    "\n",
    "x = np.array([[10, 11, 12]])"
   ]
  },
  {
   "cell_type": "code",
   "execution_count": 71,
   "id": "b530ef9c-d8a2-4846-bd5b-92495d209b76",
   "metadata": {},
   "outputs": [],
   "source": [
    "class UnbiasedStandardScaler(TransformerMixin):\n",
    "    def __init__(self):\n",
    "        self.X_mean = None\n",
    "        self.X_std = None\n",
    "    def fit(self, X):\n",
    "        self.X_mean = X.mean(axis=0)\n",
    "        self.X_std = X.std(axis=0, ddof=1)\n",
    "        return self\n",
    "    def transform(self, X):\n",
    "        return (X - self.X_mean)/self.X_std\n",
    "    def inverse_transform(self, X):\n",
    "        return X * self.X_std + self.X_mean"
   ]
  },
  {
   "cell_type": "code",
   "execution_count": 72,
   "id": "04ef71cb-01d1-4605-8e01-fc94e7ea73eb",
   "metadata": {},
   "outputs": [
    {
     "data": {
      "text/plain": [
       "array([[-1., -1., -1.],\n",
       "       [ 0.,  0.,  0.],\n",
       "       [ 1.,  1.,  1.]])"
      ]
     },
     "execution_count": 72,
     "metadata": {},
     "output_type": "execute_result"
    }
   ],
   "source": [
    "ubss = UnbiasedStandardScaler()\n",
    "X_std = ubss.fit_transform(X)\n",
    "X_std"
   ]
  },
  {
   "cell_type": "code",
   "execution_count": 73,
   "id": "e5802465-b77c-41f5-addc-69824875047a",
   "metadata": {},
   "outputs": [
    {
     "data": {
      "text/plain": [
       "array([[1., 2., 3.],\n",
       "       [4., 5., 6.],\n",
       "       [7., 8., 9.]])"
      ]
     },
     "execution_count": 73,
     "metadata": {},
     "output_type": "execute_result"
    }
   ],
   "source": [
    "ubss.inverse_transform(X_std)"
   ]
  },
  {
   "cell_type": "code",
   "execution_count": 74,
   "id": "1192a395-2033-4f0e-9ff0-0a5503fd2a7b",
   "metadata": {},
   "outputs": [
    {
     "name": "stdout",
     "output_type": "stream",
     "text": [
      "[4. 5. 6.]\n",
      "[3. 3. 3.]\n"
     ]
    }
   ],
   "source": [
    "print(ubss.X_mean)\n",
    "print(ubss.X_std)"
   ]
  },
  {
   "cell_type": "markdown",
   "id": "cbd139a2-9f0b-46f1-a1f4-1b56478183b8",
   "metadata": {},
   "source": [
    "### sklearn.preprocessing.StandardScaler 標本分散版\n",
    "\n",
    "- 標本分散 (ddof=0) \n",
    "\n",
    "- `ss.fit_transform(X)*np.sqrt(N-1/N)`\n",
    "- `StandardScaler`の標準化は標本分散ベース\n",
    "- 不偏分散ベースにするには、`np.sqrt((N-1)/N)`を乗じる"
   ]
  },
  {
   "cell_type": "code",
   "execution_count": 59,
   "id": "3916718e-b1b4-4607-a1ce-c512ca2190fb",
   "metadata": {},
   "outputs": [
    {
     "data": {
      "text/plain": [
       "array([[-1.22474487, -1.22474487, -1.22474487],\n",
       "       [ 0.        ,  0.        ,  0.        ],\n",
       "       [ 1.22474487,  1.22474487,  1.22474487]])"
      ]
     },
     "execution_count": 59,
     "metadata": {},
     "output_type": "execute_result"
    }
   ],
   "source": [
    "ss = StandardScaler()\n",
    "ss.fit_transform(X)"
   ]
  },
  {
   "cell_type": "code",
   "execution_count": 60,
   "id": "9297544a-a81c-41ab-9c5e-d7453ec1a22d",
   "metadata": {},
   "outputs": [
    {
     "name": "stdout",
     "output_type": "stream",
     "text": [
      "[4. 5. 6.]\n",
      "[6. 6. 6.] [2.44948974 2.44948974 2.44948974]\n"
     ]
    }
   ],
   "source": [
    "print(ss.mean_)\n",
    "print(ss.var_, np.sqrt(ss.var_))"
   ]
  },
  {
   "cell_type": "code",
   "execution_count": 61,
   "id": "e8d0346a-d79c-496c-ab54-55cbe889a800",
   "metadata": {},
   "outputs": [
    {
     "data": {
      "text/plain": [
       "array([[-1., -1., -1.],\n",
       "       [ 0.,  0.,  0.],\n",
       "       [ 1.,  1.,  1.]])"
      ]
     },
     "execution_count": 61,
     "metadata": {},
     "output_type": "execute_result"
    }
   ],
   "source": [
    "ss.fit_transform(X)*np.sqrt(2/3)"
   ]
  },
  {
   "cell_type": "code",
   "execution_count": null,
   "id": "e449d006-5ccd-4099-b14a-926091428c53",
   "metadata": {},
   "outputs": [],
   "source": []
  },
  {
   "cell_type": "markdown",
   "id": "ef157a99-64a1-4dcf-8735-d645cafcd7a4",
   "metadata": {
    "tags": []
   },
   "source": [
    "# 2.9 主成分分析の数値例"
   ]
  },
  {
   "cell_type": "markdown",
   "id": "3a7741f4-7517-4779-9e44-16777558cde6",
   "metadata": {},
   "source": [
    "### プログラム 2.4 PCAの数値例 (P42)"
   ]
  },
  {
   "cell_type": "code",
   "execution_count": 86,
   "id": "bff307cc-ccf5-4dff-8b6d-549f425c72e8",
   "metadata": {},
   "outputs": [
    {
     "name": "stdout",
     "output_type": "stream",
     "text": [
      "[[ 0.7071 -0.7071]\n",
      " [ 0.7071  0.7071]]\n",
      "[[ 2.8284  0.0000]\n",
      " [ 0.0000 -1.4142]\n",
      " [-0.0000  1.4142]\n",
      " [-2.8284 -0.0000]]\n"
     ]
    }
   ],
   "source": [
    "import numpy as np\n",
    "from pca import pca\n",
    "\n",
    "np.set_printoptions(formatter={'float':'{: .4f}'.format})\n",
    "\n",
    "data = [[2, 2], [1, -1], [-1, 1], [-2, -2]]\n",
    "x = np.array(data)\n",
    "P, T = pca(x)\n",
    "\n",
    "print(P)\n",
    "print(T)"
   ]
  },
  {
   "cell_type": "code",
   "execution_count": null,
   "id": "247d6ef1-8005-41d2-b100-0bf5da498a9f",
   "metadata": {},
   "outputs": [],
   "source": []
  },
  {
   "cell_type": "markdown",
   "id": "8c6ff783-e6c0-46ca-a023-b1d22dbd424d",
   "metadata": {},
   "source": [
    "### sklearn.decomposition.PCA"
   ]
  },
  {
   "cell_type": "code",
   "execution_count": 87,
   "id": "1fa13568-e90a-43b2-acad-37159b032702",
   "metadata": {},
   "outputs": [],
   "source": [
    "from sklearn.base import TransformerMixin\n",
    "from sklearn.decomposition import PCA"
   ]
  },
  {
   "cell_type": "code",
   "execution_count": 88,
   "id": "2ddddba5-c6c6-4328-a565-0e5a671c32ca",
   "metadata": {},
   "outputs": [
    {
     "data": {
      "text/plain": [
       "array([[ 2,  2],\n",
       "       [ 1, -1],\n",
       "       [-1,  1],\n",
       "       [-2, -2]])"
      ]
     },
     "execution_count": 88,
     "metadata": {},
     "output_type": "execute_result"
    }
   ],
   "source": [
    "data = [[2, 2], [1, -1], [-1, 1], [-2, -2]]\n",
    "X = np.array( data)\n",
    "X"
   ]
  },
  {
   "cell_type": "code",
   "execution_count": 89,
   "id": "0d8facd2-8650-4d44-9981-caecd085064d",
   "metadata": {},
   "outputs": [
    {
     "data": {
      "text/plain": [
       "PCA()"
      ]
     },
     "execution_count": 89,
     "metadata": {},
     "output_type": "execute_result"
    }
   ],
   "source": [
    "pca = PCA()\n",
    "pca.fit(X)"
   ]
  },
  {
   "cell_type": "code",
   "execution_count": 90,
   "id": "2ae509de-e331-4fea-b54d-bd3f6a66deb2",
   "metadata": {},
   "outputs": [
    {
     "data": {
      "text/plain": [
       "array([[ 0.7071,  0.7071],\n",
       "       [ 0.7071, -0.7071]])"
      ]
     },
     "execution_count": 90,
     "metadata": {},
     "output_type": "execute_result"
    }
   ],
   "source": [
    "pca.components_.T"
   ]
  },
  {
   "cell_type": "code",
   "execution_count": 91,
   "id": "a34fe431-8f3e-4ed3-a9c3-d87fed855526",
   "metadata": {},
   "outputs": [
    {
     "data": {
      "text/plain": [
       "array([[ 2.8284,  0.0000],\n",
       "       [-0.0000,  1.4142],\n",
       "       [ 0.0000, -1.4142],\n",
       "       [-2.8284, -0.0000]])"
      ]
     },
     "execution_count": 91,
     "metadata": {},
     "output_type": "execute_result"
    }
   ],
   "source": [
    "pca.transform(X)"
   ]
  },
  {
   "cell_type": "markdown",
   "id": "270515cb-1b78-4df3-9d58-fd8fa26efe60",
   "metadata": {},
   "source": [
    "### MyPCA 固有値分解 (from scratch)\n",
    "\n",
    "- 共分散\n",
    "    - 平均化\n",
    "    - 対称行列\n",
    "- 固有値分解"
   ]
  },
  {
   "cell_type": "code",
   "execution_count": 92,
   "id": "3ac2d87d-530b-4341-bd42-acbee70ad756",
   "metadata": {},
   "outputs": [],
   "source": [
    "class MyPCA(TransformerMixin):\n",
    "    def __init__(self):\n",
    "        pass\n",
    "    def fit(self, X):\n",
    "        self.X_cov = np.cov(X.T)\n",
    "        self.Lambs, self.P = np.linalg.eig(self.X_cov)\n",
    "        return self\n",
    "    def transform(self, X):\n",
    "        return X @ self.P\n",
    "    def inverse_transform(self, X):\n",
    "        return X @ np.linalg.inv(self.P)"
   ]
  },
  {
   "cell_type": "code",
   "execution_count": 93,
   "id": "ad352be2-3f44-494c-8308-55edc73ec37c",
   "metadata": {},
   "outputs": [
    {
     "name": "stdout",
     "output_type": "stream",
     "text": [
      "[[ 3.3333  2.0000]\n",
      " [ 2.0000  3.3333]]\n",
      "[ 5.3333  1.3333]\n",
      "[[ 0.7071 -0.7071]\n",
      " [ 0.7071  0.7071]]\n"
     ]
    }
   ],
   "source": [
    "mypca = MyPCA()\n",
    "mypca.fit(X)\n",
    "print(mypca.X_cov)\n",
    "print(mypca.Lambs)\n",
    "print(mypca.P)"
   ]
  },
  {
   "cell_type": "code",
   "execution_count": 94,
   "id": "6f25d088-739c-4588-b2ff-d8493fec4cf8",
   "metadata": {},
   "outputs": [],
   "source": [
    "X_pca = mypca.fit_transform(X)"
   ]
  },
  {
   "cell_type": "code",
   "execution_count": 95,
   "id": "b5570813-e1f2-40f9-a1d9-43ded4fd2e04",
   "metadata": {},
   "outputs": [
    {
     "data": {
      "image/png": "[encoded data removed]",
      "text/plain": [
       "<Figure size 432x288 with 1 Axes>"
      ]
     },
     "metadata": {
      "needs_background": "light"
     },
     "output_type": "display_data"
    }
   ],
   "source": [
    "plt.scatter(X[:,0], X[:,1], c=\"red\", s=200, label=\"Original\")\n",
    "for i, x in enumerate(X):\n",
    "    plt.annotate(str(i), (x[0], x[1]), fontsize=15)\n",
    "plt.scatter(X_pca[:,0], X_pca[:,1], c=\"blue\", s=100, alpha=0.3, label=\"PCA\")\n",
    "for i, x in enumerate(X_pca):\n",
    "    plt.annotate(str(i), (x[0], x[1]), fontsize=15)\n",
    "plt.legend(loc=\"lower right\")\n",
    "plt.grid()"
   ]
  },
  {
   "cell_type": "code",
   "execution_count": 19,
   "id": "bcb7aa3e-cee2-4ce9-b969-ea07a2a31796",
   "metadata": {},
   "outputs": [
    {
     "data": {
      "text/plain": [
       "array([[ 2.,  2.],\n",
       "       [ 1., -1.],\n",
       "       [-1.,  1.],\n",
       "       [-2., -2.]])"
      ]
     },
     "execution_count": 19,
     "metadata": {},
     "output_type": "execute_result"
    }
   ],
   "source": [
    "mypca.inverse_transform(X_pca)"
   ]
  },
  {
   "cell_type": "code",
   "execution_count": null,
   "id": "f76f4731-4285-4d2a-af7a-5b09527f0c48",
   "metadata": {},
   "outputs": [],
   "source": []
  },
  {
   "cell_type": "markdown",
   "id": "cdbc5884-6db5-4ffd-8e93-524d45d330a5",
   "metadata": {},
   "source": [
    "# 2.12 PCAと特異値分解 (p45)"
   ]
  },
  {
   "cell_type": "markdown",
   "id": "6357c7f1-d7cb-449d-b600-0175b60294ee",
   "metadata": {
    "tags": []
   },
   "source": [
    "## 特異値分解 (SVD)\n",
    "\n",
    "- そもそも、固有値分解は正方行列でしか使えない\n",
    "- 平均化しなくて、いきなり、固有値が求まる"
   ]
  },
  {
   "cell_type": "markdown",
   "id": "132b1403-ec37-44e6-9930-e2098ee57c6e",
   "metadata": {},
   "source": [
    "### プログラム2.5 SVD を用いたPCA（pca_svd.py）(p47)"
   ]
  },
  {
   "cell_type": "code",
   "execution_count": 99,
   "id": "dfa85f3a-80fd-4263-a034-d28506fada8d",
   "metadata": {},
   "outputs": [],
   "source": [
    "import numpy as np\n",
    "def pca_svd(X):\n",
    "    \"\"\"\n",
    "    SVD を用いて主成分分析を実行します．\n",
    "    パラメータ\n",
    "    ----------\n",
    "    X: データ行列\n",
    "    \n",
    "     戻り値\n",
    "     -------\n",
    "     P: ローディング行列\n",
    "     t: 主成分得点行列\n",
    "     \"\"\"\n",
    "    \n",
    "    # 行列を特異値分解します\n",
    "    _, _, P = np.linalg.svd(X)\n",
    "    \n",
    "    # 主成分得点を計算します\n",
    "    t = X @ P.T\n",
    "    return P, t"
   ]
  },
  {
   "cell_type": "code",
   "execution_count": 100,
   "id": "7121de4b-e920-453c-b871-c92e6790d74b",
   "metadata": {},
   "outputs": [
    {
     "data": {
      "text/plain": [
       "(array([[-0.7071, -0.7071],\n",
       "        [-0.7071,  0.7071]]),\n",
       " array([[-2.8284, -0.0000],\n",
       "        [ 0.0000, -1.4142],\n",
       "        [-0.0000,  1.4142],\n",
       "        [ 2.8284,  0.0000]]))"
      ]
     },
     "execution_count": 100,
     "metadata": {},
     "output_type": "execute_result"
    }
   ],
   "source": [
    "data = [[2, 2], [1, -1], [-1, 1], [-2, -2]]\n",
    "x = np.array(data)\n",
    "pca_svd(x)"
   ]
  },
  {
   "cell_type": "markdown",
   "id": "f41b87b7-5711-474b-8813-7ba291cf50a8",
   "metadata": {},
   "source": [
    "### 固有値分解でPCA"
   ]
  },
  {
   "cell_type": "code",
   "execution_count": 103,
   "id": "937317fc-98d9-4ca7-a81d-afff190fc6f8",
   "metadata": {},
   "outputs": [
    {
     "data": {
      "text/plain": [
       "(array([[ 0.7071, -0.7071],\n",
       "        [ 0.7071,  0.7071]]),\n",
       " array([[ 2.8284,  0.0000],\n",
       "        [ 0.0000, -1.4142],\n",
       "        [-0.0000,  1.4142],\n",
       "        [-2.8284, -0.0000]]))"
      ]
     },
     "execution_count": 103,
     "metadata": {},
     "output_type": "execute_result"
    }
   ],
   "source": [
    "from pca import pca\n",
    "\n",
    "pca(x)"
   ]
  },
  {
   "cell_type": "markdown",
   "id": "fc74a569-2696-462d-9619-27c72c47abce",
   "metadata": {},
   "source": [
    "### ランク落ちの矩形行列でのPCA"
   ]
  },
  {
   "cell_type": "code",
   "execution_count": 105,
   "id": "c3c1930e-2b6b-407e-ab6f-80277f758078",
   "metadata": {},
   "outputs": [
    {
     "data": {
      "text/plain": [
       "2"
      ]
     },
     "execution_count": 105,
     "metadata": {},
     "output_type": "execute_result"
    }
   ],
   "source": [
    "Y = np.array([[1,1,1,1],\n",
    "              [2,2,2,2],\n",
    "              [1,1,2,2],\n",
    "              [2,2,4,4]])\n",
    "\n",
    "np.linalg.matrix_rank(Y)"
   ]
  },
  {
   "cell_type": "code",
   "execution_count": 110,
   "id": "e862aa63-b2b3-4b54-9de9-8f286cc16135",
   "metadata": {},
   "outputs": [
    {
     "data": {
      "text/plain": [
       "(array([[-0.3717, -0.3717, -0.6015, -0.6015],\n",
       "        [-0.6015, -0.6015,  0.3717,  0.3717],\n",
       "        [ 0.7071, -0.7071,  0.0000,  0.0000],\n",
       "        [ 0.0000,  0.0000, -0.7071,  0.7071]]),\n",
       " array([[-1.9465, -0.4595, -0.0000,  0.0000],\n",
       "        [-3.8930, -0.9190, -0.0000,  0.0000],\n",
       "        [-3.1495,  0.2840, -0.0000, -0.0000],\n",
       "        [-6.2990,  0.5680, -0.0000, -0.0000]]))"
      ]
     },
     "execution_count": 110,
     "metadata": {},
     "output_type": "execute_result"
    }
   ],
   "source": [
    "pca_svd(Y)"
   ]
  },
  {
   "cell_type": "code",
   "execution_count": null,
   "id": "a7b9e2cf-27b3-4270-940a-1164c5170d41",
   "metadata": {},
   "outputs": [],
   "source": []
  },
  {
   "cell_type": "code",
   "execution_count": 106,
   "id": "6e62f98a-cce9-43b4-92f3-91af7b3e2de0",
   "metadata": {},
   "outputs": [
    {
     "data": {
      "text/plain": [
       "(array([[-0.3717, -0.3717, -0.6015, -0.6015],\n",
       "        [-0.6015, -0.6015,  0.3717,  0.3717],\n",
       "        [ 0.7071, -0.7071,  0.0000,  0.0000],\n",
       "        [ 0.0000,  0.0000, -0.7071,  0.7071]]),\n",
       " array([[-1.9465, -0.4595, -0.0000,  0.0000],\n",
       "        [-3.8930, -0.9190, -0.0000,  0.0000],\n",
       "        [-3.1495,  0.2840, -0.0000, -0.0000],\n",
       "        [-6.2990,  0.5680, -0.0000, -0.0000]]))"
      ]
     },
     "execution_count": 106,
     "metadata": {},
     "output_type": "execute_result"
    }
   ],
   "source": [
    "pca_svd(Y)"
   ]
  },
  {
   "cell_type": "code",
   "execution_count": null,
   "id": "b31adfcc-2cf7-4df2-b9ed-1fa5ceb831a1",
   "metadata": {},
   "outputs": [],
   "source": []
  },
  {
   "cell_type": "markdown",
   "id": "f5309860-987b-4f7c-8610-a39d9f867608",
   "metadata": {},
   "source": [
    "### $A=U\\Sigma V^T$ の確認"
   ]
  },
  {
   "cell_type": "code",
   "execution_count": 107,
   "id": "948c75c9-28b3-445d-b8c7-98cf2a3d5320",
   "metadata": {},
   "outputs": [
    {
     "data": {
      "text/plain": [
       "(array([[-0.2351, -0.3804,  0.8944, -0.0000],\n",
       "        [-0.4702, -0.7608, -0.4472,  0.0000],\n",
       "        [-0.3804,  0.2351,  0.0000, -0.8944],\n",
       "        [-0.7608,  0.4702,  0.0000,  0.4472]]),\n",
       " array([ 8.2790,  1.2079,  0.0000,  0.0000]),\n",
       " array([[-0.3717, -0.3717, -0.6015, -0.6015],\n",
       "        [-0.6015, -0.6015,  0.3717,  0.3717],\n",
       "        [ 0.7071, -0.7071,  0.0000,  0.0000],\n",
       "        [ 0.0000,  0.0000, -0.7071,  0.7071]]))"
      ]
     },
     "execution_count": 107,
     "metadata": {},
     "output_type": "execute_result"
    }
   ],
   "source": [
    "U, s, VT = np.linalg.svd(Y)\n",
    "U, s, VT"
   ]
  },
  {
   "cell_type": "code",
   "execution_count": 112,
   "id": "c40e67c3-8b70-4b65-b24a-1edde1aabb72",
   "metadata": {},
   "outputs": [
    {
     "data": {
      "text/plain": [
       "array([[ 1.0000,  1.0000,  1.0000,  1.0000],\n",
       "       [ 2.0000,  2.0000,  2.0000,  2.0000],\n",
       "       [ 1.0000,  1.0000,  2.0000,  2.0000],\n",
       "       [ 2.0000,  2.0000,  4.0000,  4.0000]])"
      ]
     },
     "execution_count": 112,
     "metadata": {},
     "output_type": "execute_result"
    }
   ],
   "source": [
    "# U * s @ VT\n",
    "U @ np.diag(s) @ VT"
   ]
  },
  {
   "cell_type": "code",
   "execution_count": null,
   "id": "3cb4ec0b-f58a-45aa-a1ca-8271c262d2ed",
   "metadata": {},
   "outputs": [],
   "source": []
  },
  {
   "cell_type": "code",
   "execution_count": 20,
   "id": "993bd7e0-2329-431b-999d-ae10361a57bb",
   "metadata": {},
   "outputs": [
    {
     "data": {
      "text/plain": [
       "(array([[-7.07106781e-01,  0.00000000e+00],\n",
       "        [-5.55111512e-17, -7.07106781e-01],\n",
       "        [ 5.55111512e-17,  7.07106781e-01],\n",
       "        [ 7.07106781e-01,  3.33066907e-16]]),\n",
       " array([4., 2.]),\n",
       " array([[-0.70710678, -0.70710678],\n",
       "        [-0.70710678,  0.70710678]]))"
      ]
     },
     "execution_count": 20,
     "metadata": {},
     "output_type": "execute_result"
    }
   ],
   "source": [
    "U, Sigma, VT = np.linalg.svd(X, full_matrices=False)\n",
    "U, Sigma, VT"
   ]
  },
  {
   "cell_type": "code",
   "execution_count": 21,
   "id": "c9540c23-4d3b-4272-bd13-cce29ffaa6c0",
   "metadata": {},
   "outputs": [
    {
     "data": {
      "text/plain": [
       "((4, 2), (2,), (2, 2))"
      ]
     },
     "execution_count": 21,
     "metadata": {},
     "output_type": "execute_result"
    }
   ],
   "source": [
    "U.shape, Sigma.shape, VT.shape"
   ]
  },
  {
   "cell_type": "code",
   "execution_count": 22,
   "id": "5b9c1447-1b88-4809-a8d8-5c9889860a59",
   "metadata": {},
   "outputs": [
    {
     "data": {
      "text/plain": [
       "array([[ 2.,  2.],\n",
       "       [ 1., -1.],\n",
       "       [-1.,  1.],\n",
       "       [-2., -2.]])"
      ]
     },
     "execution_count": 22,
     "metadata": {},
     "output_type": "execute_result"
    }
   ],
   "source": [
    "U @ np.diag(Sigma) @ VT"
   ]
  },
  {
   "cell_type": "code",
   "execution_count": null,
   "id": "6ea499b4-ccc8-48ab-8629-78a80729e4ac",
   "metadata": {},
   "outputs": [],
   "source": []
  }
 ],
 "metadata": {
  "kernelspec": {
   "display_name": "py38",
   "language": "python",
   "name": "py38"
  },
  "language_info": {
   "codemirror_mode": {
    "name": "ipython",
    "version": 3
   },
   "file_extension": ".py",
   "mimetype": "text/x-python",
   "name": "python",
   "nbconvert_exporter": "python",
   "pygments_lexer": "ipython3",
   "version": "3.8.12"
  },
  "toc-showmarkdowntxt": false
 },
 "nbformat": 4,
 "nbformat_minor": 5
}
