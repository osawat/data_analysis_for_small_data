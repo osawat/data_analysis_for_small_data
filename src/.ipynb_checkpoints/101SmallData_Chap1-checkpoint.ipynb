{
 "cells": [
  {
   "cell_type": "markdown",
   "id": "ea18241a-0aef-4033-b24e-8000f7eba689",
   "metadata": {},
   "source": [
    "# Chap 1 スモールデータ解析と機械学習\n",
    "\n",
    "\n",
    "![](https://m.media-amazon.com/images/I/51+dt08QnxL._SY346_.jpg)"
   ]
  },
  {
   "cell_type": "code",
   "execution_count": null,
   "id": "ee9e906a-20a3-4152-b9ae-cb2c30349825",
   "metadata": {},
   "outputs": [],
   "source": []
  }
 ],
 "metadata": {
  "kernelspec": {
   "display_name": "py38",
   "language": "python",
   "name": "py38"
  },
  "language_info": {
   "codemirror_mode": {
    "name": "ipython",
    "version": 3
   },
   "file_extension": ".py",
   "mimetype": "text/x-python",
   "name": "python",
   "nbconvert_exporter": "python",
   "pygments_lexer": "ipython3",
   "version": "3.8.12"
  },
  "toc-showmarkdowntxt": false
 },
 "nbformat": 4,
 "nbformat_minor": 5
}
