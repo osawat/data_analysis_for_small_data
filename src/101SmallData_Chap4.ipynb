{
 "cells": [
  {
   "cell_type": "markdown",
   "id": "ea18241a-0aef-4033-b24e-8000f7eba689",
   "metadata": {},
   "source": [
    "# Chap 3 回帰分析と最小二乗法\n",
    "\n",
    "\n",
    "![](https://m.media-amazon.com/images/I/51+dt08QnxL._SY346_.jpg)"
   ]
  },
  {
   "cell_type": "code",
   "execution_count": 1,
   "id": "993bd7e0-2329-431b-999d-ae10361a57bb",
   "metadata": {},
   "outputs": [
    {
     "ename": "NameError",
     "evalue": "name 'np' is not defined",
     "output_type": "error",
     "traceback": [
      "\u001b[1;31m---------------------------------------------------------------------------\u001b[0m",
      "\u001b[1;31mNameError\u001b[0m                                 Traceback (most recent call last)",
      "Input \u001b[1;32mIn [1]\u001b[0m, in \u001b[0;36m<cell line: 1>\u001b[1;34m()\u001b[0m\n\u001b[1;32m----> 1\u001b[0m U, Sigma, VT \u001b[38;5;241m=\u001b[39m \u001b[43mnp\u001b[49m\u001b[38;5;241m.\u001b[39mlinalg\u001b[38;5;241m.\u001b[39msvd(X, full_matrices\u001b[38;5;241m=\u001b[39m\u001b[38;5;28;01mFalse\u001b[39;00m)\n\u001b[0;32m      2\u001b[0m U, Sigma, VT\n",
      "\u001b[1;31mNameError\u001b[0m: name 'np' is not defined"
     ]
    }
   ],
   "source": [
    "U, Sigma, VT = np.linalg.svd(X, full_matrices=False)\n",
    "U, Sigma, VT"
   ]
  },
  {
   "cell_type": "code",
   "execution_count": 2,
   "id": "c9540c23-4d3b-4272-bd13-cce29ffaa6c0",
   "metadata": {},
   "outputs": [
    {
     "ename": "NameError",
     "evalue": "name 'U' is not defined",
     "output_type": "error",
     "traceback": [
      "\u001b[1;31m---------------------------------------------------------------------------\u001b[0m",
      "\u001b[1;31mNameError\u001b[0m                                 Traceback (most recent call last)",
      "Input \u001b[1;32mIn [2]\u001b[0m, in \u001b[0;36m<cell line: 1>\u001b[1;34m()\u001b[0m\n\u001b[1;32m----> 1\u001b[0m \u001b[43mU\u001b[49m\u001b[38;5;241m.\u001b[39mshape, Sigma\u001b[38;5;241m.\u001b[39mshape, VT\u001b[38;5;241m.\u001b[39mshape\n",
      "\u001b[1;31mNameError\u001b[0m: name 'U' is not defined"
     ]
    }
   ],
   "source": [
    "U.shape, Sigma.shape, VT.shape"
   ]
  },
  {
   "cell_type": "code",
   "execution_count": 22,
   "id": "5b9c1447-1b88-4809-a8d8-5c9889860a59",
   "metadata": {},
   "outputs": [
    {
     "data": {
      "text/plain": [
       "array([[ 2.,  2.],\n",
       "       [ 1., -1.],\n",
       "       [-1.,  1.],\n",
       "       [-2., -2.]])"
      ]
     },
     "execution_count": 22,
     "metadata": {},
     "output_type": "execute_result"
    }
   ],
   "source": [
    "U @ np.diag(Sigma) @ VT"
   ]
  },
  {
   "cell_type": "code",
   "execution_count": null,
   "id": "6ea499b4-ccc8-48ab-8629-78a80729e4ac",
   "metadata": {},
   "outputs": [],
   "source": []
  },
  {
   "cell_type": "markdown",
   "id": "68fe0e9d-6224-49e6-aca6-bae1abc092a3",
   "metadata": {},
   "source": [
    "# 3.2 最小二乗法\n",
    "\n",
    "p53 (3.16)\n",
    "\n",
    "$$\n",
    "\\begin{aligned}\n",
    "X\\beta &= y \\\\\n",
    "X^T X \\hat{\\beta} &= X^T y \\\\\n",
    "\\hat{\\beta} &= (X^T X)^{-1} X^T y\n",
    "\\end{aligned}\n",
    "$$\n",
    "\n",
    "<hr>\n",
    "p56 (3.22)\n",
    "\n",
    "$$\n",
    "\\begin{aligned}\n",
    "\\hat{y} &= X \\hat{\\beta} \\\\\n",
    "\\hat{y} &= X (X^T X)^{-1} X^T y \\\\\n",
    "\\hat{y} &= P y \\ \\ \\ \\ (\\because P= X (X^T X)^{-1} X^T \\ \\ 射影行列 )\\\\\n",
    "\\end{aligned}\n",
    "$$\n",
    "\n",
    "<hr>\n",
    "\n",
    "p56 (3.23)\n",
    "\n",
    "$$\n",
    "\\begin{aligned}\n",
    "P &= X (X^T X)^{-1} X^T \\ \\\\ \\\\\n",
    "P^2 &= PP \\\\\n",
    "&= (X (X^T X)^{-1} X^T) \\ (X (X^T X)^{-1} X^T) \\\\\n",
    "&= X \\ (X^T X)^{-1} (X^T X ) \\ (X^T X)^{-1} \\ X^T \\\\\n",
    "&= X  (X^T X)^{-1}  X^T \\\\\n",
    "&= P \\\\\n",
    "\\end{aligned}\n",
    "$$\n"
   ]
  },
  {
   "cell_type": "markdown",
   "id": "f5b62cf4-ad57-4d60-80cb-aa1d8bf0baf3",
   "metadata": {},
   "source": [
    "### プログラム3.2 最小二乗法の数値例 (p54)"
   ]
  },
  {
   "cell_type": "code",
   "execution_count": 22,
   "id": "06b92a81-c0ff-4c72-8ebe-eff0ac012280",
   "metadata": {},
   "outputs": [
    {
     "name": "stdout",
     "output_type": "stream",
     "text": [
      "[[ 0.3635]\n",
      " [ 0.4162]\n",
      " [-0.3468]]\n",
      "[ 0.7242]\n"
     ]
    }
   ],
   "source": [
    "import numpy as np\n",
    "from linear_regression import least_squares , ls_est\n",
    "\n",
    "np.set_printoptions(formatter={'float':'{: .4f}'.format})\n",
    "\n",
    "# データを定義します\n",
    "X = np.array([[0.01, 0.50, -0.12],\n",
    "\t\t\t[0.97, -0.63, 0.02],\n",
    "\t\t\t[0.41, 1.15, -1.17],\n",
    "\t\t\t[-1.38, -1.02, 1.27]])\n",
    "\n",
    "y = np.array([[0.25], [0.08], [1.03], [-1.37]])\n",
    "x = np.array([1, 0.7, -0.2])\n",
    "\n",
    "\n",
    "# 回帰係数を求めます．\n",
    "beta = least_squares(X, y)\n",
    "print(beta)\n",
    "# [[ 0.36347065]\n",
    "# [ 0.41624871]\n",
    "# [-0.34677593]]\n",
    "# 未知サンプルから出力を予測します\n",
    "y_hat = ls_est(x, beta)\n",
    "print(y_hat)\n",
    "# [0.7241999]"
   ]
  },
  {
   "cell_type": "code",
   "execution_count": null,
   "id": "cbd23de7-d307-4f4c-b240-c1e6f8d7738c",
   "metadata": {},
   "outputs": [],
   "source": []
  },
  {
   "cell_type": "markdown",
   "id": "fef4a64b-4441-49fb-a528-54bce24ad199",
   "metadata": {},
   "source": [
    "### sklearn.linear_model.LinearRegression"
   ]
  },
  {
   "cell_type": "code",
   "execution_count": 17,
   "id": "5ab9c627-3212-4fdb-bb8c-9c04e796064b",
   "metadata": {},
   "outputs": [],
   "source": [
    "from sklearn.linear_model import LinearRegression"
   ]
  },
  {
   "cell_type": "code",
   "execution_count": 18,
   "id": "462acb9a-fd03-4bb5-8d75-8e87342de093",
   "metadata": {},
   "outputs": [],
   "source": [
    "lr = LinearRegression(fit_intercept=True)"
   ]
  },
  {
   "cell_type": "code",
   "execution_count": 19,
   "id": "b33c5278-73b1-43f4-8532-4d00ad18b152",
   "metadata": {},
   "outputs": [
    {
     "data": {
      "text/plain": [
       "LinearRegression()"
      ]
     },
     "execution_count": 19,
     "metadata": {},
     "output_type": "execute_result"
    }
   ],
   "source": [
    "lr.fit(X1,y)"
   ]
  },
  {
   "cell_type": "code",
   "execution_count": 20,
   "id": "1ed0052c-78e8-41e2-ab01-6e2ad0a811ba",
   "metadata": {},
   "outputs": [
    {
     "data": {
      "text/plain": [
       "(array([[ 0.3636,  0.4164, -0.3466]]), array([-0.0034]))"
      ]
     },
     "execution_count": 20,
     "metadata": {},
     "output_type": "execute_result"
    }
   ],
   "source": [
    "lr.coef_, lr.intercept_"
   ]
  },
  {
   "cell_type": "code",
   "execution_count": 21,
   "id": "b2e8c869-5d0a-4c08-b421-e1ee2f1d1828",
   "metadata": {},
   "outputs": [
    {
     "data": {
      "text/plain": [
       "(array([[ 0.3729,  0.4142, -0.3420]]), array([-0.0027]))"
      ]
     },
     "execution_count": 21,
     "metadata": {},
     "output_type": "execute_result"
    }
   ],
   "source": [
    "lr.fit(X2, y)\n",
    "lr.coef_, lr.intercept_"
   ]
  },
  {
   "cell_type": "code",
   "execution_count": null,
   "id": "effbc518-a4ab-4b48-860b-a40f89f52a96",
   "metadata": {},
   "outputs": [],
   "source": []
  },
  {
   "cell_type": "code",
   "execution_count": null,
   "id": "3bf12054-b71b-452f-9b9e-844f43c57680",
   "metadata": {},
   "outputs": [],
   "source": []
  },
  {
   "cell_type": "markdown",
   "id": "9473b134-3f2c-481c-ae64-ef929c8430b2",
   "metadata": {},
   "source": [
    "# 3.7 多重共線性の問題"
   ]
  },
  {
   "cell_type": "code",
   "execution_count": null,
   "id": "990912da-29fb-4ffe-8fcc-e1d38d0bf0fb",
   "metadata": {},
   "outputs": [],
   "source": []
  },
  {
   "cell_type": "markdown",
   "id": "50613c21-42d3-41f3-9b2f-b396f5cd237d",
   "metadata": {},
   "source": [
    "### プログラム3.3 多重共線性がないデータの場合 (p65)"
   ]
  },
  {
   "cell_type": "code",
   "execution_count": 44,
   "id": "cf5d48c6-444e-4513-94af-e7adb8d19fdd",
   "metadata": {},
   "outputs": [
    {
     "name": "stdout",
     "output_type": "stream",
     "text": [
      "[[ 0.3635]\n",
      " [ 0.4162]\n",
      " [-0.3468]]\n",
      "[[ 0.3727]\n",
      " [ 0.4138]\n",
      " [-0.3425]]\n",
      "[[ 0.0200 -0.0200  0.0000]\n",
      " [ 0.0100  0.0100 -0.0100]\n",
      " [-0.0200  0.0100  0.0000]\n",
      " [ 0.0000 -0.0100  0.0000]]\n"
     ]
    }
   ],
   "source": [
    "import numpy as np\n",
    "from linear_regression import least_squares\n",
    "\n",
    "# データを定義します\n",
    "X1 = np.array( [[0.01, 0.50, -0.12],\n",
    "                [0.97, -0.63, 0.02],\n",
    "                [0.41, 1.15, -1.17],\n",
    "                [-1.38, -1.02, 1.27]])\n",
    "X2 = np.array( [[-0.01, 0.52, -0.12],\n",
    "                [0.96, -0.64, 0.03],\n",
    "                [0.43, 1.14, -1.17],\n",
    "                [-1.38, -1.01, 1.27]])\n",
    "\n",
    "y = np.array ([[0.25], [0.08], [1.03], [-1.37]])\n",
    "\n",
    "\n",
    "# X1，X2それぞれでの回帰係数を計算します\n",
    "beta1 = least_squares(X1, y)\n",
    "print(beta1)\n",
    "# [[ 0.36347065]\n",
    "# [ 0.41624871]\n",
    "# [-0.34677593]]\n",
    "beta2 = least_squares(X2, y)\n",
    "print(beta2)\n",
    "# [[ 0.37270979]\n",
    "# [ 0.41379869]\n",
    "# [-0.34252764]]\n",
    "print(X1 - X2)"
   ]
  },
  {
   "cell_type": "markdown",
   "id": "ecb26ee2-b449-4d9a-b1a8-09eef95ee38f",
   "metadata": {
    "tags": []
   },
   "source": [
    "#### 行列の条件数 $\\kappa(A)$"
   ]
  },
  {
   "cell_type": "code",
   "execution_count": 45,
   "id": "feaa407b-1881-4d05-9c27-a29e4d34ccd9",
   "metadata": {},
   "outputs": [
    {
     "data": {
      "text/plain": [
       "(135.75293858717927, 133.39346575985206)"
      ]
     },
     "execution_count": 45,
     "metadata": {},
     "output_type": "execute_result"
    }
   ],
   "source": [
    "np.linalg.cond(X1.T@X1), np.linalg.cond(X2.T@X2),"
   ]
  },
  {
   "cell_type": "code",
   "execution_count": null,
   "id": "ffad5317-eb62-4db8-8023-55d187707ad3",
   "metadata": {},
   "outputs": [],
   "source": []
  },
  {
   "cell_type": "markdown",
   "id": "6841b9c0-f6e8-462a-926f-4284d610db80",
   "metadata": {},
   "source": [
    "### sklearn.linear_model.LinearRegression"
   ]
  },
  {
   "cell_type": "code",
   "execution_count": 46,
   "id": "06821c26-e52e-484c-b94c-09e5412c5581",
   "metadata": {},
   "outputs": [
    {
     "data": {
      "text/plain": [
       "(array([[ 0.3636,  0.4164, -0.3466]]), array([-0.0034]))"
      ]
     },
     "execution_count": 46,
     "metadata": {},
     "output_type": "execute_result"
    }
   ],
   "source": [
    "lr = LinearRegression()\n",
    "lr.fit(X1, y)\n",
    "lr.coef_, lr.intercept_"
   ]
  },
  {
   "cell_type": "code",
   "execution_count": 47,
   "id": "4ec7d75d-46bf-4ef8-9661-b3662a8076b9",
   "metadata": {},
   "outputs": [
    {
     "data": {
      "text/plain": [
       "(array([[ 0.3729,  0.4142, -0.3420]]), array([-0.0027]))"
      ]
     },
     "execution_count": 47,
     "metadata": {},
     "output_type": "execute_result"
    }
   ],
   "source": [
    "lr = LinearRegression()\n",
    "lr.fit(X2, y)\n",
    "lr.coef_, lr.intercept_"
   ]
  },
  {
   "cell_type": "markdown",
   "id": "c290b818-9218-4503-941f-bb4f3dacb26f",
   "metadata": {},
   "source": [
    "### プログラム3.4 多重共線性があるデータの場合 (p67)"
   ]
  },
  {
   "cell_type": "code",
   "execution_count": 48,
   "id": "ca0b8193-83c3-44b8-8023-b8cb42c01ef1",
   "metadata": {},
   "outputs": [
    {
     "name": "stdout",
     "output_type": "stream",
     "text": [
      "[[ 0.5450]\n",
      " [ 0.2409]\n",
      " [ 1.6404]]\n",
      "[[-0.4279]\n",
      " [-2.8630]\n",
      " [-2.2030]]\n"
     ]
    }
   ],
   "source": [
    "import numpy as np\n",
    "from linear_regression import least_squares\n",
    "\n",
    "# データを定義します\n",
    "X1 = np.array( [[-1.12, -0.51, 0.69],\n",
    "                [-0.43, -1.12, 1.02],\n",
    "                [0.37, 1.10, -0.98],\n",
    "                [1.19, 0.53, -0.73]])\n",
    "\n",
    "X2 = np.array( [[-1.12, -0.51, 0.70],\n",
    "                [-0.43, -1.12, 1.01],\n",
    "                [0.36, 1.10, -0.98],\n",
    "                [1.20, 0.53, -0.73]])\n",
    "\n",
    "y = np.array([0.4, 1.17, -1.14, -0.42])\n",
    "\n",
    "# X1，X2それぞれでの回帰係数を計算します\n",
    "beta1 = least_squares(X1, y)\n",
    "print(beta1)\n",
    "# [[0.54496962]\n",
    "# [0.24094799]\n",
    "# [1.64044474]]\n",
    "\n",
    "beta2 = least_squares(X2, y)\n",
    "print(beta2)\n",
    "# [[-0.42794288]\n",
    "# [-2.86298696]\n",
    "# [-2.2029719 ]]"
   ]
  },
  {
   "cell_type": "code",
   "execution_count": 49,
   "id": "ff2a4e44-edd3-4777-8142-71865743f309",
   "metadata": {},
   "outputs": [
    {
     "data": {
      "text/plain": [
       "array([[ 0.0000,  0.0000, -0.0100],\n",
       "       [ 0.0000,  0.0000,  0.0100],\n",
       "       [ 0.0100,  0.0000,  0.0000],\n",
       "       [-0.0100,  0.0000,  0.0000]])"
      ]
     },
     "execution_count": 49,
     "metadata": {},
     "output_type": "execute_result"
    }
   ],
   "source": [
    "X1 - X2"
   ]
  },
  {
   "cell_type": "markdown",
   "id": "6daffaa5-c217-4af9-aadc-1851015be1b8",
   "metadata": {},
   "source": [
    "#### 行列の条件数 $\\kappa(A)$"
   ]
  },
  {
   "cell_type": "code",
   "execution_count": 50,
   "id": "39cff9c5-09f5-471c-818e-842d7caeb727",
   "metadata": {},
   "outputs": [
    {
     "data": {
      "text/plain": [
       "(235456.75658580603, 470649.97301951883)"
      ]
     },
     "execution_count": 50,
     "metadata": {},
     "output_type": "execute_result"
    }
   ],
   "source": [
    "np.linalg.cond(X1.T@X1), np.linalg.cond(X2.T@X2),"
   ]
  },
  {
   "cell_type": "code",
   "execution_count": null,
   "id": "94980a0e-2c5b-475f-931e-eef221499be1",
   "metadata": {},
   "outputs": [],
   "source": []
  },
  {
   "cell_type": "markdown",
   "id": "e8c1acd6-ab1c-41f4-ad45-8f72271f07a3",
   "metadata": {},
   "source": [
    "# 3.9 擬似逆行列を用いる方法 (TODO)"
   ]
  },
  {
   "cell_type": "code",
   "execution_count": 60,
   "id": "e2c9dbbc-e34c-4df5-8643-de081f35566c",
   "metadata": {},
   "outputs": [],
   "source": [
    "A = np.array([[1, 2, 3],\n",
    "              [4, 5, 6]])"
   ]
  },
  {
   "cell_type": "code",
   "execution_count": 63,
   "id": "1e954df1-1173-4a8b-adf9-c03d67b8fe25",
   "metadata": {},
   "outputs": [
    {
     "data": {
      "text/plain": [
       "array([[ 1.0895,  0.1543, -0.7809],\n",
       "       [ 0.1543,  0.0247, -0.1049],\n",
       "       [-0.7809, -0.1049,  0.5710]])"
      ]
     },
     "execution_count": 63,
     "metadata": {},
     "output_type": "execute_result"
    }
   ],
   "source": [
    "A_ = np.linalg.pinv(A.T@A)\n",
    "A_"
   ]
  },
  {
   "cell_type": "code",
   "execution_count": null,
   "id": "02abdc22-484b-4380-8ddd-956cdf50c596",
   "metadata": {},
   "outputs": [],
   "source": []
  },
  {
   "cell_type": "code",
   "execution_count": null,
   "id": "bfa4b2e1-8807-416d-a05d-5adb656c8c41",
   "metadata": {},
   "outputs": [],
   "source": []
  },
  {
   "cell_type": "code",
   "execution_count": null,
   "id": "ad97fbfa-c5c2-4c08-812d-3da9d2a2d6e6",
   "metadata": {},
   "outputs": [],
   "source": []
  },
  {
   "cell_type": "markdown",
   "id": "dcccd923-ab9d-4ae5-baac-86b5c0b27e0c",
   "metadata": {},
   "source": [
    "# 3.10 主成分回帰 (PCR) (p72)\n",
    "\n",
    "- [Principal Component Regression vs Partial Least Squares Regression](https://scikit-learn.org/stable/auto_examples/cross_decomposition/plot_pcr_vs_pls.html)"
   ]
  },
  {
   "cell_type": "markdown",
   "id": "4da58aab-1852-4b1d-abd2-08196c595e25",
   "metadata": {},
   "source": [
    "### プログラム3.5 RCR（linear_regression.py） (p73)"
   ]
  },
  {
   "cell_type": "code",
   "execution_count": 71,
   "id": "39850af1-3622-49e1-814b-3fb1bcaa41a8",
   "metadata": {},
   "outputs": [],
   "source": [
    "import numpy as np\n",
    "from linear_regression import least_squares\n",
    "from pca import pca\n",
    "\n",
    "def pcr(X, y, R):\n",
    "    \"\"\"\n",
    "    PCR を用いて回帰係数を計算します．ラメータ\n",
    "    ----------\n",
    "    X: 入力データ\n",
    "    y: 出力データ\n",
    "    R: 主成分の数\n",
    "    戻り値\n",
    "    -------\n",
    "    beta: 回帰係数\n",
    "    \"\"\"\n",
    "    # yをベクトル化します\n",
    "    y = y.reshape(-1, 1)\n",
    "    # 主成分分析を行います\n",
    "    P, T = pca(X)\n",
    "    # R番目までの主成分得点行列を取り出します\n",
    "    T = T[:,:R]\n",
    "    # 最小二乗法により回帰係数を求めます\n",
    "    beta_R = least_squares(T, y)\n",
    "    beta = P[:,:R] @ beta_R\n",
    "    return beta"
   ]
  },
  {
   "cell_type": "markdown",
   "id": "62c3fdb6-e8e6-4c08-9d97-9e3a3891df9f",
   "metadata": {},
   "source": [
    "### プログラム3.6 主成分数を2 とした場合 (p74)"
   ]
  },
  {
   "cell_type": "code",
   "execution_count": 72,
   "id": "02205df7-07db-4328-98b6-6d66ebfd96f6",
   "metadata": {},
   "outputs": [
    {
     "name": "stdout",
     "output_type": "stream",
     "text": [
      "[[ 0.2585]\n",
      " [-0.6887]\n",
      " [ 0.4939]]\n",
      "[[ 0.2593]\n",
      " [-0.6921]\n",
      " [ 0.4915]]\n"
     ]
    }
   ],
   "source": [
    "# データを定義します\n",
    "X1 = np.array( [[-1.12, -0.51, 0.69],\n",
    "                [-0.43, -1.12, 1.02],\n",
    "                [0.37, 1.10, -0.98],\n",
    "                [1.19, 0.53, -0.73]])\n",
    "\n",
    "X2 = np.array( [[-1.12, -0.51, 0.70],\n",
    "                [-0.43, -1.12, 1.01],\n",
    "                [0.36, 1.10, -0.98],\n",
    "                [1.20, 0.53, -0.73]])\n",
    "\n",
    "y = np.array ([[0.4], [1.17], [-1.14], [-0.42]])\n",
    "\n",
    "#主成分数を2に設定します\n",
    "R = 2\n",
    "beta1 = pcr(X1, y, R)\n",
    "print(beta1)\n",
    "# [[ 0.25849154]\n",
    "# [-0.68874152]\n",
    "# [ 0.49387146]]\n",
    "beta2 = pcr(X2, y, R)\n",
    "print(beta2)\n",
    "# [[ 0.25929082]\n",
    "# [-0.69212429]\n",
    "# [ 0.49149105]]"
   ]
  },
  {
   "cell_type": "markdown",
   "id": "03be0e0e-7452-4367-8896-9d9676dd38b2",
   "metadata": {},
   "source": [
    "### プログラム3.7 主成分数を1 とした場合 (p75)"
   ]
  },
  {
   "cell_type": "code",
   "execution_count": 73,
   "id": "77b55e76-7668-432e-a210-a06c80872075",
   "metadata": {},
   "outputs": [
    {
     "name": "stdout",
     "output_type": "stream",
     "text": [
      "[[-0.3031]\n",
      " [-0.3286]\n",
      " [ 0.3422]]\n",
      "[[-0.3034]\n",
      " [-0.3276]\n",
      " [ 0.3413]]\n"
     ]
    }
   ],
   "source": [
    "# 主成分数を1 に設定します\n",
    "R = 1\n",
    "beta1 = pcr(X1, y, R)\n",
    "print(beta1)\n",
    "# [[-0.30313539]\n",
    "# [-0.32858522]\n",
    "# [ 0.34217102]]\n",
    "beta2 = pcr(X2, y, R)\n",
    "print(beta2)\n",
    "# [[-0.30335458]\n",
    "# [-0.32755389]\n",
    "# [ 0.34127419]]"
   ]
  },
  {
   "cell_type": "code",
   "execution_count": null,
   "id": "a5118a02-3750-43e1-907d-d6a95e49b6d9",
   "metadata": {},
   "outputs": [],
   "source": []
  },
  {
   "cell_type": "markdown",
   "id": "6dcc3ea8-dca9-4d5b-b4bb-a9248fd9fcdf",
   "metadata": {},
   "source": [
    "### MyPCR"
   ]
  },
  {
   "cell_type": "code",
   "execution_count": 81,
   "id": "77de8867-10bf-46f7-ae09-9c211746ec73",
   "metadata": {},
   "outputs": [],
   "source": [
    "from sklearn.base import TransformerMixin, BaseEstimator\n",
    "from sklearn.decomposition import PCA\n",
    "\n",
    "class MyPCR(TransformerMixin, BaseEstimator):\n",
    "    def __init__(self, n_components):\n",
    "        self.n_components = n_components\n",
    "        self.pca = PCA(n_components=n_components)\n",
    "        self.regression = LinearRegression()\n",
    "    def fit(self, X, y=None):\n",
    "        self.pca.fit(X)\n",
    "        X_reduced = self.pca.transform(X)\n",
    "        X_returned = self.pca.inverse_transform(X_reduced)\n",
    "        self.regression.fit(X_returned,y)\n",
    "        self.coef_ = self.regression.coef_\n",
    "        self.intercept_ = self.regression.intercept_\n",
    "        return self\n",
    "    def predict(self, X):\n",
    "        X_reduced = self.pca.transform(X)\n",
    "        X_returned = self.pca.inverse_transform(X_reduced)\n",
    "        return self.regression.predict(X_returned)"
   ]
  },
  {
   "cell_type": "code",
   "execution_count": 82,
   "id": "f9562804-2247-41f9-8f60-ef585de4dac4",
   "metadata": {},
   "outputs": [],
   "source": [
    "# データを定義します\n",
    "X1 = np.array([[-1.12, -0.51, 0.69],\n",
    "\t\t\t[-0.43, -1.12, 1.02],\n",
    "\t\t\t[0.37, 1.10, -0.98],\n",
    "\t\t\t[1.19, 0.53, -0.73]])\n",
    "\n",
    "X2 = np.array([[-1.12, -0.51, 0.70],\n",
    "\t\t\t[-0.43, -1.12, 1.01],\n",
    "\t\t\t[0.36, 1.10, -0.98],\n",
    "\t\t\t[1.20, 0.53, -0.73]])\n",
    "\n",
    "y = np.array([0.4, 1.17, -1.14, -0.42])#.reshape(-1.1)\n",
    "y = y.reshape(-1,1)"
   ]
  },
  {
   "cell_type": "code",
   "execution_count": 83,
   "id": "c838f881-bd9e-430f-81f0-5f587eea2b40",
   "metadata": {},
   "outputs": [
    {
     "data": {
      "text/plain": [
       "array([[ 0.2585, -0.6887,  0.4939]])"
      ]
     },
     "execution_count": 83,
     "metadata": {},
     "output_type": "execute_result"
    }
   ],
   "source": [
    "pcr = MyPCR(n_components=2)\n",
    "pcr.fit(X1,y)\n",
    "pcr.coef_"
   ]
  },
  {
   "cell_type": "code",
   "execution_count": 85,
   "id": "d9757d0b-4ba1-4faf-b668-391b99015f57",
   "metadata": {},
   "outputs": [
    {
     "data": {
      "text/plain": [
       "array([[ 0.2593, -0.6921,  0.4915]])"
      ]
     },
     "execution_count": 85,
     "metadata": {},
     "output_type": "execute_result"
    }
   ],
   "source": [
    "pcr = MyPCR(n_components=2)\n",
    "pcr.fit(X2,y)\n",
    "pcr.coef_"
   ]
  },
  {
   "cell_type": "code",
   "execution_count": null,
   "id": "dd41fb9b-3ec2-4df4-9531-548a54406c5a",
   "metadata": {},
   "outputs": [],
   "source": []
  },
  {
   "cell_type": "code",
   "execution_count": null,
   "id": "85ad1fa1-d2f6-40e7-81db-d22cef6698d3",
   "metadata": {},
   "outputs": [],
   "source": []
  },
  {
   "cell_type": "code",
   "execution_count": 37,
   "id": "09dfe1ad-ec27-4c43-ae20-bdd3a010c50e",
   "metadata": {},
   "outputs": [
    {
     "data": {
      "text/plain": [
       "array([[-0.30313657, -0.3285865 ,  0.34217235]])"
      ]
     },
     "execution_count": 37,
     "metadata": {},
     "output_type": "execute_result"
    }
   ],
   "source": [
    "pcr = PCR(n_components=1)\n",
    "pcr.fit(X1,y)\n",
    "pcr.coef_"
   ]
  },
  {
   "cell_type": "code",
   "execution_count": 38,
   "id": "0e8fcb11-0f80-4370-8d30-0d7f9f5895c4",
   "metadata": {},
   "outputs": [
    {
     "data": {
      "text/plain": [
       "array([[-0.30335576, -0.32755517,  0.34127552]])"
      ]
     },
     "execution_count": 38,
     "metadata": {},
     "output_type": "execute_result"
    }
   ],
   "source": [
    "pcr = PCR(n_components=1)\n",
    "pcr.fit(X2,y)\n",
    "pcr.coef_"
   ]
  },
  {
   "cell_type": "code",
   "execution_count": null,
   "id": "3dc81ab6-3398-41a9-97e3-bfe80a43c788",
   "metadata": {},
   "outputs": [],
   "source": []
  },
  {
   "cell_type": "markdown",
   "id": "33c3781d-063e-4799-86cd-3be531cdd477",
   "metadata": {},
   "source": [
    "## 3.11 リッジ回帰"
   ]
  },
  {
   "cell_type": "code",
   "execution_count": 39,
   "id": "e09e9570-0cce-47b9-929b-246f992bed45",
   "metadata": {},
   "outputs": [],
   "source": [
    "from sklearn.linear_model import Ridge"
   ]
  },
  {
   "cell_type": "code",
   "execution_count": 40,
   "id": "d84d26cb-2daf-4005-bbe2-081142b5c89c",
   "metadata": {},
   "outputs": [
    {
     "data": {
      "text/plain": [
       "array([[ 0.21086988, -0.65140733,  0.476123  ]])"
      ]
     },
     "execution_count": 40,
     "metadata": {},
     "output_type": "execute_result"
    }
   ],
   "source": [
    "ridge = Ridge(alpha=0.1)\n",
    "ridge.fit(X1, y)\n",
    "ridge.coef_"
   ]
  },
  {
   "cell_type": "code",
   "execution_count": 41,
   "id": "a9cd62d4-e8f6-4a22-aba5-7b2e7d46a327",
   "metadata": {},
   "outputs": [
    {
     "data": {
      "text/plain": [
       "array([[ 0.21196132, -0.65546988,  0.47319793]])"
      ]
     },
     "execution_count": 41,
     "metadata": {},
     "output_type": "execute_result"
    }
   ],
   "source": [
    "ridge = Ridge(alpha=0.1)\n",
    "ridge.fit(X2, y)\n",
    "ridge.coef_"
   ]
  },
  {
   "cell_type": "code",
   "execution_count": 42,
   "id": "71f38e96-cfa6-47fb-a596-7352ae382061",
   "metadata": {},
   "outputs": [
    {
     "data": {
      "text/plain": [
       "array([[ 0.01016249, -0.47145234,  0.37979504]])"
      ]
     },
     "execution_count": 42,
     "metadata": {},
     "output_type": "execute_result"
    }
   ],
   "source": [
    "ridge = Ridge(alpha=1)\n",
    "ridge.fit(X1, y)\n",
    "ridge.coef_"
   ]
  },
  {
   "cell_type": "code",
   "execution_count": 43,
   "id": "c4cf663a-e8f0-4207-b7ce-edf959c188dc",
   "metadata": {},
   "outputs": [
    {
     "data": {
      "text/plain": [
       "array([[ 0.01226369, -0.4739586 ,  0.37864398]])"
      ]
     },
     "execution_count": 43,
     "metadata": {},
     "output_type": "execute_result"
    }
   ],
   "source": [
    "ridge = Ridge(alpha=1)\n",
    "ridge.fit(X2, y)\n",
    "ridge.coef_"
   ]
  },
  {
   "cell_type": "code",
   "execution_count": null,
   "id": "ac344092-15e5-4508-beb5-f22a836e7ac3",
   "metadata": {},
   "outputs": [],
   "source": []
  },
  {
   "cell_type": "markdown",
   "id": "dd229961-c4ca-43e9-af1f-8e257f9d1483",
   "metadata": {},
   "source": [
    "## 部分的最小二乗法 (PLS)"
   ]
  },
  {
   "cell_type": "code",
   "execution_count": 44,
   "id": "0d79c396-26ff-4356-afd1-ae5648f0dc32",
   "metadata": {},
   "outputs": [],
   "source": [
    "from sklearn.cross_decomposition import PLSRegression"
   ]
  },
  {
   "cell_type": "code",
   "execution_count": 45,
   "id": "2baa2784-7875-4072-a26d-b7b6681e7e96",
   "metadata": {},
   "outputs": [
    {
     "data": {
      "text/plain": [
       "array([[ 0.2580916 ],\n",
       "       [-0.6895284 ],\n",
       "       [ 0.49445928]])"
      ]
     },
     "execution_count": 45,
     "metadata": {},
     "output_type": "execute_result"
    }
   ],
   "source": [
    "pls = PLSRegression(n_components=2)\n",
    "pls.fit(X1, y)\n",
    "pls.coef_"
   ]
  },
  {
   "cell_type": "code",
   "execution_count": 46,
   "id": "8f870ab9-1f2f-4e75-b412-063ea59a226f",
   "metadata": {},
   "outputs": [
    {
     "data": {
      "text/plain": [
       "array([[ 0.25968446],\n",
       "       [-0.69266567],\n",
       "       [ 0.49185871]])"
      ]
     },
     "execution_count": 46,
     "metadata": {},
     "output_type": "execute_result"
    }
   ],
   "source": [
    "pls = PLSRegression(n_components=2)\n",
    "pls.fit(X2, y)\n",
    "pls.coef_"
   ]
  },
  {
   "cell_type": "code",
   "execution_count": null,
   "id": "e9495cf2-f57a-4ac8-8adb-ca2651b0e482",
   "metadata": {},
   "outputs": [],
   "source": []
  },
  {
   "cell_type": "code",
   "execution_count": 47,
   "id": "d8a61485-0d89-4570-a6fd-2136035179e6",
   "metadata": {},
   "outputs": [
    {
     "data": {
      "text/plain": [
       "array([[-0.23884676],\n",
       "       [-0.38063732],\n",
       "       [ 0.36792198]])"
      ]
     },
     "execution_count": 47,
     "metadata": {},
     "output_type": "execute_result"
    }
   ],
   "source": [
    "pls = PLSRegression(n_components=1)\n",
    "pls.fit(X1, y)\n",
    "pls.coef_"
   ]
  },
  {
   "cell_type": "code",
   "execution_count": 48,
   "id": "db14ee23-0665-466e-8439-69e7b7027fba",
   "metadata": {},
   "outputs": [
    {
     "data": {
      "text/plain": [
       "array([[-0.23767287],\n",
       "       [-0.38128164],\n",
       "       [ 0.36795534]])"
      ]
     },
     "execution_count": 48,
     "metadata": {},
     "output_type": "execute_result"
    }
   ],
   "source": [
    "pls = PLSRegression(n_components=1)\n",
    "pls.fit(X2, y)\n",
    "pls.coef_"
   ]
  },
  {
   "cell_type": "code",
   "execution_count": null,
   "id": "10539ade-583c-463c-9ddc-d56a1d763561",
   "metadata": {},
   "outputs": [],
   "source": []
  },
  {
   "cell_type": "markdown",
   "id": "7c66a11e-baf5-47c0-8fe8-eecf156ceeec",
   "metadata": {},
   "source": [
    "## SImpls"
   ]
  },
  {
   "cell_type": "code",
   "execution_count": null,
   "id": "de16b0e2-b429-4069-9bb1-5ca07cfe7ad5",
   "metadata": {},
   "outputs": [],
   "source": []
  },
  {
   "cell_type": "code",
   "execution_count": 49,
   "id": "4b997f5d-bfbe-413e-b27e-37624aa051ba",
   "metadata": {},
   "outputs": [
    {
     "data": {
      "text/plain": [
       "array([[ 0.2580916 ],\n",
       "       [-0.6895284 ],\n",
       "       [ 0.49445928]])"
      ]
     },
     "execution_count": 49,
     "metadata": {},
     "output_type": "execute_result"
    }
   ],
   "source": [
    "pls = PLSRegression(n_components=2)\n",
    "pls.fit(X1, y)\n",
    "pls.coef_"
   ]
  },
  {
   "cell_type": "code",
   "execution_count": null,
   "id": "69b2887d-edee-428a-b432-c33a6e234f19",
   "metadata": {},
   "outputs": [],
   "source": []
  },
  {
   "cell_type": "code",
   "execution_count": null,
   "id": "fee5c96c-b8e6-4e27-ba3f-cf2a829ada9b",
   "metadata": {},
   "outputs": [],
   "source": []
  },
  {
   "cell_type": "markdown",
   "id": "c3105dea-bc11-4439-90c0-cbd8098d383f",
   "metadata": {},
   "source": [
    "# Last"
   ]
  },
  {
   "cell_type": "code",
   "execution_count": 50,
   "id": "19faea9e-434e-4013-8472-e2642fb909d4",
   "metadata": {},
   "outputs": [],
   "source": [
    "import numpy as np"
   ]
  },
  {
   "cell_type": "code",
   "execution_count": 51,
   "id": "30354879-c7b8-43f3-9ad3-dd7d01e9aa16",
   "metadata": {},
   "outputs": [
    {
     "data": {
      "text/plain": [
       "3.14159169865946"
      ]
     },
     "execution_count": 51,
     "metadata": {},
     "output_type": "execute_result"
    }
   ],
   "source": [
    "N = 1_000_000\n",
    "total = 0\n",
    "for i in range(1,N):\n",
    "    total += 6/i**2\n",
    "    \n",
    "np.sqrt(total)"
   ]
  },
  {
   "cell_type": "code",
   "execution_count": 52,
   "id": "88b3a823-7e78-490c-b093-9f3254417417",
   "metadata": {},
   "outputs": [
    {
     "data": {
      "text/plain": [
       "3.141592653589793"
      ]
     },
     "execution_count": 52,
     "metadata": {},
     "output_type": "execute_result"
    }
   ],
   "source": [
    "np.pi"
   ]
  },
  {
   "cell_type": "code",
   "execution_count": null,
   "id": "556fb2c2-02ae-4e7c-b84c-ac28083c88fd",
   "metadata": {},
   "outputs": [],
   "source": []
  }
 ],
 "metadata": {
  "kernelspec": {
   "display_name": "py38",
   "language": "python",
   "name": "py38"
  },
  "language_info": {
   "codemirror_mode": {
    "name": "ipython",
    "version": 3
   },
   "file_extension": ".py",
   "mimetype": "text/x-python",
   "name": "python",
   "nbconvert_exporter": "python",
   "pygments_lexer": "ipython3",
   "version": "3.8.12"
  },
  "toc-showmarkdowntxt": false
 },
 "nbformat": 4,
 "nbformat_minor": 5
}
